{
 "cells": [
  {
   "cell_type": "code",
   "execution_count": 5,
   "id": "28e5523b-58bd-4d5b-8c2b-24d97a1dc708",
   "metadata": {
    "scrolled": true
   },
   "outputs": [
    {
     "name": "stdout",
     "output_type": "stream",
     "text": [
      "Defaulting to user installation because normal site-packages is not writeable\n",
      "Requirement already satisfied: roboflow in c:\\users\\pedro\\appdata\\roaming\\python\\python312\\site-packages (1.1.64)\n",
      "Requirement already satisfied: ultralytics in c:\\users\\pedro\\appdata\\roaming\\python\\python312\\site-packages (8.3.140)\n",
      "Requirement already satisfied: opencv-python in c:\\users\\pedro\\appdata\\roaming\\python\\python312\\site-packages (4.11.0.86)\n",
      "Requirement already satisfied: pyautogui in c:\\users\\pedro\\appdata\\roaming\\python\\python312\\site-packages (0.9.54)\n",
      "Requirement already satisfied: pillow in c:\\users\\pedro\\appdata\\roaming\\python\\python312\\site-packages (11.2.1)\n",
      "Requirement already satisfied: matplotlib in c:\\users\\pedro\\appdata\\roaming\\python\\python312\\site-packages (3.10.3)\n",
      "Requirement already satisfied: certifi in c:\\users\\pedro\\appdata\\roaming\\python\\python312\\site-packages (from roboflow) (2025.4.26)\n",
      "Requirement already satisfied: idna==3.7 in c:\\users\\pedro\\appdata\\roaming\\python\\python312\\site-packages (from roboflow) (3.7)\n",
      "Requirement already satisfied: cycler in c:\\users\\pedro\\appdata\\roaming\\python\\python312\\site-packages (from roboflow) (0.12.1)\n",
      "Requirement already satisfied: kiwisolver>=1.3.1 in c:\\users\\pedro\\appdata\\roaming\\python\\python312\\site-packages (from roboflow) (1.4.8)\n",
      "Requirement already satisfied: numpy>=1.18.5 in c:\\users\\pedro\\appdata\\roaming\\python\\python312\\site-packages (from roboflow) (2.2.6)\n",
      "Requirement already satisfied: opencv-python-headless==4.10.0.84 in c:\\users\\pedro\\appdata\\roaming\\python\\python312\\site-packages (from roboflow) (4.10.0.84)\n",
      "Requirement already satisfied: pillow-heif>=0.18.0 in c:\\users\\pedro\\appdata\\roaming\\python\\python312\\site-packages (from roboflow) (0.22.0)\n",
      "Requirement already satisfied: python-dateutil in c:\\users\\pedro\\appdata\\roaming\\python\\python312\\site-packages (from roboflow) (2.9.0.post0)\n",
      "Requirement already satisfied: python-dotenv in c:\\users\\pedro\\appdata\\roaming\\python\\python312\\site-packages (from roboflow) (1.1.0)\n",
      "Requirement already satisfied: requests in c:\\users\\pedro\\appdata\\roaming\\python\\python312\\site-packages (from roboflow) (2.32.3)\n",
      "Requirement already satisfied: six in c:\\users\\pedro\\appdata\\roaming\\python\\python312\\site-packages (from roboflow) (1.17.0)\n",
      "Requirement already satisfied: urllib3>=1.26.6 in c:\\users\\pedro\\appdata\\roaming\\python\\python312\\site-packages (from roboflow) (2.4.0)\n",
      "Requirement already satisfied: tqdm>=4.41.0 in c:\\users\\pedro\\appdata\\roaming\\python\\python312\\site-packages (from roboflow) (4.67.1)\n",
      "Requirement already satisfied: PyYAML>=5.3.1 in c:\\users\\pedro\\appdata\\roaming\\python\\python312\\site-packages (from roboflow) (6.0.2)\n",
      "Requirement already satisfied: requests-toolbelt in c:\\users\\pedro\\appdata\\roaming\\python\\python312\\site-packages (from roboflow) (1.0.0)\n",
      "Requirement already satisfied: filetype in c:\\users\\pedro\\appdata\\roaming\\python\\python312\\site-packages (from roboflow) (1.2.0)\n",
      "Requirement already satisfied: scipy>=1.4.1 in c:\\users\\pedro\\appdata\\roaming\\python\\python312\\site-packages (from ultralytics) (1.15.3)\n",
      "Requirement already satisfied: torch>=1.8.0 in c:\\users\\pedro\\appdata\\roaming\\python\\python312\\site-packages (from ultralytics) (2.7.0)\n",
      "Requirement already satisfied: torchvision>=0.9.0 in c:\\users\\pedro\\appdata\\roaming\\python\\python312\\site-packages (from ultralytics) (0.22.0)\n",
      "Requirement already satisfied: psutil in c:\\users\\pedro\\appdata\\roaming\\python\\python312\\site-packages (from ultralytics) (7.0.0)\n",
      "Requirement already satisfied: py-cpuinfo in c:\\users\\pedro\\appdata\\roaming\\python\\python312\\site-packages (from ultralytics) (9.0.0)\n",
      "Requirement already satisfied: pandas>=1.1.4 in c:\\users\\pedro\\appdata\\roaming\\python\\python312\\site-packages (from ultralytics) (2.2.3)\n",
      "Requirement already satisfied: ultralytics-thop>=2.0.0 in c:\\users\\pedro\\appdata\\roaming\\python\\python312\\site-packages (from ultralytics) (2.0.14)\n",
      "Requirement already satisfied: pymsgbox in c:\\users\\pedro\\appdata\\roaming\\python\\python312\\site-packages (from pyautogui) (1.0.9)\n",
      "Requirement already satisfied: pytweening>=1.0.4 in c:\\users\\pedro\\appdata\\roaming\\python\\python312\\site-packages (from pyautogui) (1.2.0)\n",
      "Requirement already satisfied: pyscreeze>=0.1.21 in c:\\users\\pedro\\appdata\\roaming\\python\\python312\\site-packages (from pyautogui) (1.0.1)\n",
      "Requirement already satisfied: pygetwindow>=0.0.5 in c:\\users\\pedro\\appdata\\roaming\\python\\python312\\site-packages (from pyautogui) (0.0.9)\n",
      "Requirement already satisfied: mouseinfo in c:\\users\\pedro\\appdata\\roaming\\python\\python312\\site-packages (from pyautogui) (0.1.3)\n",
      "Requirement already satisfied: contourpy>=1.0.1 in c:\\users\\pedro\\appdata\\roaming\\python\\python312\\site-packages (from matplotlib) (1.3.2)\n",
      "Requirement already satisfied: fonttools>=4.22.0 in c:\\users\\pedro\\appdata\\roaming\\python\\python312\\site-packages (from matplotlib) (4.58.0)\n",
      "Requirement already satisfied: packaging>=20.0 in c:\\users\\pedro\\appdata\\roaming\\python\\python312\\site-packages (from matplotlib) (25.0)\n",
      "Requirement already satisfied: pyparsing>=2.3.1 in c:\\users\\pedro\\appdata\\roaming\\python\\python312\\site-packages (from matplotlib) (3.2.3)\n",
      "Requirement already satisfied: pytz>=2020.1 in c:\\users\\pedro\\appdata\\roaming\\python\\python312\\site-packages (from pandas>=1.1.4->ultralytics) (2025.2)\n",
      "Requirement already satisfied: tzdata>=2022.7 in c:\\users\\pedro\\appdata\\roaming\\python\\python312\\site-packages (from pandas>=1.1.4->ultralytics) (2025.2)\n",
      "Requirement already satisfied: pyrect in c:\\users\\pedro\\appdata\\roaming\\python\\python312\\site-packages (from pygetwindow>=0.0.5->pyautogui) (0.2.0)\n",
      "Requirement already satisfied: charset-normalizer<4,>=2 in c:\\users\\pedro\\appdata\\roaming\\python\\python312\\site-packages (from requests->roboflow) (3.4.2)\n",
      "Requirement already satisfied: filelock in c:\\users\\pedro\\appdata\\roaming\\python\\python312\\site-packages (from torch>=1.8.0->ultralytics) (3.18.0)\n",
      "Requirement already satisfied: typing-extensions>=4.10.0 in c:\\users\\pedro\\appdata\\roaming\\python\\python312\\site-packages (from torch>=1.8.0->ultralytics) (4.13.2)\n",
      "Requirement already satisfied: sympy>=1.13.3 in c:\\users\\pedro\\appdata\\roaming\\python\\python312\\site-packages (from torch>=1.8.0->ultralytics) (1.14.0)\n",
      "Requirement already satisfied: networkx in c:\\users\\pedro\\appdata\\roaming\\python\\python312\\site-packages (from torch>=1.8.0->ultralytics) (3.4.2)\n",
      "Requirement already satisfied: jinja2 in c:\\users\\pedro\\appdata\\roaming\\python\\python312\\site-packages (from torch>=1.8.0->ultralytics) (3.1.6)\n",
      "Requirement already satisfied: fsspec in c:\\users\\pedro\\appdata\\roaming\\python\\python312\\site-packages (from torch>=1.8.0->ultralytics) (2025.3.2)\n",
      "Requirement already satisfied: setuptools in c:\\users\\pedro\\appdata\\roaming\\python\\python312\\site-packages (from torch>=1.8.0->ultralytics) (80.7.1)\n",
      "Requirement already satisfied: mpmath<1.4,>=1.1.0 in c:\\users\\pedro\\appdata\\roaming\\python\\python312\\site-packages (from sympy>=1.13.3->torch>=1.8.0->ultralytics) (1.3.0)\n",
      "Requirement already satisfied: colorama in c:\\users\\pedro\\appdata\\roaming\\python\\python312\\site-packages (from tqdm>=4.41.0->roboflow) (0.4.6)\n",
      "Requirement already satisfied: MarkupSafe>=2.0 in c:\\users\\pedro\\appdata\\roaming\\python\\python312\\site-packages (from jinja2->torch>=1.8.0->ultralytics) (3.0.2)\n",
      "Requirement already satisfied: pyperclip in c:\\users\\pedro\\appdata\\roaming\\python\\python312\\site-packages (from mouseinfo->pyautogui) (1.9.0)\n"
     ]
    }
   ],
   "source": [
    "!pip install roboflow ultralytics opencv-python pyautogui pillow matplotlib"
   ]
  },
  {
   "cell_type": "code",
   "execution_count": 2,
   "id": "45cfaf51-a74c-48ef-9ef1-5d901e689a6e",
   "metadata": {},
   "outputs": [
    {
     "name": "stdout",
     "output_type": "stream",
     "text": [
      "Ultralytics 8.3.140  Python-3.12.6 torch-2.7.0+cpu CPU (Intel Core(TM) i5-9400F 2.90GHz)\n",
      "Setup complete  (6 CPUs, 15.9 GB RAM, 366.7/464.9 GB disk)\n"
     ]
    }
   ],
   "source": [
    "from IPython import display\n",
    "display.clear_output()\n",
    "\n",
    "import cv2\n",
    "import os\n",
    "import matplotlib.pyplot as plt\n",
    "import matplotlib.image as mpimg\n",
    "\n",
    "import roboflow\n",
    "\n",
    "import ultralytics\n",
    "from ultralytics import YOLO\n",
    "ultralytics.checks() "
   ]
  },
  {
   "cell_type": "code",
   "execution_count": 3,
   "id": "f6c3bf36-2248-4b04-a58e-1bb73816d35e",
   "metadata": {},
   "outputs": [
    {
     "name": "stdout",
     "output_type": "stream",
     "text": [
      "False\n",
      "False\n"
     ]
    }
   ],
   "source": [
    "# Em apple sillicon, verificar se o MPS está disponível\n",
    "import torch\n",
    "print(torch.backends.mps.is_available())\n",
    "print(torch.cuda.is_available())"
   ]
  },
  {
   "cell_type": "code",
   "execution_count": 4,
   "id": "9d18a084",
   "metadata": {},
   "outputs": [
    {
     "name": "stdout",
     "output_type": "stream",
     "text": [
      "You are already logged into Roboflow. To make a different login,run roboflow.login(force=True).\n",
      "loading Roboflow workspace...\n",
      "loading Roboflow project...\n"
     ]
    }
   ],
   "source": [
    "# descarregar o dataset do roboflow, depois de etiquetadas as imagens e criado o dataset\n",
    "# em Mac tive problemas de permissões e foi necessário dar permissões à pasta de conf. do roboflow:\n",
    "# - sudo mkdir /Users/davidecarneiro/.config/roboflow (criar pasta onde vai guardar a conf.)\n",
    "# - sudo chown -R davidecarneiro:staff ~/.config/roboflow (dar permissões ao meu user)\n",
    "roboflow.login()\n",
    "\n",
    "rf = roboflow.Roboflow(api_key=\"i12qz59IXqTcb5Gu8B8G\")\n",
    "\n",
    "# substituir nome do workspace e do projeto\n",
    "project = rf.workspace(\"ia-20242025\").project(\"ai-avfea\")\n",
    "# se versão do dataset > 1, substituir pela versão correspondente\n",
    "dataset = project.version(7).download(\"yolov8\")\n",
    "# WARN: necessário verificar os paths no ficheiro data.yaml, após este ser descarregado"
   ]
  },
  {
   "cell_type": "code",
   "execution_count": 5,
   "id": "966b60f7",
   "metadata": {},
   "outputs": [
    {
     "name": "stdout",
     "output_type": "stream",
     "text": [
      "Ultralytics 8.3.140  Python-3.12.6 torch-2.7.0+cpu CPU (Intel Core(TM) i5-9400F 2.90GHz)\n",
      "\u001b[34m\u001b[1mengine\\trainer: \u001b[0magnostic_nms=False, amp=True, augment=False, auto_augment=randaugment, batch=16, bgr=0.0, box=7.5, cache=False, cfg=None, classes=None, close_mosaic=10, cls=0.5, conf=None, copy_paste=0.0, copy_paste_mode=flip, cos_lr=False, cutmix=0.0, data=AI-7/data.yaml, degrees=0.0, deterministic=True, device=cpu, dfl=1.5, dnn=False, dropout=0.0, dynamic=False, embed=None, epochs=100, erasing=0.4, exist_ok=False, fliplr=0.5, flipud=0.0, format=torchscript, fraction=1.0, freeze=None, half=False, hsv_h=0.015, hsv_s=0.7, hsv_v=0.4, imgsz=640, int8=False, iou=0.7, keras=False, kobj=1.0, line_width=None, lr0=0.01, lrf=0.01, mask_ratio=4, max_det=300, mixup=0.0, mode=train, model=yolov8m.pt, momentum=0.937, mosaic=1.0, multi_scale=False, name=train, nbs=64, nms=False, opset=None, optimize=False, optimizer=auto, overlap_mask=True, patience=100, perspective=0.0, plots=True, pose=12.0, pretrained=True, profile=False, project=None, rect=False, resume=False, retina_masks=False, save=True, save_conf=False, save_crop=False, save_dir=runs\\detect\\train, save_frames=False, save_json=False, save_period=-1, save_txt=False, scale=0.5, seed=0, shear=0.0, show=False, show_boxes=True, show_conf=True, show_labels=True, simplify=True, single_cls=False, source=None, split=val, stream_buffer=False, task=detect, time=None, tracker=botsort.yaml, translate=0.1, val=True, verbose=True, vid_stride=1, visualize=False, warmup_bias_lr=0.1, warmup_epochs=3.0, warmup_momentum=0.8, weight_decay=0.0005, workers=8, workspace=None\n",
      "Overriding model.yaml nc=80 with nc=12\n",
      "\n",
      "                   from  n    params  module                                       arguments                     \n",
      "  0                  -1  1      1392  ultralytics.nn.modules.conv.Conv             [3, 48, 3, 2]                 \n",
      "  1                  -1  1     41664  ultralytics.nn.modules.conv.Conv             [48, 96, 3, 2]                \n",
      "  2                  -1  2    111360  ultralytics.nn.modules.block.C2f             [96, 96, 2, True]             \n",
      "  3                  -1  1    166272  ultralytics.nn.modules.conv.Conv             [96, 192, 3, 2]               \n",
      "  4                  -1  4    813312  ultralytics.nn.modules.block.C2f             [192, 192, 4, True]           \n",
      "  5                  -1  1    664320  ultralytics.nn.modules.conv.Conv             [192, 384, 3, 2]              \n",
      "  6                  -1  4   3248640  ultralytics.nn.modules.block.C2f             [384, 384, 4, True]           \n",
      "  7                  -1  1   1991808  ultralytics.nn.modules.conv.Conv             [384, 576, 3, 2]              \n",
      "  8                  -1  2   3985920  ultralytics.nn.modules.block.C2f             [576, 576, 2, True]           \n",
      "  9                  -1  1    831168  ultralytics.nn.modules.block.SPPF            [576, 576, 5]                 \n",
      " 10                  -1  1         0  torch.nn.modules.upsampling.Upsample         [None, 2, 'nearest']          \n",
      " 11             [-1, 6]  1         0  ultralytics.nn.modules.conv.Concat           [1]                           \n",
      " 12                  -1  2   1993728  ultralytics.nn.modules.block.C2f             [960, 384, 2]                 \n",
      " 13                  -1  1         0  torch.nn.modules.upsampling.Upsample         [None, 2, 'nearest']          \n",
      " 14             [-1, 4]  1         0  ultralytics.nn.modules.conv.Concat           [1]                           \n",
      " 15                  -1  2    517632  ultralytics.nn.modules.block.C2f             [576, 192, 2]                 \n",
      " 16                  -1  1    332160  ultralytics.nn.modules.conv.Conv             [192, 192, 3, 2]              \n",
      " 17            [-1, 12]  1         0  ultralytics.nn.modules.conv.Concat           [1]                           \n",
      " 18                  -1  2   1846272  ultralytics.nn.modules.block.C2f             [576, 384, 2]                 \n",
      " 19                  -1  1   1327872  ultralytics.nn.modules.conv.Conv             [384, 384, 3, 2]              \n",
      " 20             [-1, 9]  1         0  ultralytics.nn.modules.conv.Concat           [1]                           \n",
      " 21                  -1  2   4207104  ultralytics.nn.modules.block.C2f             [960, 576, 2]                 \n",
      " 22        [15, 18, 21]  1   3782644  ultralytics.nn.modules.head.Detect           [12, [192, 384, 576]]         \n",
      "Model summary: 169 layers, 25,863,268 parameters, 25,863,252 gradients, 79.1 GFLOPs\n",
      "\n",
      "Transferred 469/475 items from pretrained weights\n",
      "Freezing layer 'model.22.dfl.conv.weight'\n",
      "\u001b[34m\u001b[1mtrain: \u001b[0mFast image access  (ping: 0.20.0 ms, read: 42.913.1 MB/s, size: 43.5 KB)\n"
     ]
    },
    {
     "name": "stderr",
     "output_type": "stream",
     "text": [
      "\u001b[34m\u001b[1mtrain: \u001b[0mScanning C:\\Users\\pedro\\Desktop\\IA_PROJETO\\AI-7\\train\\labels.cache... 1221 images, 3 backgrounds, 0 corrupt: 100%|██████████| 1221/1221 [00:00<?, ?it/s]"
     ]
    },
    {
     "name": "stdout",
     "output_type": "stream",
     "text": [
      "WARNING Box and segment counts should be equal, but got len(segments) = 186, len(boxes) = 27150. To resolve this only boxes will be used and all segments will be removed. To avoid this please supply either a detect or segment dataset, not a detect-segment mixed dataset.\n",
      "\u001b[34m\u001b[1mval: \u001b[0mFast image access  (ping: 0.30.3 ms, read: 31.48.8 MB/s, size: 25.2 KB)\n"
     ]
    },
    {
     "name": "stderr",
     "output_type": "stream",
     "text": [
      "\n",
      "'pin_memory' argument is set as true but no accelerator is found, then device pinned memory won't be used.\n",
      "\u001b[34m\u001b[1mval: \u001b[0mScanning C:\\Users\\pedro\\Desktop\\IA_PROJETO\\AI-7\\valid\\labels.cache... 117 images, 0 backgrounds, 0 corrupt: 100%|██████████| 117/117 [00:00<?, ?it/s]\n",
      "'pin_memory' argument is set as true but no accelerator is found, then device pinned memory won't be used.\n"
     ]
    },
    {
     "name": "stdout",
     "output_type": "stream",
     "text": [
      "Plotting labels to runs\\detect\\train\\labels.jpg... \n",
      "\u001b[34m\u001b[1moptimizer:\u001b[0m 'optimizer=auto' found, ignoring 'lr0=0.01' and 'momentum=0.937' and determining best 'optimizer', 'lr0' and 'momentum' automatically... \n",
      "\u001b[34m\u001b[1moptimizer:\u001b[0m AdamW(lr=0.000625, momentum=0.9) with parameter groups 77 weight(decay=0.0), 84 weight(decay=0.0005), 83 bias(decay=0.0)\n",
      "Image sizes 640 train, 640 val\n",
      "Using 0 dataloader workers\n",
      "Logging results to \u001b[1mruns\\detect\\train\u001b[0m\n",
      "Starting training for 100 epochs...\n",
      "\n",
      "      Epoch    GPU_mem   box_loss   cls_loss   dfl_loss  Instances       Size\n"
     ]
    },
    {
     "name": "stderr",
     "output_type": "stream",
     "text": [
      "      1/100         0G     0.6585      1.017     0.9075        149        640: 100%|██████████| 77/77 [30:03<00:00, 23.42s/it] \n",
      "                 Class     Images  Instances      Box(P          R      mAP50  mAP50-95): 100%|██████████| 4/4 [01:03<00:00, 15.90s/it]"
     ]
    },
    {
     "name": "stdout",
     "output_type": "stream",
     "text": [
      "                   all        117       2533      0.996      0.999      0.993      0.873\n"
     ]
    },
    {
     "name": "stderr",
     "output_type": "stream",
     "text": [
      "\n"
     ]
    },
    {
     "name": "stdout",
     "output_type": "stream",
     "text": [
      "\n",
      "      Epoch    GPU_mem   box_loss   cls_loss   dfl_loss  Instances       Size\n"
     ]
    },
    {
     "name": "stderr",
     "output_type": "stream",
     "text": [
      "      2/100         0G     0.5909     0.3537     0.8809        146        640: 100%|██████████| 77/77 [26:29<00:00, 20.65s/it]\n",
      "                 Class     Images  Instances      Box(P          R      mAP50  mAP50-95): 100%|██████████| 4/4 [00:55<00:00, 13.79s/it]"
     ]
    },
    {
     "name": "stdout",
     "output_type": "stream",
     "text": [
      "                   all        117       2533      0.996      0.999      0.993      0.875\n"
     ]
    },
    {
     "name": "stderr",
     "output_type": "stream",
     "text": [
      "\n"
     ]
    },
    {
     "name": "stdout",
     "output_type": "stream",
     "text": [
      "\n",
      "      Epoch    GPU_mem   box_loss   cls_loss   dfl_loss  Instances       Size\n"
     ]
    },
    {
     "name": "stderr",
     "output_type": "stream",
     "text": [
      "      3/100         0G     0.5717     0.3342      0.879        138        640: 100%|██████████| 77/77 [26:24<00:00, 20.57s/it]\n",
      "                 Class     Images  Instances      Box(P          R      mAP50  mAP50-95): 100%|██████████| 4/4 [00:55<00:00, 13.81s/it]"
     ]
    },
    {
     "name": "stdout",
     "output_type": "stream",
     "text": [
      "                   all        117       2533      0.996      0.998      0.993      0.883\n"
     ]
    },
    {
     "name": "stderr",
     "output_type": "stream",
     "text": [
      "\n"
     ]
    },
    {
     "name": "stdout",
     "output_type": "stream",
     "text": [
      "\n",
      "      Epoch    GPU_mem   box_loss   cls_loss   dfl_loss  Instances       Size\n"
     ]
    },
    {
     "name": "stderr",
     "output_type": "stream",
     "text": [
      "      4/100         0G     0.5577     0.3188     0.8765        180        640: 100%|██████████| 77/77 [26:50<00:00, 20.91s/it]\n",
      "                 Class     Images  Instances      Box(P          R      mAP50  mAP50-95): 100%|██████████| 4/4 [00:55<00:00, 13.87s/it]"
     ]
    },
    {
     "name": "stdout",
     "output_type": "stream",
     "text": [
      "                   all        117       2533      0.995      0.999      0.993      0.886\n"
     ]
    },
    {
     "name": "stderr",
     "output_type": "stream",
     "text": [
      "\n"
     ]
    },
    {
     "name": "stdout",
     "output_type": "stream",
     "text": [
      "\n",
      "      Epoch    GPU_mem   box_loss   cls_loss   dfl_loss  Instances       Size\n"
     ]
    },
    {
     "name": "stderr",
     "output_type": "stream",
     "text": [
      "      5/100         0G     0.5423     0.3009      0.872        178        640: 100%|██████████| 77/77 [26:14<00:00, 20.44s/it]\n",
      "                 Class     Images  Instances      Box(P          R      mAP50  mAP50-95): 100%|██████████| 4/4 [00:54<00:00, 13.54s/it]"
     ]
    },
    {
     "name": "stdout",
     "output_type": "stream",
     "text": [
      "                   all        117       2533      0.995      0.998      0.994      0.902\n"
     ]
    },
    {
     "name": "stderr",
     "output_type": "stream",
     "text": [
      "\n"
     ]
    },
    {
     "name": "stdout",
     "output_type": "stream",
     "text": [
      "\n",
      "      Epoch    GPU_mem   box_loss   cls_loss   dfl_loss  Instances       Size\n"
     ]
    },
    {
     "name": "stderr",
     "output_type": "stream",
     "text": [
      "      6/100         0G     0.5249     0.2822     0.8688        133        640: 100%|██████████| 77/77 [26:15<00:00, 20.46s/it]\n",
      "                 Class     Images  Instances      Box(P          R      mAP50  mAP50-95): 100%|██████████| 4/4 [00:54<00:00, 13.62s/it]"
     ]
    },
    {
     "name": "stdout",
     "output_type": "stream",
     "text": [
      "                   all        117       2533      0.996      0.999      0.994      0.897\n"
     ]
    },
    {
     "name": "stderr",
     "output_type": "stream",
     "text": [
      "\n"
     ]
    },
    {
     "name": "stdout",
     "output_type": "stream",
     "text": [
      "\n",
      "      Epoch    GPU_mem   box_loss   cls_loss   dfl_loss  Instances       Size\n"
     ]
    },
    {
     "name": "stderr",
     "output_type": "stream",
     "text": [
      "      7/100         0G     0.5168     0.2729     0.8632        118        640: 100%|██████████| 77/77 [26:13<00:00, 20.43s/it]\n",
      "                 Class     Images  Instances      Box(P          R      mAP50  mAP50-95): 100%|██████████| 4/4 [00:53<00:00, 13.45s/it]"
     ]
    },
    {
     "name": "stdout",
     "output_type": "stream",
     "text": [
      "                   all        117       2533      0.997      0.999      0.993      0.897\n"
     ]
    },
    {
     "name": "stderr",
     "output_type": "stream",
     "text": [
      "\n"
     ]
    },
    {
     "name": "stdout",
     "output_type": "stream",
     "text": [
      "\n",
      "      Epoch    GPU_mem   box_loss   cls_loss   dfl_loss  Instances       Size\n"
     ]
    },
    {
     "name": "stderr",
     "output_type": "stream",
     "text": [
      "      8/100         0G     0.4976     0.2664     0.8551        152        640: 100%|██████████| 77/77 [26:23<00:00, 20.56s/it]\n",
      "                 Class     Images  Instances      Box(P          R      mAP50  mAP50-95): 100%|██████████| 4/4 [00:54<00:00, 13.52s/it]"
     ]
    },
    {
     "name": "stdout",
     "output_type": "stream",
     "text": [
      "                   all        117       2533      0.997      0.998      0.994      0.909\n"
     ]
    },
    {
     "name": "stderr",
     "output_type": "stream",
     "text": [
      "\n"
     ]
    },
    {
     "name": "stdout",
     "output_type": "stream",
     "text": [
      "\n",
      "      Epoch    GPU_mem   box_loss   cls_loss   dfl_loss  Instances       Size\n"
     ]
    },
    {
     "name": "stderr",
     "output_type": "stream",
     "text": [
      "      9/100         0G     0.4823     0.2575     0.8567        108        640: 100%|██████████| 77/77 [26:21<00:00, 20.54s/it]\n",
      "                 Class     Images  Instances      Box(P          R      mAP50  mAP50-95): 100%|██████████| 4/4 [00:54<00:00, 13.58s/it]"
     ]
    },
    {
     "name": "stdout",
     "output_type": "stream",
     "text": [
      "                   all        117       2533      0.996      0.999      0.993      0.912\n"
     ]
    },
    {
     "name": "stderr",
     "output_type": "stream",
     "text": [
      "\n"
     ]
    },
    {
     "name": "stdout",
     "output_type": "stream",
     "text": [
      "\n",
      "      Epoch    GPU_mem   box_loss   cls_loss   dfl_loss  Instances       Size\n"
     ]
    },
    {
     "name": "stderr",
     "output_type": "stream",
     "text": [
      "     10/100         0G     0.4671     0.2621     0.8486        237        640: 100%|██████████| 77/77 [26:20<00:00, 20.53s/it]\n",
      "                 Class     Images  Instances      Box(P          R      mAP50  mAP50-95): 100%|██████████| 4/4 [00:54<00:00, 13.67s/it]"
     ]
    },
    {
     "name": "stdout",
     "output_type": "stream",
     "text": [
      "                   all        117       2533      0.996      0.998      0.994      0.915\n"
     ]
    },
    {
     "name": "stderr",
     "output_type": "stream",
     "text": [
      "\n"
     ]
    },
    {
     "name": "stdout",
     "output_type": "stream",
     "text": [
      "\n",
      "      Epoch    GPU_mem   box_loss   cls_loss   dfl_loss  Instances       Size\n"
     ]
    },
    {
     "name": "stderr",
     "output_type": "stream",
     "text": [
      "     11/100         0G     0.4525     0.2571     0.8522        149        640: 100%|██████████| 77/77 [26:19<00:00, 20.51s/it]\n",
      "                 Class     Images  Instances      Box(P          R      mAP50  mAP50-95): 100%|██████████| 4/4 [00:54<00:00, 13.53s/it]"
     ]
    },
    {
     "name": "stdout",
     "output_type": "stream",
     "text": [
      "                   all        117       2533      0.996      0.998      0.994      0.915\n"
     ]
    },
    {
     "name": "stderr",
     "output_type": "stream",
     "text": [
      "\n"
     ]
    },
    {
     "name": "stdout",
     "output_type": "stream",
     "text": [
      "\n",
      "      Epoch    GPU_mem   box_loss   cls_loss   dfl_loss  Instances       Size\n"
     ]
    },
    {
     "name": "stderr",
     "output_type": "stream",
     "text": [
      "     12/100         0G     0.4447     0.2514     0.8477        149        640: 100%|██████████| 77/77 [26:13<00:00, 20.43s/it]\n",
      "                 Class     Images  Instances      Box(P          R      mAP50  mAP50-95): 100%|██████████| 4/4 [00:54<00:00, 13.53s/it]"
     ]
    },
    {
     "name": "stdout",
     "output_type": "stream",
     "text": [
      "                   all        117       2533      0.995      0.996      0.994      0.925\n"
     ]
    },
    {
     "name": "stderr",
     "output_type": "stream",
     "text": [
      "\n"
     ]
    },
    {
     "name": "stdout",
     "output_type": "stream",
     "text": [
      "\n",
      "      Epoch    GPU_mem   box_loss   cls_loss   dfl_loss  Instances       Size\n"
     ]
    },
    {
     "name": "stderr",
     "output_type": "stream",
     "text": [
      "     13/100         0G     0.4294     0.2377     0.8443         74        640: 100%|██████████| 77/77 [26:24<00:00, 20.58s/it]\n",
      "                 Class     Images  Instances      Box(P          R      mAP50  mAP50-95): 100%|██████████| 4/4 [00:54<00:00, 13.57s/it]"
     ]
    },
    {
     "name": "stdout",
     "output_type": "stream",
     "text": [
      "                   all        117       2533      0.997      0.999      0.994      0.929\n"
     ]
    },
    {
     "name": "stderr",
     "output_type": "stream",
     "text": [
      "\n"
     ]
    },
    {
     "name": "stdout",
     "output_type": "stream",
     "text": [
      "\n",
      "      Epoch    GPU_mem   box_loss   cls_loss   dfl_loss  Instances       Size\n"
     ]
    },
    {
     "name": "stderr",
     "output_type": "stream",
     "text": [
      "     14/100         0G     0.4238     0.2342     0.8404        165        640: 100%|██████████| 77/77 [26:14<00:00, 20.45s/it]\n",
      "                 Class     Images  Instances      Box(P          R      mAP50  mAP50-95): 100%|██████████| 4/4 [00:53<00:00, 13.49s/it]"
     ]
    },
    {
     "name": "stdout",
     "output_type": "stream",
     "text": [
      "                   all        117       2533      0.996      0.998      0.993      0.925\n"
     ]
    },
    {
     "name": "stderr",
     "output_type": "stream",
     "text": [
      "\n"
     ]
    },
    {
     "name": "stdout",
     "output_type": "stream",
     "text": [
      "\n",
      "      Epoch    GPU_mem   box_loss   cls_loss   dfl_loss  Instances       Size\n"
     ]
    },
    {
     "name": "stderr",
     "output_type": "stream",
     "text": [
      "     15/100         0G     0.4133     0.2322     0.8399        176        640: 100%|██████████| 77/77 [26:20<00:00, 20.53s/it]\n",
      "                 Class     Images  Instances      Box(P          R      mAP50  mAP50-95): 100%|██████████| 4/4 [00:54<00:00, 13.60s/it]"
     ]
    },
    {
     "name": "stdout",
     "output_type": "stream",
     "text": [
      "                   all        117       2533      0.997      0.999      0.994      0.936\n"
     ]
    },
    {
     "name": "stderr",
     "output_type": "stream",
     "text": [
      "\n"
     ]
    },
    {
     "name": "stdout",
     "output_type": "stream",
     "text": [
      "\n",
      "      Epoch    GPU_mem   box_loss   cls_loss   dfl_loss  Instances       Size\n"
     ]
    },
    {
     "name": "stderr",
     "output_type": "stream",
     "text": [
      "     16/100         0G     0.4122     0.2328     0.8347        131        640: 100%|██████████| 77/77 [26:24<00:00, 20.58s/it]\n",
      "                 Class     Images  Instances      Box(P          R      mAP50  mAP50-95): 100%|██████████| 4/4 [00:54<00:00, 13.61s/it]"
     ]
    },
    {
     "name": "stdout",
     "output_type": "stream",
     "text": [
      "                   all        117       2533      0.997      0.998      0.994      0.937\n"
     ]
    },
    {
     "name": "stderr",
     "output_type": "stream",
     "text": [
      "\n"
     ]
    },
    {
     "name": "stdout",
     "output_type": "stream",
     "text": [
      "\n",
      "      Epoch    GPU_mem   box_loss   cls_loss   dfl_loss  Instances       Size\n"
     ]
    },
    {
     "name": "stderr",
     "output_type": "stream",
     "text": [
      "     17/100         0G     0.3938     0.2197     0.8365        115        640: 100%|██████████| 77/77 [26:28<00:00, 20.63s/it]\n",
      "                 Class     Images  Instances      Box(P          R      mAP50  mAP50-95): 100%|██████████| 4/4 [00:54<00:00, 13.60s/it]"
     ]
    },
    {
     "name": "stdout",
     "output_type": "stream",
     "text": [
      "                   all        117       2533      0.996      0.997      0.994      0.939\n"
     ]
    },
    {
     "name": "stderr",
     "output_type": "stream",
     "text": [
      "\n"
     ]
    },
    {
     "name": "stdout",
     "output_type": "stream",
     "text": [
      "\n",
      "      Epoch    GPU_mem   box_loss   cls_loss   dfl_loss  Instances       Size\n"
     ]
    },
    {
     "name": "stderr",
     "output_type": "stream",
     "text": [
      "     18/100         0G     0.3858     0.2285     0.8335        113        640: 100%|██████████| 77/77 [26:17<00:00, 20.49s/it]\n",
      "                 Class     Images  Instances      Box(P          R      mAP50  mAP50-95): 100%|██████████| 4/4 [00:53<00:00, 13.48s/it]"
     ]
    },
    {
     "name": "stdout",
     "output_type": "stream",
     "text": [
      "                   all        117       2533      0.996      0.998      0.994      0.944\n"
     ]
    },
    {
     "name": "stderr",
     "output_type": "stream",
     "text": [
      "\n"
     ]
    },
    {
     "name": "stdout",
     "output_type": "stream",
     "text": [
      "\n",
      "      Epoch    GPU_mem   box_loss   cls_loss   dfl_loss  Instances       Size\n"
     ]
    },
    {
     "name": "stderr",
     "output_type": "stream",
     "text": [
      "     19/100         0G     0.3819     0.2232     0.8316        119        640: 100%|██████████| 77/77 [26:48<00:00, 20.89s/it]\n",
      "                 Class     Images  Instances      Box(P          R      mAP50  mAP50-95): 100%|██████████| 4/4 [00:54<00:00, 13.68s/it]"
     ]
    },
    {
     "name": "stdout",
     "output_type": "stream",
     "text": [
      "                   all        117       2533      0.995      0.997      0.994      0.941\n"
     ]
    },
    {
     "name": "stderr",
     "output_type": "stream",
     "text": [
      "\n"
     ]
    },
    {
     "name": "stdout",
     "output_type": "stream",
     "text": [
      "\n",
      "      Epoch    GPU_mem   box_loss   cls_loss   dfl_loss  Instances       Size\n"
     ]
    },
    {
     "name": "stderr",
     "output_type": "stream",
     "text": [
      "     20/100         0G     0.3778      0.218     0.8296        159        640: 100%|██████████| 77/77 [26:19<00:00, 20.51s/it]\n",
      "                 Class     Images  Instances      Box(P          R      mAP50  mAP50-95): 100%|██████████| 4/4 [00:53<00:00, 13.49s/it]"
     ]
    },
    {
     "name": "stdout",
     "output_type": "stream",
     "text": [
      "                   all        117       2533      0.995      0.998      0.995      0.941\n"
     ]
    },
    {
     "name": "stderr",
     "output_type": "stream",
     "text": [
      "\n"
     ]
    },
    {
     "name": "stdout",
     "output_type": "stream",
     "text": [
      "\n",
      "      Epoch    GPU_mem   box_loss   cls_loss   dfl_loss  Instances       Size\n"
     ]
    },
    {
     "name": "stderr",
     "output_type": "stream",
     "text": [
      "     21/100         0G     0.3721     0.2153     0.8329        120        640: 100%|██████████| 77/77 [26:24<00:00, 20.58s/it]\n",
      "                 Class     Images  Instances      Box(P          R      mAP50  mAP50-95): 100%|██████████| 4/4 [00:53<00:00, 13.49s/it]"
     ]
    },
    {
     "name": "stdout",
     "output_type": "stream",
     "text": [
      "                   all        117       2533      0.996      0.998      0.994      0.948\n"
     ]
    },
    {
     "name": "stderr",
     "output_type": "stream",
     "text": [
      "\n"
     ]
    },
    {
     "name": "stdout",
     "output_type": "stream",
     "text": [
      "\n",
      "      Epoch    GPU_mem   box_loss   cls_loss   dfl_loss  Instances       Size\n"
     ]
    },
    {
     "name": "stderr",
     "output_type": "stream",
     "text": [
      "     22/100         0G     0.3663     0.2061     0.8283         93        640: 100%|██████████| 77/77 [26:31<00:00, 20.67s/it]\n",
      "                 Class     Images  Instances      Box(P          R      mAP50  mAP50-95): 100%|██████████| 4/4 [00:55<00:00, 13.90s/it]"
     ]
    },
    {
     "name": "stdout",
     "output_type": "stream",
     "text": [
      "                   all        117       2533      0.997      0.999      0.994      0.946\n"
     ]
    },
    {
     "name": "stderr",
     "output_type": "stream",
     "text": [
      "\n"
     ]
    },
    {
     "name": "stdout",
     "output_type": "stream",
     "text": [
      "\n",
      "      Epoch    GPU_mem   box_loss   cls_loss   dfl_loss  Instances       Size\n"
     ]
    },
    {
     "name": "stderr",
     "output_type": "stream",
     "text": [
      "     23/100         0G     0.3609     0.2003      0.826        127        640: 100%|██████████| 77/77 [26:57<00:00, 21.00s/it]\n",
      "                 Class     Images  Instances      Box(P          R      mAP50  mAP50-95): 100%|██████████| 4/4 [00:54<00:00, 13.53s/it]"
     ]
    },
    {
     "name": "stdout",
     "output_type": "stream",
     "text": [
      "                   all        117       2533      0.996      0.998      0.995      0.949\n"
     ]
    },
    {
     "name": "stderr",
     "output_type": "stream",
     "text": [
      "\n"
     ]
    },
    {
     "name": "stdout",
     "output_type": "stream",
     "text": [
      "\n",
      "      Epoch    GPU_mem   box_loss   cls_loss   dfl_loss  Instances       Size\n"
     ]
    },
    {
     "name": "stderr",
     "output_type": "stream",
     "text": [
      "     24/100         0G     0.3516     0.1975     0.8237        160        640: 100%|██████████| 77/77 [26:14<00:00, 20.45s/it]\n",
      "                 Class     Images  Instances      Box(P          R      mAP50  mAP50-95): 100%|██████████| 4/4 [00:53<00:00, 13.37s/it]"
     ]
    },
    {
     "name": "stdout",
     "output_type": "stream",
     "text": [
      "                   all        117       2533      0.996      0.998      0.995       0.95\n"
     ]
    },
    {
     "name": "stderr",
     "output_type": "stream",
     "text": [
      "\n"
     ]
    },
    {
     "name": "stdout",
     "output_type": "stream",
     "text": [
      "\n",
      "      Epoch    GPU_mem   box_loss   cls_loss   dfl_loss  Instances       Size\n"
     ]
    },
    {
     "name": "stderr",
     "output_type": "stream",
     "text": [
      "     25/100         0G     0.3517     0.2104     0.8259        157        640: 100%|██████████| 77/77 [26:57<00:00, 21.01s/it]\n",
      "                 Class     Images  Instances      Box(P          R      mAP50  mAP50-95): 100%|██████████| 4/4 [00:56<00:00, 14.10s/it]"
     ]
    },
    {
     "name": "stdout",
     "output_type": "stream",
     "text": [
      "                   all        117       2533      0.995      0.998      0.994      0.956\n"
     ]
    },
    {
     "name": "stderr",
     "output_type": "stream",
     "text": [
      "\n"
     ]
    },
    {
     "name": "stdout",
     "output_type": "stream",
     "text": [
      "\n",
      "      Epoch    GPU_mem   box_loss   cls_loss   dfl_loss  Instances       Size\n"
     ]
    },
    {
     "name": "stderr",
     "output_type": "stream",
     "text": [
      "     26/100         0G     0.3432     0.2106     0.8223        126        640: 100%|██████████| 77/77 [27:04<00:00, 21.10s/it]\n",
      "                 Class     Images  Instances      Box(P          R      mAP50  mAP50-95): 100%|██████████| 4/4 [00:56<00:00, 14.21s/it]"
     ]
    },
    {
     "name": "stdout",
     "output_type": "stream",
     "text": [
      "                   all        117       2533      0.995      0.997      0.995      0.947\n"
     ]
    },
    {
     "name": "stderr",
     "output_type": "stream",
     "text": [
      "\n"
     ]
    },
    {
     "name": "stdout",
     "output_type": "stream",
     "text": [
      "\n",
      "      Epoch    GPU_mem   box_loss   cls_loss   dfl_loss  Instances       Size\n"
     ]
    },
    {
     "name": "stderr",
     "output_type": "stream",
     "text": [
      "     27/100         0G     0.3442     0.1988     0.8228        116        640: 100%|██████████| 77/77 [27:09<00:00, 21.16s/it]\n",
      "                 Class     Images  Instances      Box(P          R      mAP50  mAP50-95): 100%|██████████| 4/4 [00:54<00:00, 13.67s/it]"
     ]
    },
    {
     "name": "stdout",
     "output_type": "stream",
     "text": [
      "                   all        117       2533      0.996      0.998      0.995       0.95\n"
     ]
    },
    {
     "name": "stderr",
     "output_type": "stream",
     "text": [
      "\n"
     ]
    },
    {
     "name": "stdout",
     "output_type": "stream",
     "text": [
      "\n",
      "      Epoch    GPU_mem   box_loss   cls_loss   dfl_loss  Instances       Size\n"
     ]
    },
    {
     "name": "stderr",
     "output_type": "stream",
     "text": [
      "     28/100         0G     0.3412     0.1966     0.8205        146        640: 100%|██████████| 77/77 [26:46<00:00, 20.86s/it]\n",
      "                 Class     Images  Instances      Box(P          R      mAP50  mAP50-95): 100%|██████████| 4/4 [00:56<00:00, 14.22s/it]"
     ]
    },
    {
     "name": "stdout",
     "output_type": "stream",
     "text": [
      "                   all        117       2533      0.996      0.998      0.995      0.956\n"
     ]
    },
    {
     "name": "stderr",
     "output_type": "stream",
     "text": [
      "\n"
     ]
    },
    {
     "name": "stdout",
     "output_type": "stream",
     "text": [
      "\n",
      "      Epoch    GPU_mem   box_loss   cls_loss   dfl_loss  Instances       Size\n"
     ]
    },
    {
     "name": "stderr",
     "output_type": "stream",
     "text": [
      "     29/100         0G     0.3314     0.1847     0.8169        112        640: 100%|██████████| 77/77 [26:51<00:00, 20.92s/it]\n",
      "                 Class     Images  Instances      Box(P          R      mAP50  mAP50-95): 100%|██████████| 4/4 [00:55<00:00, 13.93s/it]"
     ]
    },
    {
     "name": "stdout",
     "output_type": "stream",
     "text": [
      "                   all        117       2533      0.994      0.998      0.995      0.955\n"
     ]
    },
    {
     "name": "stderr",
     "output_type": "stream",
     "text": [
      "\n"
     ]
    },
    {
     "name": "stdout",
     "output_type": "stream",
     "text": [
      "\n",
      "      Epoch    GPU_mem   box_loss   cls_loss   dfl_loss  Instances       Size\n"
     ]
    },
    {
     "name": "stderr",
     "output_type": "stream",
     "text": [
      "     30/100         0G     0.3227     0.1904     0.8211        165        640: 100%|██████████| 77/77 [28:46<00:00, 22.42s/it]\n",
      "                 Class     Images  Instances      Box(P          R      mAP50  mAP50-95): 100%|██████████| 4/4 [00:56<00:00, 14.18s/it]"
     ]
    },
    {
     "name": "stdout",
     "output_type": "stream",
     "text": [
      "                   all        117       2533      0.995      0.998      0.995      0.957\n"
     ]
    },
    {
     "name": "stderr",
     "output_type": "stream",
     "text": [
      "\n"
     ]
    },
    {
     "name": "stdout",
     "output_type": "stream",
     "text": [
      "\n",
      "      Epoch    GPU_mem   box_loss   cls_loss   dfl_loss  Instances       Size\n"
     ]
    },
    {
     "name": "stderr",
     "output_type": "stream",
     "text": [
      "     31/100         0G     0.3228     0.1823     0.8185        165        640: 100%|██████████| 77/77 [27:14<00:00, 21.22s/it]\n",
      "                 Class     Images  Instances      Box(P          R      mAP50  mAP50-95): 100%|██████████| 4/4 [00:56<00:00, 14.07s/it]"
     ]
    },
    {
     "name": "stdout",
     "output_type": "stream",
     "text": [
      "                   all        117       2533      0.997      0.999      0.994      0.956\n"
     ]
    },
    {
     "name": "stderr",
     "output_type": "stream",
     "text": [
      "\n"
     ]
    },
    {
     "name": "stdout",
     "output_type": "stream",
     "text": [
      "\n",
      "      Epoch    GPU_mem   box_loss   cls_loss   dfl_loss  Instances       Size\n"
     ]
    },
    {
     "name": "stderr",
     "output_type": "stream",
     "text": [
      "     32/100         0G     0.3218     0.1869     0.8179         85        640: 100%|██████████| 77/77 [25:53<00:00, 20.18s/it]\n",
      "                 Class     Images  Instances      Box(P          R      mAP50  mAP50-95): 100%|██████████| 4/4 [00:52<00:00, 13.01s/it]"
     ]
    },
    {
     "name": "stdout",
     "output_type": "stream",
     "text": [
      "                   all        117       2533      0.997      0.998      0.995      0.961\n"
     ]
    },
    {
     "name": "stderr",
     "output_type": "stream",
     "text": [
      "\n"
     ]
    },
    {
     "name": "stdout",
     "output_type": "stream",
     "text": [
      "\n",
      "      Epoch    GPU_mem   box_loss   cls_loss   dfl_loss  Instances       Size\n"
     ]
    },
    {
     "name": "stderr",
     "output_type": "stream",
     "text": [
      "     33/100         0G     0.3152     0.1812     0.8139        125        640: 100%|██████████| 77/77 [27:28<00:00, 21.41s/it]\n",
      "                 Class     Images  Instances      Box(P          R      mAP50  mAP50-95): 100%|██████████| 4/4 [00:57<00:00, 14.43s/it]"
     ]
    },
    {
     "name": "stdout",
     "output_type": "stream",
     "text": [
      "                   all        117       2533      0.996      0.997      0.995      0.959\n"
     ]
    },
    {
     "name": "stderr",
     "output_type": "stream",
     "text": [
      "\n"
     ]
    },
    {
     "name": "stdout",
     "output_type": "stream",
     "text": [
      "\n",
      "      Epoch    GPU_mem   box_loss   cls_loss   dfl_loss  Instances       Size\n"
     ]
    },
    {
     "name": "stderr",
     "output_type": "stream",
     "text": [
      "     34/100         0G      0.313     0.1783     0.8129         99        640: 100%|██████████| 77/77 [27:22<00:00, 21.33s/it]\n",
      "                 Class     Images  Instances      Box(P          R      mAP50  mAP50-95): 100%|██████████| 4/4 [00:55<00:00, 13.89s/it]"
     ]
    },
    {
     "name": "stdout",
     "output_type": "stream",
     "text": [
      "                   all        117       2533      0.996      0.999      0.994      0.956\n"
     ]
    },
    {
     "name": "stderr",
     "output_type": "stream",
     "text": [
      "\n"
     ]
    },
    {
     "name": "stdout",
     "output_type": "stream",
     "text": [
      "\n",
      "      Epoch    GPU_mem   box_loss   cls_loss   dfl_loss  Instances       Size\n"
     ]
    },
    {
     "name": "stderr",
     "output_type": "stream",
     "text": [
      "     35/100         0G     0.3135     0.1832     0.8127        125        640: 100%|██████████| 77/77 [27:22<00:00, 21.33s/it]\n",
      "                 Class     Images  Instances      Box(P          R      mAP50  mAP50-95): 100%|██████████| 4/4 [00:58<00:00, 14.71s/it]"
     ]
    },
    {
     "name": "stdout",
     "output_type": "stream",
     "text": [
      "                   all        117       2533      0.996      0.999      0.995      0.962\n"
     ]
    },
    {
     "name": "stderr",
     "output_type": "stream",
     "text": [
      "\n"
     ]
    },
    {
     "name": "stdout",
     "output_type": "stream",
     "text": [
      "\n",
      "      Epoch    GPU_mem   box_loss   cls_loss   dfl_loss  Instances       Size\n"
     ]
    },
    {
     "name": "stderr",
     "output_type": "stream",
     "text": [
      "     36/100         0G     0.3105     0.1863     0.8171         88        640: 100%|██████████| 77/77 [27:27<00:00, 21.40s/it]\n",
      "                 Class     Images  Instances      Box(P          R      mAP50  mAP50-95): 100%|██████████| 4/4 [00:56<00:00, 14.22s/it]"
     ]
    },
    {
     "name": "stdout",
     "output_type": "stream",
     "text": [
      "                   all        117       2533      0.997      0.998      0.995      0.959\n"
     ]
    },
    {
     "name": "stderr",
     "output_type": "stream",
     "text": [
      "\n"
     ]
    },
    {
     "name": "stdout",
     "output_type": "stream",
     "text": [
      "\n",
      "      Epoch    GPU_mem   box_loss   cls_loss   dfl_loss  Instances       Size\n"
     ]
    },
    {
     "name": "stderr",
     "output_type": "stream",
     "text": [
      "     37/100         0G     0.3171     0.1891     0.8187        119        640: 100%|██████████| 77/77 [27:24<00:00, 21.35s/it]\n",
      "                 Class     Images  Instances      Box(P          R      mAP50  mAP50-95): 100%|██████████| 4/4 [00:56<00:00, 14.09s/it]"
     ]
    },
    {
     "name": "stdout",
     "output_type": "stream",
     "text": [
      "                   all        117       2533      0.997      0.997      0.995      0.963\n"
     ]
    },
    {
     "name": "stderr",
     "output_type": "stream",
     "text": [
      "\n"
     ]
    },
    {
     "name": "stdout",
     "output_type": "stream",
     "text": [
      "\n",
      "      Epoch    GPU_mem   box_loss   cls_loss   dfl_loss  Instances       Size\n"
     ]
    },
    {
     "name": "stderr",
     "output_type": "stream",
     "text": [
      "     38/100         0G     0.3112     0.1773     0.8154        164        640: 100%|██████████| 77/77 [26:37<00:00, 20.74s/it]\n",
      "                 Class     Images  Instances      Box(P          R      mAP50  mAP50-95): 100%|██████████| 4/4 [00:54<00:00, 13.67s/it]"
     ]
    },
    {
     "name": "stdout",
     "output_type": "stream",
     "text": [
      "                   all        117       2533      0.997      0.997      0.995       0.96\n"
     ]
    },
    {
     "name": "stderr",
     "output_type": "stream",
     "text": [
      "\n"
     ]
    },
    {
     "name": "stdout",
     "output_type": "stream",
     "text": [
      "\n",
      "      Epoch    GPU_mem   box_loss   cls_loss   dfl_loss  Instances       Size\n"
     ]
    },
    {
     "name": "stderr",
     "output_type": "stream",
     "text": [
      "     39/100         0G     0.3024     0.1781     0.8127        132        640: 100%|██████████| 77/77 [27:20<00:00, 21.31s/it]\n",
      "                 Class     Images  Instances      Box(P          R      mAP50  mAP50-95): 100%|██████████| 4/4 [00:56<00:00, 14.24s/it]"
     ]
    },
    {
     "name": "stdout",
     "output_type": "stream",
     "text": [
      "                   all        117       2533      0.997      0.998      0.995       0.96\n"
     ]
    },
    {
     "name": "stderr",
     "output_type": "stream",
     "text": [
      "\n"
     ]
    },
    {
     "name": "stdout",
     "output_type": "stream",
     "text": [
      "\n",
      "      Epoch    GPU_mem   box_loss   cls_loss   dfl_loss  Instances       Size\n"
     ]
    },
    {
     "name": "stderr",
     "output_type": "stream",
     "text": [
      "     40/100         0G     0.3026      0.186     0.8145        181        640: 100%|██████████| 77/77 [27:23<00:00, 21.34s/it]\n",
      "                 Class     Images  Instances      Box(P          R      mAP50  mAP50-95): 100%|██████████| 4/4 [00:56<00:00, 14.04s/it]"
     ]
    },
    {
     "name": "stdout",
     "output_type": "stream",
     "text": [
      "                   all        117       2533      0.997      0.999      0.995       0.96\n"
     ]
    },
    {
     "name": "stderr",
     "output_type": "stream",
     "text": [
      "\n"
     ]
    },
    {
     "name": "stdout",
     "output_type": "stream",
     "text": [
      "\n",
      "      Epoch    GPU_mem   box_loss   cls_loss   dfl_loss  Instances       Size\n"
     ]
    },
    {
     "name": "stderr",
     "output_type": "stream",
     "text": [
      "     41/100         0G     0.2933     0.1713     0.8088        110        640: 100%|██████████| 77/77 [26:41<00:00, 20.79s/it]\n",
      "                 Class     Images  Instances      Box(P          R      mAP50  mAP50-95): 100%|██████████| 4/4 [00:56<00:00, 14.22s/it]"
     ]
    },
    {
     "name": "stdout",
     "output_type": "stream",
     "text": [
      "                   all        117       2533      0.997      0.997      0.994      0.962\n"
     ]
    },
    {
     "name": "stderr",
     "output_type": "stream",
     "text": [
      "\n"
     ]
    },
    {
     "name": "stdout",
     "output_type": "stream",
     "text": [
      "\n",
      "      Epoch    GPU_mem   box_loss   cls_loss   dfl_loss  Instances       Size\n"
     ]
    },
    {
     "name": "stderr",
     "output_type": "stream",
     "text": [
      "     42/100         0G     0.2957      0.177     0.8134        144        640: 100%|██████████| 77/77 [27:16<00:00, 21.25s/it]\n",
      "                 Class     Images  Instances      Box(P          R      mAP50  mAP50-95): 100%|██████████| 4/4 [00:56<00:00, 14.23s/it]"
     ]
    },
    {
     "name": "stdout",
     "output_type": "stream",
     "text": [
      "                   all        117       2533      0.991      0.983      0.994      0.957\n"
     ]
    },
    {
     "name": "stderr",
     "output_type": "stream",
     "text": [
      "\n"
     ]
    },
    {
     "name": "stdout",
     "output_type": "stream",
     "text": [
      "\n",
      "      Epoch    GPU_mem   box_loss   cls_loss   dfl_loss  Instances       Size\n"
     ]
    },
    {
     "name": "stderr",
     "output_type": "stream",
     "text": [
      "     43/100         0G     0.2965     0.1779     0.8131        137        640: 100%|██████████| 77/77 [27:32<00:00, 21.47s/it]\n",
      "                 Class     Images  Instances      Box(P          R      mAP50  mAP50-95): 100%|██████████| 4/4 [00:56<00:00, 14.22s/it]"
     ]
    },
    {
     "name": "stdout",
     "output_type": "stream",
     "text": [
      "                   all        117       2533       0.99      0.981      0.993       0.95\n"
     ]
    },
    {
     "name": "stderr",
     "output_type": "stream",
     "text": [
      "\n"
     ]
    },
    {
     "name": "stdout",
     "output_type": "stream",
     "text": [
      "\n",
      "      Epoch    GPU_mem   box_loss   cls_loss   dfl_loss  Instances       Size\n"
     ]
    },
    {
     "name": "stderr",
     "output_type": "stream",
     "text": [
      "     44/100         0G     0.2939     0.1716      0.811        128        640: 100%|██████████| 77/77 [27:38<00:00, 21.54s/it]\n",
      "                 Class     Images  Instances      Box(P          R      mAP50  mAP50-95): 100%|██████████| 4/4 [00:56<00:00, 14.12s/it]"
     ]
    },
    {
     "name": "stdout",
     "output_type": "stream",
     "text": [
      "                   all        117       2533      0.994      0.998      0.994       0.96\n"
     ]
    },
    {
     "name": "stderr",
     "output_type": "stream",
     "text": [
      "\n"
     ]
    },
    {
     "name": "stdout",
     "output_type": "stream",
     "text": [
      "\n",
      "      Epoch    GPU_mem   box_loss   cls_loss   dfl_loss  Instances       Size\n"
     ]
    },
    {
     "name": "stderr",
     "output_type": "stream",
     "text": [
      "     45/100         0G     0.2861     0.1636     0.8062        160        640: 100%|██████████| 77/77 [27:26<00:00, 21.38s/it]\n",
      "                 Class     Images  Instances      Box(P          R      mAP50  mAP50-95): 100%|██████████| 4/4 [00:54<00:00, 13.74s/it]"
     ]
    },
    {
     "name": "stdout",
     "output_type": "stream",
     "text": [
      "                   all        117       2533      0.997      0.997      0.995      0.964\n"
     ]
    },
    {
     "name": "stderr",
     "output_type": "stream",
     "text": [
      "\n"
     ]
    },
    {
     "name": "stdout",
     "output_type": "stream",
     "text": [
      "\n",
      "      Epoch    GPU_mem   box_loss   cls_loss   dfl_loss  Instances       Size\n"
     ]
    },
    {
     "name": "stderr",
     "output_type": "stream",
     "text": [
      "     46/100         0G     0.2821     0.1646     0.8061        198        640: 100%|██████████| 77/77 [26:17<00:00, 20.49s/it]\n",
      "                 Class     Images  Instances      Box(P          R      mAP50  mAP50-95): 100%|██████████| 4/4 [00:54<00:00, 13.73s/it]"
     ]
    },
    {
     "name": "stdout",
     "output_type": "stream",
     "text": [
      "                   all        117       2533      0.995      0.995      0.995       0.96\n"
     ]
    },
    {
     "name": "stderr",
     "output_type": "stream",
     "text": [
      "\n"
     ]
    },
    {
     "name": "stdout",
     "output_type": "stream",
     "text": [
      "\n",
      "      Epoch    GPU_mem   box_loss   cls_loss   dfl_loss  Instances       Size\n"
     ]
    },
    {
     "name": "stderr",
     "output_type": "stream",
     "text": [
      "     47/100         0G     0.2732     0.1572     0.8058        176        640: 100%|██████████| 77/77 [26:30<00:00, 20.65s/it]\n",
      "                 Class     Images  Instances      Box(P          R      mAP50  mAP50-95): 100%|██████████| 4/4 [00:54<00:00, 13.69s/it]"
     ]
    },
    {
     "name": "stdout",
     "output_type": "stream",
     "text": [
      "                   all        117       2533      0.996      0.996      0.995      0.961\n"
     ]
    },
    {
     "name": "stderr",
     "output_type": "stream",
     "text": [
      "\n"
     ]
    },
    {
     "name": "stdout",
     "output_type": "stream",
     "text": [
      "\n",
      "      Epoch    GPU_mem   box_loss   cls_loss   dfl_loss  Instances       Size\n"
     ]
    },
    {
     "name": "stderr",
     "output_type": "stream",
     "text": [
      "     48/100         0G     0.2816     0.1625     0.8107        104        640: 100%|██████████| 77/77 [26:26<00:00, 20.60s/it]\n",
      "                 Class     Images  Instances      Box(P          R      mAP50  mAP50-95): 100%|██████████| 4/4 [00:54<00:00, 13.66s/it]"
     ]
    },
    {
     "name": "stdout",
     "output_type": "stream",
     "text": [
      "                   all        117       2533      0.997      0.997      0.995      0.966\n"
     ]
    },
    {
     "name": "stderr",
     "output_type": "stream",
     "text": [
      "\n"
     ]
    },
    {
     "name": "stdout",
     "output_type": "stream",
     "text": [
      "\n",
      "      Epoch    GPU_mem   box_loss   cls_loss   dfl_loss  Instances       Size\n"
     ]
    },
    {
     "name": "stderr",
     "output_type": "stream",
     "text": [
      "     49/100         0G      0.282     0.1611     0.8099        151        640: 100%|██████████| 77/77 [26:21<00:00, 20.54s/it]\n",
      "                 Class     Images  Instances      Box(P          R      mAP50  mAP50-95): 100%|██████████| 4/4 [00:54<00:00, 13.73s/it]"
     ]
    },
    {
     "name": "stdout",
     "output_type": "stream",
     "text": [
      "                   all        117       2533      0.996      0.997      0.995      0.962\n"
     ]
    },
    {
     "name": "stderr",
     "output_type": "stream",
     "text": [
      "\n"
     ]
    },
    {
     "name": "stdout",
     "output_type": "stream",
     "text": [
      "\n",
      "      Epoch    GPU_mem   box_loss   cls_loss   dfl_loss  Instances       Size\n"
     ]
    },
    {
     "name": "stderr",
     "output_type": "stream",
     "text": [
      "     50/100         0G     0.2721     0.1579     0.8075        114        640: 100%|██████████| 77/77 [26:29<00:00, 20.64s/it]\n",
      "                 Class     Images  Instances      Box(P          R      mAP50  mAP50-95): 100%|██████████| 4/4 [00:54<00:00, 13.70s/it]"
     ]
    },
    {
     "name": "stdout",
     "output_type": "stream",
     "text": [
      "                   all        117       2533      0.997      0.997      0.995      0.963\n"
     ]
    },
    {
     "name": "stderr",
     "output_type": "stream",
     "text": [
      "\n"
     ]
    },
    {
     "name": "stdout",
     "output_type": "stream",
     "text": [
      "\n",
      "      Epoch    GPU_mem   box_loss   cls_loss   dfl_loss  Instances       Size\n"
     ]
    },
    {
     "name": "stderr",
     "output_type": "stream",
     "text": [
      "     51/100         0G     0.2763     0.1684     0.8073        169        640: 100%|██████████| 77/77 [26:27<00:00, 20.62s/it]\n",
      "                 Class     Images  Instances      Box(P          R      mAP50  mAP50-95): 100%|██████████| 4/4 [00:54<00:00, 13.65s/it]"
     ]
    },
    {
     "name": "stdout",
     "output_type": "stream",
     "text": [
      "                   all        117       2533      0.997      0.996      0.995      0.963\n"
     ]
    },
    {
     "name": "stderr",
     "output_type": "stream",
     "text": [
      "\n"
     ]
    },
    {
     "name": "stdout",
     "output_type": "stream",
     "text": [
      "\n",
      "      Epoch    GPU_mem   box_loss   cls_loss   dfl_loss  Instances       Size\n"
     ]
    },
    {
     "name": "stderr",
     "output_type": "stream",
     "text": [
      "     52/100         0G     0.2767     0.1622     0.8082        193        640: 100%|██████████| 77/77 [26:46<00:00, 20.86s/it]\n",
      "                 Class     Images  Instances      Box(P          R      mAP50  mAP50-95): 100%|██████████| 4/4 [00:55<00:00, 13.78s/it]"
     ]
    },
    {
     "name": "stdout",
     "output_type": "stream",
     "text": [
      "                   all        117       2533      0.996      0.997      0.995      0.964\n"
     ]
    },
    {
     "name": "stderr",
     "output_type": "stream",
     "text": [
      "\n"
     ]
    },
    {
     "name": "stdout",
     "output_type": "stream",
     "text": [
      "\n",
      "      Epoch    GPU_mem   box_loss   cls_loss   dfl_loss  Instances       Size\n"
     ]
    },
    {
     "name": "stderr",
     "output_type": "stream",
     "text": [
      "     53/100         0G     0.2744     0.1608     0.8093        135        640: 100%|██████████| 77/77 [26:28<00:00, 20.64s/it]\n",
      "                 Class     Images  Instances      Box(P          R      mAP50  mAP50-95): 100%|██████████| 4/4 [00:54<00:00, 13.74s/it]"
     ]
    },
    {
     "name": "stdout",
     "output_type": "stream",
     "text": [
      "                   all        117       2533      0.997      0.996      0.995      0.966\n"
     ]
    },
    {
     "name": "stderr",
     "output_type": "stream",
     "text": [
      "\n"
     ]
    },
    {
     "name": "stdout",
     "output_type": "stream",
     "text": [
      "\n",
      "      Epoch    GPU_mem   box_loss   cls_loss   dfl_loss  Instances       Size\n"
     ]
    },
    {
     "name": "stderr",
     "output_type": "stream",
     "text": [
      "     54/100         0G     0.2728     0.1569     0.8052        205        640: 100%|██████████| 77/77 [26:31<00:00, 20.67s/it]\n",
      "                 Class     Images  Instances      Box(P          R      mAP50  mAP50-95): 100%|██████████| 4/4 [00:54<00:00, 13.74s/it]"
     ]
    },
    {
     "name": "stdout",
     "output_type": "stream",
     "text": [
      "                   all        117       2533      0.993      0.995      0.995      0.962\n"
     ]
    },
    {
     "name": "stderr",
     "output_type": "stream",
     "text": [
      "\n"
     ]
    },
    {
     "name": "stdout",
     "output_type": "stream",
     "text": [
      "\n",
      "      Epoch    GPU_mem   box_loss   cls_loss   dfl_loss  Instances       Size\n"
     ]
    },
    {
     "name": "stderr",
     "output_type": "stream",
     "text": [
      "     55/100         0G     0.2609     0.1539     0.8036        147        640: 100%|██████████| 77/77 [26:32<00:00, 20.68s/it]\n",
      "                 Class     Images  Instances      Box(P          R      mAP50  mAP50-95): 100%|██████████| 4/4 [00:54<00:00, 13.66s/it]"
     ]
    },
    {
     "name": "stdout",
     "output_type": "stream",
     "text": [
      "                   all        117       2533      0.997      0.996      0.995      0.966\n"
     ]
    },
    {
     "name": "stderr",
     "output_type": "stream",
     "text": [
      "\n"
     ]
    },
    {
     "name": "stdout",
     "output_type": "stream",
     "text": [
      "\n",
      "      Epoch    GPU_mem   box_loss   cls_loss   dfl_loss  Instances       Size\n"
     ]
    },
    {
     "name": "stderr",
     "output_type": "stream",
     "text": [
      "     56/100         0G     0.2584     0.1513     0.8056        170        640: 100%|██████████| 77/77 [26:36<00:00, 20.73s/it]\n",
      "                 Class     Images  Instances      Box(P          R      mAP50  mAP50-95): 100%|██████████| 4/4 [00:54<00:00, 13.61s/it]"
     ]
    },
    {
     "name": "stdout",
     "output_type": "stream",
     "text": [
      "                   all        117       2533      0.996      0.996      0.995      0.965\n"
     ]
    },
    {
     "name": "stderr",
     "output_type": "stream",
     "text": [
      "\n"
     ]
    },
    {
     "name": "stdout",
     "output_type": "stream",
     "text": [
      "\n",
      "      Epoch    GPU_mem   box_loss   cls_loss   dfl_loss  Instances       Size\n"
     ]
    },
    {
     "name": "stderr",
     "output_type": "stream",
     "text": [
      "     57/100         0G     0.2633     0.1537     0.8053        174        640: 100%|██████████| 77/77 [26:36<00:00, 20.73s/it]\n",
      "                 Class     Images  Instances      Box(P          R      mAP50  mAP50-95): 100%|██████████| 4/4 [00:55<00:00, 13.76s/it]"
     ]
    },
    {
     "name": "stdout",
     "output_type": "stream",
     "text": [
      "                   all        117       2533      0.996      0.994      0.994      0.964\n"
     ]
    },
    {
     "name": "stderr",
     "output_type": "stream",
     "text": [
      "\n"
     ]
    },
    {
     "name": "stdout",
     "output_type": "stream",
     "text": [
      "\n",
      "      Epoch    GPU_mem   box_loss   cls_loss   dfl_loss  Instances       Size\n"
     ]
    },
    {
     "name": "stderr",
     "output_type": "stream",
     "text": [
      "     58/100         0G      0.261     0.1548     0.8069        154        640: 100%|██████████| 77/77 [26:37<00:00, 20.75s/it]\n",
      "                 Class     Images  Instances      Box(P          R      mAP50  mAP50-95): 100%|██████████| 4/4 [00:55<00:00, 13.78s/it]"
     ]
    },
    {
     "name": "stdout",
     "output_type": "stream",
     "text": [
      "                   all        117       2533      0.994      0.994      0.995      0.963\n"
     ]
    },
    {
     "name": "stderr",
     "output_type": "stream",
     "text": [
      "\n"
     ]
    },
    {
     "name": "stdout",
     "output_type": "stream",
     "text": [
      "\n",
      "      Epoch    GPU_mem   box_loss   cls_loss   dfl_loss  Instances       Size\n"
     ]
    },
    {
     "name": "stderr",
     "output_type": "stream",
     "text": [
      "     59/100         0G     0.2621     0.1514     0.8045        182        640: 100%|██████████| 77/77 [26:28<00:00, 20.63s/it]\n",
      "                 Class     Images  Instances      Box(P          R      mAP50  mAP50-95): 100%|██████████| 4/4 [00:54<00:00, 13.68s/it]"
     ]
    },
    {
     "name": "stdout",
     "output_type": "stream",
     "text": [
      "                   all        117       2533      0.994      0.995      0.995      0.964\n"
     ]
    },
    {
     "name": "stderr",
     "output_type": "stream",
     "text": [
      "\n"
     ]
    },
    {
     "name": "stdout",
     "output_type": "stream",
     "text": [
      "\n",
      "      Epoch    GPU_mem   box_loss   cls_loss   dfl_loss  Instances       Size\n"
     ]
    },
    {
     "name": "stderr",
     "output_type": "stream",
     "text": [
      "     60/100         0G     0.2524     0.1444     0.8023        161        640: 100%|██████████| 77/77 [26:35<00:00, 20.73s/it]\n",
      "                 Class     Images  Instances      Box(P          R      mAP50  mAP50-95): 100%|██████████| 4/4 [00:54<00:00, 13.64s/it]"
     ]
    },
    {
     "name": "stdout",
     "output_type": "stream",
     "text": [
      "                   all        117       2533      0.994      0.995      0.995      0.965\n"
     ]
    },
    {
     "name": "stderr",
     "output_type": "stream",
     "text": [
      "\n"
     ]
    },
    {
     "name": "stdout",
     "output_type": "stream",
     "text": [
      "\n",
      "      Epoch    GPU_mem   box_loss   cls_loss   dfl_loss  Instances       Size\n"
     ]
    },
    {
     "name": "stderr",
     "output_type": "stream",
     "text": [
      "     61/100         0G     0.2548     0.1441      0.802        187        640: 100%|██████████| 77/77 [26:35<00:00, 20.73s/it]\n",
      "                 Class     Images  Instances      Box(P          R      mAP50  mAP50-95): 100%|██████████| 4/4 [00:54<00:00, 13.68s/it]"
     ]
    },
    {
     "name": "stdout",
     "output_type": "stream",
     "text": [
      "                   all        117       2533      0.996      0.994      0.995      0.965\n"
     ]
    },
    {
     "name": "stderr",
     "output_type": "stream",
     "text": [
      "\n"
     ]
    },
    {
     "name": "stdout",
     "output_type": "stream",
     "text": [
      "\n",
      "      Epoch    GPU_mem   box_loss   cls_loss   dfl_loss  Instances       Size\n"
     ]
    },
    {
     "name": "stderr",
     "output_type": "stream",
     "text": [
      "     62/100         0G     0.2483     0.1458     0.8009        122        640: 100%|██████████| 77/77 [26:35<00:00, 20.72s/it]\n",
      "                 Class     Images  Instances      Box(P          R      mAP50  mAP50-95): 100%|██████████| 4/4 [00:54<00:00, 13.66s/it]"
     ]
    },
    {
     "name": "stdout",
     "output_type": "stream",
     "text": [
      "                   all        117       2533      0.996      0.993      0.995      0.965\n"
     ]
    },
    {
     "name": "stderr",
     "output_type": "stream",
     "text": [
      "\n"
     ]
    },
    {
     "name": "stdout",
     "output_type": "stream",
     "text": [
      "\n",
      "      Epoch    GPU_mem   box_loss   cls_loss   dfl_loss  Instances       Size\n"
     ]
    },
    {
     "name": "stderr",
     "output_type": "stream",
     "text": [
      "     63/100         0G     0.2498     0.1459     0.8008        140        640: 100%|██████████| 77/77 [26:34<00:00, 20.71s/it]\n",
      "                 Class     Images  Instances      Box(P          R      mAP50  mAP50-95): 100%|██████████| 4/4 [00:55<00:00, 13.81s/it]"
     ]
    },
    {
     "name": "stdout",
     "output_type": "stream",
     "text": [
      "                   all        117       2533      0.997      0.996      0.995      0.966\n"
     ]
    },
    {
     "name": "stderr",
     "output_type": "stream",
     "text": [
      "\n"
     ]
    },
    {
     "name": "stdout",
     "output_type": "stream",
     "text": [
      "\n",
      "      Epoch    GPU_mem   box_loss   cls_loss   dfl_loss  Instances       Size\n"
     ]
    },
    {
     "name": "stderr",
     "output_type": "stream",
     "text": [
      "     64/100         0G     0.2441     0.1423     0.8019        173        640: 100%|██████████| 77/77 [27:00<00:00, 21.04s/it]\n",
      "                 Class     Images  Instances      Box(P          R      mAP50  mAP50-95): 100%|██████████| 4/4 [00:56<00:00, 14.08s/it]"
     ]
    },
    {
     "name": "stdout",
     "output_type": "stream",
     "text": [
      "                   all        117       2533      0.997      0.995      0.995      0.967\n"
     ]
    },
    {
     "name": "stderr",
     "output_type": "stream",
     "text": [
      "\n"
     ]
    },
    {
     "name": "stdout",
     "output_type": "stream",
     "text": [
      "\n",
      "      Epoch    GPU_mem   box_loss   cls_loss   dfl_loss  Instances       Size\n"
     ]
    },
    {
     "name": "stderr",
     "output_type": "stream",
     "text": [
      "     65/100         0G      0.251     0.1409     0.8036        119        640: 100%|██████████| 77/77 [26:56<00:00, 21.00s/it]\n",
      "                 Class     Images  Instances      Box(P          R      mAP50  mAP50-95): 100%|██████████| 4/4 [00:55<00:00, 13.88s/it]"
     ]
    },
    {
     "name": "stdout",
     "output_type": "stream",
     "text": [
      "                   all        117       2533      0.997      0.996      0.995      0.967\n"
     ]
    },
    {
     "name": "stderr",
     "output_type": "stream",
     "text": [
      "\n"
     ]
    },
    {
     "name": "stdout",
     "output_type": "stream",
     "text": [
      "\n",
      "      Epoch    GPU_mem   box_loss   cls_loss   dfl_loss  Instances       Size\n"
     ]
    },
    {
     "name": "stderr",
     "output_type": "stream",
     "text": [
      "     66/100         0G     0.2405     0.1406     0.8008        184        640: 100%|██████████| 77/77 [26:40<00:00, 20.78s/it]\n",
      "                 Class     Images  Instances      Box(P          R      mAP50  mAP50-95): 100%|██████████| 4/4 [00:55<00:00, 13.90s/it]"
     ]
    },
    {
     "name": "stdout",
     "output_type": "stream",
     "text": [
      "                   all        117       2533      0.994       0.99      0.994      0.966\n"
     ]
    },
    {
     "name": "stderr",
     "output_type": "stream",
     "text": [
      "\n"
     ]
    },
    {
     "name": "stdout",
     "output_type": "stream",
     "text": [
      "\n",
      "      Epoch    GPU_mem   box_loss   cls_loss   dfl_loss  Instances       Size\n"
     ]
    },
    {
     "name": "stderr",
     "output_type": "stream",
     "text": [
      "     67/100         0G     0.2447      0.145     0.7997        142        640: 100%|██████████| 77/77 [27:06<00:00, 21.13s/it]\n",
      "                 Class     Images  Instances      Box(P          R      mAP50  mAP50-95): 100%|██████████| 4/4 [00:56<00:00, 14.03s/it]"
     ]
    },
    {
     "name": "stdout",
     "output_type": "stream",
     "text": [
      "                   all        117       2533      0.997      0.996      0.995      0.968\n"
     ]
    },
    {
     "name": "stderr",
     "output_type": "stream",
     "text": [
      "\n"
     ]
    },
    {
     "name": "stdout",
     "output_type": "stream",
     "text": [
      "\n",
      "      Epoch    GPU_mem   box_loss   cls_loss   dfl_loss  Instances       Size\n"
     ]
    },
    {
     "name": "stderr",
     "output_type": "stream",
     "text": [
      "     68/100         0G      0.241     0.1414     0.7988        192        640: 100%|██████████| 77/77 [26:45<00:00, 20.85s/it]\n",
      "                 Class     Images  Instances      Box(P          R      mAP50  mAP50-95): 100%|██████████| 4/4 [00:54<00:00, 13.74s/it]"
     ]
    },
    {
     "name": "stdout",
     "output_type": "stream",
     "text": [
      "                   all        117       2533      0.997      0.994      0.995      0.967\n"
     ]
    },
    {
     "name": "stderr",
     "output_type": "stream",
     "text": [
      "\n"
     ]
    },
    {
     "name": "stdout",
     "output_type": "stream",
     "text": [
      "\n",
      "      Epoch    GPU_mem   box_loss   cls_loss   dfl_loss  Instances       Size\n"
     ]
    },
    {
     "name": "stderr",
     "output_type": "stream",
     "text": [
      "     69/100         0G     0.2376     0.1386     0.7994        220        640: 100%|██████████| 77/77 [27:38<00:00, 21.53s/it]\n",
      "                 Class     Images  Instances      Box(P          R      mAP50  mAP50-95): 100%|██████████| 4/4 [00:55<00:00, 13.96s/it]"
     ]
    },
    {
     "name": "stdout",
     "output_type": "stream",
     "text": [
      "                   all        117       2533      0.994      0.988      0.994      0.966\n"
     ]
    },
    {
     "name": "stderr",
     "output_type": "stream",
     "text": [
      "\n"
     ]
    },
    {
     "name": "stdout",
     "output_type": "stream",
     "text": [
      "\n",
      "      Epoch    GPU_mem   box_loss   cls_loss   dfl_loss  Instances       Size\n"
     ]
    },
    {
     "name": "stderr",
     "output_type": "stream",
     "text": [
      "     70/100         0G     0.2331      0.136     0.7977        226        640: 100%|██████████| 77/77 [26:47<00:00, 20.87s/it]\n",
      "                 Class     Images  Instances      Box(P          R      mAP50  mAP50-95): 100%|██████████| 4/4 [00:56<00:00, 14.12s/it]"
     ]
    },
    {
     "name": "stdout",
     "output_type": "stream",
     "text": [
      "                   all        117       2533      0.997      0.996      0.995      0.969\n"
     ]
    },
    {
     "name": "stderr",
     "output_type": "stream",
     "text": [
      "\n"
     ]
    },
    {
     "name": "stdout",
     "output_type": "stream",
     "text": [
      "\n",
      "      Epoch    GPU_mem   box_loss   cls_loss   dfl_loss  Instances       Size\n"
     ]
    },
    {
     "name": "stderr",
     "output_type": "stream",
     "text": [
      "     71/100         0G     0.2298     0.1358     0.7973        112        640: 100%|██████████| 77/77 [26:56<00:00, 20.99s/it]\n",
      "                 Class     Images  Instances      Box(P          R      mAP50  mAP50-95): 100%|██████████| 4/4 [00:54<00:00, 13.67s/it]"
     ]
    },
    {
     "name": "stdout",
     "output_type": "stream",
     "text": [
      "                   all        117       2533       0.99      0.985      0.993      0.963\n"
     ]
    },
    {
     "name": "stderr",
     "output_type": "stream",
     "text": [
      "\n"
     ]
    },
    {
     "name": "stdout",
     "output_type": "stream",
     "text": [
      "\n",
      "      Epoch    GPU_mem   box_loss   cls_loss   dfl_loss  Instances       Size\n"
     ]
    },
    {
     "name": "stderr",
     "output_type": "stream",
     "text": [
      "     72/100         0G     0.2368     0.1369        0.8         76        640: 100%|██████████| 77/77 [26:31<00:00, 20.66s/it]\n",
      "                 Class     Images  Instances      Box(P          R      mAP50  mAP50-95): 100%|██████████| 4/4 [00:54<00:00, 13.72s/it]"
     ]
    },
    {
     "name": "stdout",
     "output_type": "stream",
     "text": [
      "                   all        117       2533      0.996      0.994      0.995      0.967\n"
     ]
    },
    {
     "name": "stderr",
     "output_type": "stream",
     "text": [
      "\n"
     ]
    },
    {
     "name": "stdout",
     "output_type": "stream",
     "text": [
      "\n",
      "      Epoch    GPU_mem   box_loss   cls_loss   dfl_loss  Instances       Size\n"
     ]
    },
    {
     "name": "stderr",
     "output_type": "stream",
     "text": [
      "     73/100         0G       0.23     0.1354     0.7976        115        640: 100%|██████████| 77/77 [27:10<00:00, 21.17s/it]\n",
      "                 Class     Images  Instances      Box(P          R      mAP50  mAP50-95): 100%|██████████| 4/4 [00:55<00:00, 13.87s/it]"
     ]
    },
    {
     "name": "stdout",
     "output_type": "stream",
     "text": [
      "                   all        117       2533      0.997       0.99      0.995      0.969\n"
     ]
    },
    {
     "name": "stderr",
     "output_type": "stream",
     "text": [
      "\n"
     ]
    },
    {
     "name": "stdout",
     "output_type": "stream",
     "text": [
      "\n",
      "      Epoch    GPU_mem   box_loss   cls_loss   dfl_loss  Instances       Size\n"
     ]
    },
    {
     "name": "stderr",
     "output_type": "stream",
     "text": [
      "     74/100         0G     0.2262     0.1326     0.7976        187        640: 100%|██████████| 77/77 [26:53<00:00, 20.95s/it]\n",
      "                 Class     Images  Instances      Box(P          R      mAP50  mAP50-95): 100%|██████████| 4/4 [00:56<00:00, 14.12s/it]"
     ]
    },
    {
     "name": "stdout",
     "output_type": "stream",
     "text": [
      "                   all        117       2533      0.993      0.993      0.995      0.968\n"
     ]
    },
    {
     "name": "stderr",
     "output_type": "stream",
     "text": [
      "\n"
     ]
    },
    {
     "name": "stdout",
     "output_type": "stream",
     "text": [
      "\n",
      "      Epoch    GPU_mem   box_loss   cls_loss   dfl_loss  Instances       Size\n"
     ]
    },
    {
     "name": "stderr",
     "output_type": "stream",
     "text": [
      "     75/100         0G     0.2273     0.1313     0.7983        162        640: 100%|██████████| 77/77 [27:13<00:00, 21.21s/it]\n",
      "                 Class     Images  Instances      Box(P          R      mAP50  mAP50-95): 100%|██████████| 4/4 [00:54<00:00, 13.69s/it]"
     ]
    },
    {
     "name": "stdout",
     "output_type": "stream",
     "text": [
      "                   all        117       2533      0.989      0.986      0.991      0.963\n"
     ]
    },
    {
     "name": "stderr",
     "output_type": "stream",
     "text": [
      "\n"
     ]
    },
    {
     "name": "stdout",
     "output_type": "stream",
     "text": [
      "\n",
      "      Epoch    GPU_mem   box_loss   cls_loss   dfl_loss  Instances       Size\n"
     ]
    },
    {
     "name": "stderr",
     "output_type": "stream",
     "text": [
      "     76/100         0G       0.23     0.1332     0.7965        152        640: 100%|██████████| 77/77 [27:00<00:00, 21.05s/it]\n",
      "                 Class     Images  Instances      Box(P          R      mAP50  mAP50-95): 100%|██████████| 4/4 [00:55<00:00, 13.99s/it]"
     ]
    },
    {
     "name": "stdout",
     "output_type": "stream",
     "text": [
      "                   all        117       2533      0.993       0.99      0.994      0.967\n"
     ]
    },
    {
     "name": "stderr",
     "output_type": "stream",
     "text": [
      "\n"
     ]
    },
    {
     "name": "stdout",
     "output_type": "stream",
     "text": [
      "\n",
      "      Epoch    GPU_mem   box_loss   cls_loss   dfl_loss  Instances       Size\n"
     ]
    },
    {
     "name": "stderr",
     "output_type": "stream",
     "text": [
      "     77/100         0G     0.2235     0.1313      0.796        261        640: 100%|██████████| 77/77 [27:08<00:00, 21.15s/it]\n",
      "                 Class     Images  Instances      Box(P          R      mAP50  mAP50-95): 100%|██████████| 4/4 [00:54<00:00, 13.74s/it]"
     ]
    },
    {
     "name": "stdout",
     "output_type": "stream",
     "text": [
      "                   all        117       2533      0.995      0.991      0.994      0.967\n"
     ]
    },
    {
     "name": "stderr",
     "output_type": "stream",
     "text": [
      "\n"
     ]
    },
    {
     "name": "stdout",
     "output_type": "stream",
     "text": [
      "\n",
      "      Epoch    GPU_mem   box_loss   cls_loss   dfl_loss  Instances       Size\n"
     ]
    },
    {
     "name": "stderr",
     "output_type": "stream",
     "text": [
      "     78/100         0G     0.2209     0.1276     0.7966        187        640: 100%|██████████| 77/77 [27:34<00:00, 21.48s/it]\n",
      "                 Class     Images  Instances      Box(P          R      mAP50  mAP50-95): 100%|██████████| 4/4 [00:56<00:00, 14.12s/it]"
     ]
    },
    {
     "name": "stdout",
     "output_type": "stream",
     "text": [
      "                   all        117       2533      0.992      0.988      0.993      0.965\n"
     ]
    },
    {
     "name": "stderr",
     "output_type": "stream",
     "text": [
      "\n"
     ]
    },
    {
     "name": "stdout",
     "output_type": "stream",
     "text": [
      "\n",
      "      Epoch    GPU_mem   box_loss   cls_loss   dfl_loss  Instances       Size\n"
     ]
    },
    {
     "name": "stderr",
     "output_type": "stream",
     "text": [
      "     79/100         0G     0.2202     0.1258     0.7958        118        640: 100%|██████████| 77/77 [27:13<00:00, 21.21s/it]\n",
      "                 Class     Images  Instances      Box(P          R      mAP50  mAP50-95): 100%|██████████| 4/4 [00:54<00:00, 13.56s/it]"
     ]
    },
    {
     "name": "stdout",
     "output_type": "stream",
     "text": [
      "                   all        117       2533      0.992      0.991      0.994      0.969\n"
     ]
    },
    {
     "name": "stderr",
     "output_type": "stream",
     "text": [
      "\n"
     ]
    },
    {
     "name": "stdout",
     "output_type": "stream",
     "text": [
      "\n",
      "      Epoch    GPU_mem   box_loss   cls_loss   dfl_loss  Instances       Size\n"
     ]
    },
    {
     "name": "stderr",
     "output_type": "stream",
     "text": [
      "     80/100         0G      0.222     0.1224     0.7958        186        640: 100%|██████████| 77/77 [27:11<00:00, 21.19s/it]\n",
      "                 Class     Images  Instances      Box(P          R      mAP50  mAP50-95): 100%|██████████| 4/4 [00:56<00:00, 14.02s/it]"
     ]
    },
    {
     "name": "stdout",
     "output_type": "stream",
     "text": [
      "                   all        117       2533      0.993      0.991      0.994      0.968\n"
     ]
    },
    {
     "name": "stderr",
     "output_type": "stream",
     "text": [
      "\n"
     ]
    },
    {
     "name": "stdout",
     "output_type": "stream",
     "text": [
      "\n",
      "      Epoch    GPU_mem   box_loss   cls_loss   dfl_loss  Instances       Size\n"
     ]
    },
    {
     "name": "stderr",
     "output_type": "stream",
     "text": [
      "     81/100         0G      0.214      0.123     0.7967        128        640: 100%|██████████| 77/77 [26:59<00:00, 21.04s/it]\n",
      "                 Class     Images  Instances      Box(P          R      mAP50  mAP50-95): 100%|██████████| 4/4 [00:54<00:00, 13.72s/it]"
     ]
    },
    {
     "name": "stdout",
     "output_type": "stream",
     "text": [
      "                   all        117       2533      0.996      0.991      0.994      0.968\n"
     ]
    },
    {
     "name": "stderr",
     "output_type": "stream",
     "text": [
      "\n"
     ]
    },
    {
     "name": "stdout",
     "output_type": "stream",
     "text": [
      "\n",
      "      Epoch    GPU_mem   box_loss   cls_loss   dfl_loss  Instances       Size\n"
     ]
    },
    {
     "name": "stderr",
     "output_type": "stream",
     "text": [
      "     82/100         0G     0.2167     0.1253      0.795        198        640: 100%|██████████| 77/77 [27:12<00:00, 21.20s/it]\n",
      "                 Class     Images  Instances      Box(P          R      mAP50  mAP50-95): 100%|██████████| 4/4 [00:54<00:00, 13.59s/it]"
     ]
    },
    {
     "name": "stdout",
     "output_type": "stream",
     "text": [
      "                   all        117       2533      0.993      0.988      0.994      0.967\n"
     ]
    },
    {
     "name": "stderr",
     "output_type": "stream",
     "text": [
      "\n"
     ]
    },
    {
     "name": "stdout",
     "output_type": "stream",
     "text": [
      "\n",
      "      Epoch    GPU_mem   box_loss   cls_loss   dfl_loss  Instances       Size\n"
     ]
    },
    {
     "name": "stderr",
     "output_type": "stream",
     "text": [
      "     83/100         0G     0.2176     0.1229     0.7957        167        640: 100%|██████████| 77/77 [27:03<00:00, 21.09s/it]\n",
      "                 Class     Images  Instances      Box(P          R      mAP50  mAP50-95): 100%|██████████| 4/4 [00:55<00:00, 13.75s/it]"
     ]
    },
    {
     "name": "stdout",
     "output_type": "stream",
     "text": [
      "                   all        117       2533      0.997      0.992      0.994       0.97\n"
     ]
    },
    {
     "name": "stderr",
     "output_type": "stream",
     "text": [
      "\n"
     ]
    },
    {
     "name": "stdout",
     "output_type": "stream",
     "text": [
      "\n",
      "      Epoch    GPU_mem   box_loss   cls_loss   dfl_loss  Instances       Size\n"
     ]
    },
    {
     "name": "stderr",
     "output_type": "stream",
     "text": [
      "     84/100         0G     0.2122     0.1206     0.7931        146        640: 100%|██████████| 77/77 [27:16<00:00, 21.25s/it]\n",
      "                 Class     Images  Instances      Box(P          R      mAP50  mAP50-95): 100%|██████████| 4/4 [00:56<00:00, 14.01s/it]"
     ]
    },
    {
     "name": "stdout",
     "output_type": "stream",
     "text": [
      "                   all        117       2533      0.995      0.992      0.994      0.968\n"
     ]
    },
    {
     "name": "stderr",
     "output_type": "stream",
     "text": [
      "\n"
     ]
    },
    {
     "name": "stdout",
     "output_type": "stream",
     "text": [
      "\n",
      "      Epoch    GPU_mem   box_loss   cls_loss   dfl_loss  Instances       Size\n"
     ]
    },
    {
     "name": "stderr",
     "output_type": "stream",
     "text": [
      "     85/100         0G     0.2138     0.1229     0.7966        174        640: 100%|██████████| 77/77 [26:24<00:00, 20.58s/it]\n",
      "                 Class     Images  Instances      Box(P          R      mAP50  mAP50-95): 100%|██████████| 4/4 [00:55<00:00, 13.76s/it]"
     ]
    },
    {
     "name": "stdout",
     "output_type": "stream",
     "text": [
      "                   all        117       2533      0.993       0.99      0.994      0.967\n"
     ]
    },
    {
     "name": "stderr",
     "output_type": "stream",
     "text": [
      "\n"
     ]
    },
    {
     "name": "stdout",
     "output_type": "stream",
     "text": [
      "\n",
      "      Epoch    GPU_mem   box_loss   cls_loss   dfl_loss  Instances       Size\n"
     ]
    },
    {
     "name": "stderr",
     "output_type": "stream",
     "text": [
      "     86/100         0G     0.2113     0.1201     0.7958        134        640: 100%|██████████| 77/77 [27:31<00:00, 21.44s/it]\n",
      "                 Class     Images  Instances      Box(P          R      mAP50  mAP50-95): 100%|██████████| 4/4 [00:55<00:00, 13.79s/it]"
     ]
    },
    {
     "name": "stdout",
     "output_type": "stream",
     "text": [
      "                   all        117       2533      0.996      0.993      0.994      0.969\n"
     ]
    },
    {
     "name": "stderr",
     "output_type": "stream",
     "text": [
      "\n"
     ]
    },
    {
     "name": "stdout",
     "output_type": "stream",
     "text": [
      "\n",
      "      Epoch    GPU_mem   box_loss   cls_loss   dfl_loss  Instances       Size\n"
     ]
    },
    {
     "name": "stderr",
     "output_type": "stream",
     "text": [
      "     87/100         0G     0.2109     0.1208      0.794        145        640: 100%|██████████| 77/77 [26:20<00:00, 20.52s/it]\n",
      "                 Class     Images  Instances      Box(P          R      mAP50  mAP50-95): 100%|██████████| 4/4 [00:54<00:00, 13.57s/it]"
     ]
    },
    {
     "name": "stdout",
     "output_type": "stream",
     "text": [
      "                   all        117       2533      0.994      0.989      0.994      0.967\n"
     ]
    },
    {
     "name": "stderr",
     "output_type": "stream",
     "text": [
      "\n"
     ]
    },
    {
     "name": "stdout",
     "output_type": "stream",
     "text": [
      "\n",
      "      Epoch    GPU_mem   box_loss   cls_loss   dfl_loss  Instances       Size\n"
     ]
    },
    {
     "name": "stderr",
     "output_type": "stream",
     "text": [
      "     88/100         0G     0.2071     0.1206     0.7953         86        640: 100%|██████████| 77/77 [27:02<00:00, 21.07s/it]\n",
      "                 Class     Images  Instances      Box(P          R      mAP50  mAP50-95): 100%|██████████| 4/4 [00:56<00:00, 14.14s/it]"
     ]
    },
    {
     "name": "stdout",
     "output_type": "stream",
     "text": [
      "                   all        117       2533      0.994       0.99      0.994      0.967\n"
     ]
    },
    {
     "name": "stderr",
     "output_type": "stream",
     "text": [
      "\n"
     ]
    },
    {
     "name": "stdout",
     "output_type": "stream",
     "text": [
      "\n",
      "      Epoch    GPU_mem   box_loss   cls_loss   dfl_loss  Instances       Size\n"
     ]
    },
    {
     "name": "stderr",
     "output_type": "stream",
     "text": [
      "     89/100         0G     0.2064     0.1163     0.7943        166        640: 100%|██████████| 77/77 [26:56<00:00, 20.99s/it]\n",
      "                 Class     Images  Instances      Box(P          R      mAP50  mAP50-95): 100%|██████████| 4/4 [00:54<00:00, 13.68s/it]"
     ]
    },
    {
     "name": "stdout",
     "output_type": "stream",
     "text": [
      "                   all        117       2533      0.996      0.992      0.994      0.969\n"
     ]
    },
    {
     "name": "stderr",
     "output_type": "stream",
     "text": [
      "\n"
     ]
    },
    {
     "name": "stdout",
     "output_type": "stream",
     "text": [
      "\n",
      "      Epoch    GPU_mem   box_loss   cls_loss   dfl_loss  Instances       Size\n"
     ]
    },
    {
     "name": "stderr",
     "output_type": "stream",
     "text": [
      "     90/100         0G     0.2078     0.1208     0.7971        149        640: 100%|██████████| 77/77 [27:05<00:00, 21.11s/it]\n",
      "                 Class     Images  Instances      Box(P          R      mAP50  mAP50-95): 100%|██████████| 4/4 [00:56<00:00, 14.08s/it]"
     ]
    },
    {
     "name": "stdout",
     "output_type": "stream",
     "text": [
      "                   all        117       2533      0.992      0.991      0.994      0.968\n"
     ]
    },
    {
     "name": "stderr",
     "output_type": "stream",
     "text": [
      "\n"
     ]
    },
    {
     "name": "stdout",
     "output_type": "stream",
     "text": [
      "Closing dataloader mosaic\n",
      "\n",
      "      Epoch    GPU_mem   box_loss   cls_loss   dfl_loss  Instances       Size\n"
     ]
    },
    {
     "name": "stderr",
     "output_type": "stream",
     "text": [
      "'pin_memory' argument is set as true but no accelerator is found, then device pinned memory won't be used.\n",
      "     91/100         0G     0.1752     0.1061     0.7898        106        640: 100%|██████████| 77/77 [27:02<00:00, 21.07s/it]\n",
      "                 Class     Images  Instances      Box(P          R      mAP50  mAP50-95): 100%|██████████| 4/4 [00:55<00:00, 13.99s/it]"
     ]
    },
    {
     "name": "stdout",
     "output_type": "stream",
     "text": [
      "                   all        117       2533      0.994       0.99      0.994      0.967\n"
     ]
    },
    {
     "name": "stderr",
     "output_type": "stream",
     "text": [
      "\n"
     ]
    },
    {
     "name": "stdout",
     "output_type": "stream",
     "text": [
      "\n",
      "      Epoch    GPU_mem   box_loss   cls_loss   dfl_loss  Instances       Size\n"
     ]
    },
    {
     "name": "stderr",
     "output_type": "stream",
     "text": [
      "     92/100         0G     0.1681     0.1047     0.7849         80        640: 100%|██████████| 77/77 [26:46<00:00, 20.86s/it]\n",
      "                 Class     Images  Instances      Box(P          R      mAP50  mAP50-95): 100%|██████████| 4/4 [00:55<00:00, 13.98s/it]"
     ]
    },
    {
     "name": "stdout",
     "output_type": "stream",
     "text": [
      "                   all        117       2533      0.994      0.989      0.994      0.968\n"
     ]
    },
    {
     "name": "stderr",
     "output_type": "stream",
     "text": [
      "\n"
     ]
    },
    {
     "name": "stdout",
     "output_type": "stream",
     "text": [
      "\n",
      "      Epoch    GPU_mem   box_loss   cls_loss   dfl_loss  Instances       Size\n"
     ]
    },
    {
     "name": "stderr",
     "output_type": "stream",
     "text": [
      "     93/100         0G     0.1656     0.1026     0.7847         80        640: 100%|██████████| 77/77 [26:57<00:00, 21.01s/it]\n",
      "                 Class     Images  Instances      Box(P          R      mAP50  mAP50-95): 100%|██████████| 4/4 [00:56<00:00, 14.12s/it]"
     ]
    },
    {
     "name": "stdout",
     "output_type": "stream",
     "text": [
      "                   all        117       2533      0.994      0.988      0.994      0.968\n"
     ]
    },
    {
     "name": "stderr",
     "output_type": "stream",
     "text": [
      "\n"
     ]
    },
    {
     "name": "stdout",
     "output_type": "stream",
     "text": [
      "\n",
      "      Epoch    GPU_mem   box_loss   cls_loss   dfl_loss  Instances       Size\n"
     ]
    },
    {
     "name": "stderr",
     "output_type": "stream",
     "text": [
      "     94/100         0G     0.1581    0.09703     0.7836        100        640: 100%|██████████| 77/77 [26:48<00:00, 20.89s/it]\n",
      "                 Class     Images  Instances      Box(P          R      mAP50  mAP50-95): 100%|██████████| 4/4 [00:55<00:00, 13.85s/it]"
     ]
    },
    {
     "name": "stdout",
     "output_type": "stream",
     "text": [
      "                   all        117       2533      0.994      0.989      0.993      0.967\n"
     ]
    },
    {
     "name": "stderr",
     "output_type": "stream",
     "text": [
      "\n"
     ]
    },
    {
     "name": "stdout",
     "output_type": "stream",
     "text": [
      "\n",
      "      Epoch    GPU_mem   box_loss   cls_loss   dfl_loss  Instances       Size\n"
     ]
    },
    {
     "name": "stderr",
     "output_type": "stream",
     "text": [
      "     95/100         0G     0.1612     0.1001     0.7858         96        640: 100%|██████████| 77/77 [26:58<00:00, 21.02s/it]\n",
      "                 Class     Images  Instances      Box(P          R      mAP50  mAP50-95): 100%|██████████| 4/4 [00:56<00:00, 14.13s/it]"
     ]
    },
    {
     "name": "stdout",
     "output_type": "stream",
     "text": [
      "                   all        117       2533      0.991      0.989      0.992      0.966\n"
     ]
    },
    {
     "name": "stderr",
     "output_type": "stream",
     "text": [
      "\n"
     ]
    },
    {
     "name": "stdout",
     "output_type": "stream",
     "text": [
      "\n",
      "      Epoch    GPU_mem   box_loss   cls_loss   dfl_loss  Instances       Size\n"
     ]
    },
    {
     "name": "stderr",
     "output_type": "stream",
     "text": [
      "     96/100         0G     0.1567     0.0961     0.7856         97        640: 100%|██████████| 77/77 [26:51<00:00, 20.93s/it]\n",
      "                 Class     Images  Instances      Box(P          R      mAP50  mAP50-95): 100%|██████████| 4/4 [00:56<00:00, 14.02s/it]"
     ]
    },
    {
     "name": "stdout",
     "output_type": "stream",
     "text": [
      "                   all        117       2533      0.991      0.988      0.992      0.966\n"
     ]
    },
    {
     "name": "stderr",
     "output_type": "stream",
     "text": [
      "\n"
     ]
    },
    {
     "name": "stdout",
     "output_type": "stream",
     "text": [
      "\n",
      "      Epoch    GPU_mem   box_loss   cls_loss   dfl_loss  Instances       Size\n"
     ]
    },
    {
     "name": "stderr",
     "output_type": "stream",
     "text": [
      "     97/100         0G     0.1559    0.09568     0.7848         91        640: 100%|██████████| 77/77 [26:39<00:00, 20.78s/it]\n",
      "                 Class     Images  Instances      Box(P          R      mAP50  mAP50-95): 100%|██████████| 4/4 [00:56<00:00, 14.06s/it]\n"
     ]
    },
    {
     "name": "stdout",
     "output_type": "stream",
     "text": [
      "                   all        117       2533      0.991      0.989      0.991      0.965\n",
      "\n",
      "      Epoch    GPU_mem   box_loss   cls_loss   dfl_loss  Instances       Size\n"
     ]
    },
    {
     "name": "stderr",
     "output_type": "stream",
     "text": [
      "     98/100         0G      0.154    0.09343     0.7828        105        640: 100%|██████████| 77/77 [27:07<00:00, 21.13s/it]\n",
      "                 Class     Images  Instances      Box(P          R      mAP50  mAP50-95): 100%|██████████| 4/4 [00:56<00:00, 14.22s/it]"
     ]
    },
    {
     "name": "stdout",
     "output_type": "stream",
     "text": [
      "                   all        117       2533      0.992      0.987      0.991      0.965\n"
     ]
    },
    {
     "name": "stderr",
     "output_type": "stream",
     "text": [
      "\n"
     ]
    },
    {
     "name": "stdout",
     "output_type": "stream",
     "text": [
      "\n",
      "      Epoch    GPU_mem   box_loss   cls_loss   dfl_loss  Instances       Size\n"
     ]
    },
    {
     "name": "stderr",
     "output_type": "stream",
     "text": [
      "     99/100         0G     0.1525    0.09384     0.7856        132        640: 100%|██████████| 77/77 [26:45<00:00, 20.85s/it]\n",
      "                 Class     Images  Instances      Box(P          R      mAP50  mAP50-95): 100%|██████████| 4/4 [00:56<00:00, 14.12s/it]"
     ]
    },
    {
     "name": "stdout",
     "output_type": "stream",
     "text": [
      "                   all        117       2533      0.994      0.988      0.991      0.965\n"
     ]
    },
    {
     "name": "stderr",
     "output_type": "stream",
     "text": [
      "\n"
     ]
    },
    {
     "name": "stdout",
     "output_type": "stream",
     "text": [
      "\n",
      "      Epoch    GPU_mem   box_loss   cls_loss   dfl_loss  Instances       Size\n"
     ]
    },
    {
     "name": "stderr",
     "output_type": "stream",
     "text": [
      "    100/100         0G     0.1502    0.09315     0.7827        107        640: 100%|██████████| 77/77 [26:59<00:00, 21.04s/it]\n",
      "                 Class     Images  Instances      Box(P          R      mAP50  mAP50-95): 100%|██████████| 4/4 [00:56<00:00, 14.14s/it]"
     ]
    },
    {
     "name": "stdout",
     "output_type": "stream",
     "text": [
      "                   all        117       2533      0.992      0.989      0.991      0.964\n"
     ]
    },
    {
     "name": "stderr",
     "output_type": "stream",
     "text": [
      "\n"
     ]
    },
    {
     "name": "stdout",
     "output_type": "stream",
     "text": [
      "\n",
      "100 epochs completed in 46.435 hours.\n",
      "Optimizer stripped from runs\\detect\\train\\weights\\last.pt, 52.0MB\n",
      "Optimizer stripped from runs\\detect\\train\\weights\\best.pt, 52.0MB\n",
      "\n",
      "Validating runs\\detect\\train\\weights\\best.pt...\n",
      "Ultralytics 8.3.140  Python-3.12.6 torch-2.7.0+cpu CPU (Intel Core(TM) i5-9400F 2.90GHz)\n",
      "Model summary (fused): 92 layers, 25,846,708 parameters, 0 gradients, 78.7 GFLOPs\n"
     ]
    },
    {
     "name": "stderr",
     "output_type": "stream",
     "text": [
      "                 Class     Images  Instances      Box(P          R      mAP50  mAP50-95): 100%|██████████| 4/4 [00:51<00:00, 12.88s/it]\n"
     ]
    },
    {
     "name": "stdout",
     "output_type": "stream",
     "text": [
      "                   all        117       2533      0.997      0.992      0.994       0.97\n",
      "          black_bishop         96        143          1       0.98      0.995      0.959\n",
      "            black_king        117        117          1      0.991      0.995      0.976\n",
      "          black_knight         81        110      0.999          1      0.995      0.962\n",
      "            black_pawn        117        637      0.998      0.995      0.995      0.971\n",
      "           black_queen         75         75      0.985      0.987      0.989      0.982\n",
      "            black_rook         86        143      0.993      0.993      0.995       0.95\n",
      "          white_bishop        116        147          1      0.989      0.995      0.956\n",
      "            white_king        117        117          1          1      0.995       0.99\n",
      "          white_knight         76        112      0.998      0.991      0.995      0.969\n",
      "            white_pawn        117        704          1      0.993      0.995      0.978\n",
      "           white_queen         76         76          1      0.991      0.995      0.984\n",
      "            white_rook         88        152      0.987      0.997      0.994      0.962\n",
      "Speed: 3.4ms preprocess, 411.3ms inference, 0.0ms loss, 0.8ms postprocess per image\n",
      "Results saved to \u001b[1mruns\\detect\\train\u001b[0m\n"
     ]
    }
   ],
   "source": [
    "# treinar o modelo\n",
    "\n",
    "from ultralytics import YOLO\n",
    "\n",
    "# lista de modelos pre-treinados disponível em https://docs.ultralytics.com/models/yolov8/#performance-metrics\n",
    "model = YOLO(\"yolov8m.pt\")  # carregar o modelo pre-treinado que se descarregou\n",
    "\n",
    "# Treinar o modelo\n",
    "results = model.train(data='AI-7/data.yaml', epochs=100, imgsz=640, device='cpu') # use CPU if no CUDA devices are available\n",
    "# results = model.train(data='FoE-bot-2/data.yaml', epochs=100, imgsz=640, device='mps') # apple sillicon"
   ]
  },
  {
   "cell_type": "code",
   "execution_count": 28,
   "id": "7df4f4ba",
   "metadata": {},
   "outputs": [
    {
     "name": "stdout",
     "output_type": "stream",
     "text": [
      "\n",
      "0: 640x640 2 black_bishops, 1 black_king, 2 black_knights, 8 black_pawns, 1 black_queen, 2 black_rooks, 2 white_bishops, 1 white_king, 2 white_knights, 8 white_pawns, 1 white_queen, 2 white_rooks, 372.1ms\n",
      "Speed: 4.7ms preprocess, 372.1ms inference, 1.1ms postprocess per image at shape (1, 3, 640, 640)\n",
      "==== Resultados Previsão ====\n",
      "Imagem: captured_images\\game1_pos0.png\n",
      "--- Objeto 1 ---\n",
      "Class: black_rook (ID: 5.0)\n",
      "Coordenadas Bounding Box: [     736.44      19.797      795.09      97.627]\n",
      "Confiança: 0.9777\n",
      "-------------------\n",
      "--- Objeto 2 ---\n",
      "Class: black_pawn (ID: 3.0)\n",
      "Coordenadas Bounding Box: [     735.97      128.17      791.27      199.34]\n",
      "Confiança: 0.9680\n",
      "-------------------\n",
      "--- Objeto 3 ---\n",
      "Class: black_rook (ID: 5.0)\n",
      "Coordenadas Bounding Box: [      21.43       19.61      80.856      97.781]\n",
      "Confiança: 0.9676\n",
      "-------------------\n",
      "--- Objeto 4 ---\n",
      "Class: black_pawn (ID: 3.0)\n",
      "Coordenadas Bounding Box: [     431.74      124.85       484.3      196.12]\n",
      "Confiança: 0.9672\n",
      "-------------------\n",
      "--- Objeto 5 ---\n",
      "Class: white_pawn (ID: 9.0)\n",
      "Coordenadas Bounding Box: [     228.44      635.37      282.83      705.98]\n",
      "Confiança: 0.9669\n",
      "-------------------\n",
      "--- Objeto 6 ---\n",
      "Class: white_pawn (ID: 9.0)\n",
      "Coordenadas Bounding Box: [     637.21      636.56      691.91      708.04]\n",
      "Confiança: 0.9665\n",
      "-------------------\n",
      "--- Objeto 7 ---\n",
      "Class: black_pawn (ID: 3.0)\n",
      "Coordenadas Bounding Box: [     634.19       128.2      688.93       199.3]\n",
      "Confiança: 0.9663\n",
      "-------------------\n",
      "--- Objeto 8 ---\n",
      "Class: black_pawn (ID: 3.0)\n",
      "Coordenadas Bounding Box: [     330.64      128.45      384.37      199.61]\n",
      "Confiança: 0.9656\n",
      "-------------------\n",
      "--- Objeto 9 ---\n",
      "Class: black_knight (ID: 2.0)\n",
      "Coordenadas Bounding Box: [     629.39      10.014      697.74      94.166]\n",
      "Confiança: 0.9627\n",
      "-------------------\n",
      "--- Objeto 10 ---\n",
      "Class: black_pawn (ID: 3.0)\n",
      "Coordenadas Bounding Box: [     532.78      127.09      587.38      198.74]\n",
      "Confiança: 0.9583\n",
      "-------------------\n",
      "--- Objeto 11 ---\n",
      "Class: black_queen (ID: 4.0)\n",
      "Coordenadas Bounding Box: [     314.39      7.9004      401.57      97.549]\n",
      "Confiança: 0.9550\n",
      "-------------------\n",
      "--- Objeto 12 ---\n",
      "Class: white_pawn (ID: 9.0)\n",
      "Coordenadas Bounding Box: [      430.2      635.89      484.42      706.54]\n",
      "Confiança: 0.9534\n",
      "-------------------\n",
      "--- Objeto 13 ---\n",
      "Class: white_pawn (ID: 9.0)\n",
      "Coordenadas Bounding Box: [     739.05      636.08      792.71      706.62]\n",
      "Confiança: 0.9529\n",
      "-------------------\n",
      "--- Objeto 14 ---\n",
      "Class: black_pawn (ID: 3.0)\n",
      "Coordenadas Bounding Box: [     122.46      128.68      177.23      199.95]\n",
      "Confiança: 0.9512\n",
      "-------------------\n",
      "--- Objeto 15 ---\n",
      "Class: black_bishop (ID: 0.0)\n",
      "Coordenadas Bounding Box: [     527.33       10.04      589.64      98.057]\n",
      "Confiança: 0.9475\n",
      "-------------------\n",
      "--- Objeto 16 ---\n",
      "Class: black_bishop (ID: 0.0)\n",
      "Coordenadas Bounding Box: [      223.5       10.88      285.37      97.727]\n",
      "Confiança: 0.9472\n",
      "-------------------\n",
      "--- Objeto 17 ---\n",
      "Class: white_pawn (ID: 9.0)\n",
      "Coordenadas Bounding Box: [      328.8      636.25      383.74      706.36]\n",
      "Confiança: 0.9468\n",
      "-------------------\n",
      "--- Objeto 18 ---\n",
      "Class: white_pawn (ID: 9.0)\n",
      "Coordenadas Bounding Box: [     124.08      636.11      177.96      706.32]\n",
      "Confiança: 0.9431\n",
      "-------------------\n",
      "--- Objeto 19 ---\n",
      "Class: black_pawn (ID: 3.0)\n",
      "Coordenadas Bounding Box: [     229.55      128.66      284.64       199.8]\n",
      "Confiança: 0.9426\n",
      "-------------------\n",
      "--- Objeto 20 ---\n",
      "Class: white_bishop (ID: 6.0)\n",
      "Coordenadas Bounding Box: [     530.07      723.07      589.79       807.8]\n",
      "Confiança: 0.9421\n",
      "-------------------\n",
      "--- Objeto 21 ---\n",
      "Class: white_pawn (ID: 9.0)\n",
      "Coordenadas Bounding Box: [     22.512      635.28      76.974      706.67]\n",
      "Confiança: 0.9419\n",
      "-------------------\n",
      "--- Objeto 22 ---\n",
      "Class: black_king (ID: 1.0)\n",
      "Coordenadas Bounding Box: [     420.21      6.3594      499.03      94.095]\n",
      "Confiança: 0.9363\n",
      "-------------------\n",
      "--- Objeto 23 ---\n",
      "Class: white_knight (ID: 8.0)\n",
      "Coordenadas Bounding Box: [      630.1      726.16      697.57      808.36]\n",
      "Confiança: 0.9353\n",
      "-------------------\n",
      "--- Objeto 24 ---\n",
      "Class: white_queen (ID: 10.0)\n",
      "Coordenadas Bounding Box: [     316.97      724.63      396.84      807.66]\n",
      "Confiança: 0.9352\n",
      "-------------------\n",
      "--- Objeto 25 ---\n",
      "Class: black_knight (ID: 2.0)\n",
      "Coordenadas Bounding Box: [     118.19       10.37      188.34      94.134]\n",
      "Confiança: 0.9276\n",
      "-------------------\n",
      "--- Objeto 26 ---\n",
      "Class: white_pawn (ID: 9.0)\n",
      "Coordenadas Bounding Box: [     535.07      635.56      589.86      706.71]\n",
      "Confiança: 0.9267\n",
      "-------------------\n",
      "--- Objeto 27 ---\n",
      "Class: white_king (ID: 7.0)\n",
      "Coordenadas Bounding Box: [     418.27      724.28      495.92      809.42]\n",
      "Confiança: 0.9255\n",
      "-------------------\n",
      "--- Objeto 28 ---\n",
      "Class: black_pawn (ID: 3.0)\n",
      "Coordenadas Bounding Box: [     21.478      128.82      75.747      198.71]\n",
      "Confiança: 0.9007\n",
      "-------------------\n",
      "--- Objeto 29 ---\n",
      "Class: white_rook (ID: 11.0)\n",
      "Coordenadas Bounding Box: [     731.95      731.98      792.92      808.39]\n",
      "Confiança: 0.8739\n",
      "-------------------\n",
      "--- Objeto 30 ---\n",
      "Class: white_bishop (ID: 6.0)\n",
      "Coordenadas Bounding Box: [      224.8      724.55      283.51      807.71]\n",
      "Confiança: 0.8735\n",
      "-------------------\n",
      "--- Objeto 31 ---\n",
      "Class: white_knight (ID: 8.0)\n",
      "Coordenadas Bounding Box: [      116.3      724.71      185.96      808.02]\n",
      "Confiança: 0.8194\n",
      "-------------------\n",
      "--- Objeto 32 ---\n",
      "Class: white_rook (ID: 11.0)\n",
      "Coordenadas Bounding Box: [      19.63      732.72      79.556         808]\n",
      "Confiança: 0.5296\n",
      "-------------------\n",
      "\n",
      "\n",
      "\n",
      "0: 640x640 2 black_bishops, 1 black_king, 2 black_knights, 8 black_pawns, 2 black_queens, 2 black_rooks, 2 white_bishops, 1 white_king, 2 white_knights, 8 white_pawns, 1 white_queen, 2 white_rooks, 356.8ms\n",
      "Speed: 4.5ms preprocess, 356.8ms inference, 1.0ms postprocess per image at shape (1, 3, 640, 640)\n",
      "==== Resultados Previsão ====\n",
      "Imagem: captured_images\\game1_pos1.png\n",
      "--- Objeto 1 ---\n",
      "Class: black_rook (ID: 5.0)\n",
      "Coordenadas Bounding Box: [     739.32      19.748      797.39      97.565]\n",
      "Confiança: 0.9781\n",
      "-------------------\n",
      "--- Objeto 2 ---\n",
      "Class: white_pawn (ID: 9.0)\n",
      "Coordenadas Bounding Box: [     331.22      635.57      385.86      706.26]\n",
      "Confiança: 0.9781\n",
      "-------------------\n",
      "--- Objeto 3 ---\n",
      "Class: white_pawn (ID: 9.0)\n",
      "Coordenadas Bounding Box: [     231.26      635.35      285.56      706.14]\n",
      "Confiança: 0.9751\n",
      "-------------------\n",
      "--- Objeto 4 ---\n",
      "Class: black_rook (ID: 5.0)\n",
      "Coordenadas Bounding Box: [     24.402      19.575      83.836       97.59]\n",
      "Confiança: 0.9738\n",
      "-------------------\n",
      "--- Objeto 5 ---\n",
      "Class: white_pawn (ID: 9.0)\n",
      "Coordenadas Bounding Box: [     740.33      636.51      793.56      706.48]\n",
      "Confiança: 0.9732\n",
      "-------------------\n",
      "--- Objeto 6 ---\n",
      "Class: white_pawn (ID: 9.0)\n",
      "Coordenadas Bounding Box: [     537.48      634.56      591.08      706.23]\n",
      "Confiança: 0.9726\n",
      "-------------------\n",
      "--- Objeto 7 ---\n",
      "Class: white_pawn (ID: 9.0)\n",
      "Coordenadas Bounding Box: [     638.33       635.2      692.81       706.6]\n",
      "Confiança: 0.9699\n",
      "-------------------\n",
      "--- Objeto 8 ---\n",
      "Class: white_pawn (ID: 9.0)\n",
      "Coordenadas Bounding Box: [     434.01       429.8      487.89      502.94]\n",
      "Confiança: 0.9690\n",
      "-------------------\n",
      "--- Objeto 9 ---\n",
      "Class: black_pawn (ID: 3.0)\n",
      "Coordenadas Bounding Box: [     738.59      128.29      793.54      199.32]\n",
      "Confiança: 0.9686\n",
      "-------------------\n",
      "--- Objeto 10 ---\n",
      "Class: black_knight (ID: 2.0)\n",
      "Coordenadas Bounding Box: [     630.58      11.301      699.48       95.68]\n",
      "Confiança: 0.9673\n",
      "-------------------\n",
      "--- Objeto 11 ---\n",
      "Class: black_pawn (ID: 3.0)\n",
      "Coordenadas Bounding Box: [     536.31       127.7      590.72      198.94]\n",
      "Confiança: 0.9671\n",
      "-------------------\n",
      "--- Objeto 12 ---\n",
      "Class: black_king (ID: 1.0)\n",
      "Coordenadas Bounding Box: [      422.2      8.3339      500.88      95.949]\n",
      "Confiança: 0.9656\n",
      "-------------------\n",
      "--- Objeto 13 ---\n",
      "Class: black_pawn (ID: 3.0)\n",
      "Coordenadas Bounding Box: [     637.09      128.49      691.78      199.18]\n",
      "Confiança: 0.9649\n",
      "-------------------\n",
      "--- Objeto 14 ---\n",
      "Class: white_queen (ID: 10.0)\n",
      "Coordenadas Bounding Box: [     319.61      724.46      399.56      807.36]\n",
      "Confiança: 0.9636\n",
      "-------------------\n",
      "--- Objeto 15 ---\n",
      "Class: white_rook (ID: 11.0)\n",
      "Coordenadas Bounding Box: [      736.2       733.4      796.71      810.68]\n",
      "Confiança: 0.9632\n",
      "-------------------\n",
      "--- Objeto 16 ---\n",
      "Class: white_knight (ID: 8.0)\n",
      "Coordenadas Bounding Box: [     630.48      726.32      698.04      807.31]\n",
      "Confiança: 0.9624\n",
      "-------------------\n",
      "--- Objeto 17 ---\n",
      "Class: white_king (ID: 7.0)\n",
      "Coordenadas Bounding Box: [      421.2      724.26      498.57      808.97]\n",
      "Confiança: 0.9599\n",
      "-------------------\n",
      "--- Objeto 18 ---\n",
      "Class: white_pawn (ID: 9.0)\n",
      "Coordenadas Bounding Box: [     126.77      635.53      180.73      706.14]\n",
      "Confiança: 0.9594\n",
      "-------------------\n",
      "--- Objeto 19 ---\n",
      "Class: black_pawn (ID: 3.0)\n",
      "Coordenadas Bounding Box: [     332.81      128.55      387.01      199.36]\n",
      "Confiança: 0.9531\n",
      "-------------------\n",
      "--- Objeto 20 ---\n",
      "Class: black_knight (ID: 2.0)\n",
      "Coordenadas Bounding Box: [     120.82      9.9418      190.61      93.579]\n",
      "Confiança: 0.9519\n",
      "-------------------\n",
      "--- Objeto 21 ---\n",
      "Class: black_queen (ID: 4.0)\n",
      "Coordenadas Bounding Box: [     317.24      7.7429       405.6      97.346]\n",
      "Confiança: 0.9438\n",
      "-------------------\n",
      "--- Objeto 22 ---\n",
      "Class: black_pawn (ID: 3.0)\n",
      "Coordenadas Bounding Box: [     232.78      128.18      287.44      199.02]\n",
      "Confiança: 0.9419\n",
      "-------------------\n",
      "--- Objeto 23 ---\n",
      "Class: black_pawn (ID: 3.0)\n",
      "Coordenadas Bounding Box: [     432.17      331.39      487.46      402.72]\n",
      "Confiança: 0.9390\n",
      "-------------------\n",
      "--- Objeto 24 ---\n",
      "Class: white_pawn (ID: 9.0)\n",
      "Coordenadas Bounding Box: [     25.327      635.81      79.961      706.87]\n",
      "Confiança: 0.9315\n",
      "-------------------\n",
      "--- Objeto 25 ---\n",
      "Class: black_bishop (ID: 0.0)\n",
      "Coordenadas Bounding Box: [     228.41      12.034      289.86      98.506]\n",
      "Confiança: 0.9238\n",
      "-------------------\n",
      "--- Objeto 26 ---\n",
      "Class: black_pawn (ID: 3.0)\n",
      "Coordenadas Bounding Box: [     23.793      129.01      77.714      198.55]\n",
      "Confiança: 0.9210\n",
      "-------------------\n",
      "--- Objeto 27 ---\n",
      "Class: black_pawn (ID: 3.0)\n",
      "Coordenadas Bounding Box: [     125.37      129.16      180.67      200.31]\n",
      "Confiança: 0.9208\n",
      "-------------------\n",
      "--- Objeto 28 ---\n",
      "Class: white_knight (ID: 8.0)\n",
      "Coordenadas Bounding Box: [     119.25      724.65      189.05      807.25]\n",
      "Confiança: 0.8856\n",
      "-------------------\n",
      "--- Objeto 29 ---\n",
      "Class: black_bishop (ID: 0.0)\n",
      "Coordenadas Bounding Box: [     532.97      11.375      592.49      97.127]\n",
      "Confiança: 0.8665\n",
      "-------------------\n",
      "--- Objeto 30 ---\n",
      "Class: white_bishop (ID: 6.0)\n",
      "Coordenadas Bounding Box: [      532.6      723.36      592.34      807.58]\n",
      "Confiança: 0.8597\n",
      "-------------------\n",
      "--- Objeto 31 ---\n",
      "Class: white_bishop (ID: 6.0)\n",
      "Coordenadas Bounding Box: [     227.56      724.55      286.58      807.36]\n",
      "Confiança: 0.8489\n",
      "-------------------\n",
      "--- Objeto 32 ---\n",
      "Class: white_rook (ID: 11.0)\n",
      "Coordenadas Bounding Box: [     22.506      732.24      82.133      807.16]\n",
      "Confiança: 0.4799\n",
      "-------------------\n",
      "--- Objeto 33 ---\n",
      "Class: black_queen (ID: 4.0)\n",
      "Coordenadas Bounding Box: [     10.174      419.99      18.934      438.93]\n",
      "Confiança: 0.1220\n",
      "-------------------\n",
      "\n",
      "\n",
      "\n",
      "0: 640x640 2 black_bishops, 1 black_king, 2 black_knights, 8 black_pawns, 1 black_queen, 2 black_rooks, 2 white_bishops, 1 white_king, 2 white_knights, 8 white_pawns, 1 white_queen, 2 white_rooks, 335.0ms\n",
      "Speed: 4.9ms preprocess, 335.0ms inference, 0.9ms postprocess per image at shape (1, 3, 640, 640)\n",
      "==== Resultados Previsão ====\n",
      "Imagem: captured_images\\game1_pos2.png\n",
      "--- Objeto 1 ---\n",
      "Class: black_rook (ID: 5.0)\n",
      "Coordenadas Bounding Box: [     739.26      17.637      797.61       95.39]\n",
      "Confiança: 0.9777\n",
      "-------------------\n",
      "--- Objeto 2 ---\n",
      "Class: white_pawn (ID: 9.0)\n",
      "Coordenadas Bounding Box: [     231.29      632.83       285.5      703.62]\n",
      "Confiança: 0.9747\n",
      "-------------------\n",
      "--- Objeto 3 ---\n",
      "Class: white_king (ID: 7.0)\n",
      "Coordenadas Bounding Box: [      421.3      721.91       498.5      808.02]\n",
      "Confiança: 0.9743\n",
      "-------------------\n",
      "--- Objeto 4 ---\n",
      "Class: white_pawn (ID: 9.0)\n",
      "Coordenadas Bounding Box: [     638.04      632.59      692.63      704.18]\n",
      "Confiança: 0.9743\n",
      "-------------------\n",
      "--- Objeto 5 ---\n",
      "Class: black_rook (ID: 5.0)\n",
      "Coordenadas Bounding Box: [     24.439      17.497      83.894      95.347]\n",
      "Confiança: 0.9735\n",
      "-------------------\n",
      "--- Objeto 6 ---\n",
      "Class: black_knight (ID: 2.0)\n",
      "Coordenadas Bounding Box: [     629.55      9.5132      699.02      93.507]\n",
      "Confiança: 0.9734\n",
      "-------------------\n",
      "--- Objeto 7 ---\n",
      "Class: white_pawn (ID: 9.0)\n",
      "Coordenadas Bounding Box: [      331.4      633.46      385.88      703.79]\n",
      "Confiança: 0.9721\n",
      "-------------------\n",
      "--- Objeto 8 ---\n",
      "Class: black_pawn (ID: 3.0)\n",
      "Coordenadas Bounding Box: [     738.84      126.05      793.67      196.92]\n",
      "Confiança: 0.9711\n",
      "-------------------\n",
      "--- Objeto 9 ---\n",
      "Class: white_pawn (ID: 9.0)\n",
      "Coordenadas Bounding Box: [     740.23      634.18      793.48       703.9]\n",
      "Confiança: 0.9709\n",
      "-------------------\n",
      "--- Objeto 10 ---\n",
      "Class: black_king (ID: 1.0)\n",
      "Coordenadas Bounding Box: [     422.28       5.981      500.81      93.696]\n",
      "Confiança: 0.9702\n",
      "-------------------\n",
      "--- Objeto 11 ---\n",
      "Class: white_rook (ID: 11.0)\n",
      "Coordenadas Bounding Box: [     735.59      730.85      796.52      807.91]\n",
      "Confiança: 0.9693\n",
      "-------------------\n",
      "--- Objeto 12 ---\n",
      "Class: black_pawn (ID: 3.0)\n",
      "Coordenadas Bounding Box: [     536.96      124.76      591.17      196.48]\n",
      "Confiança: 0.9665\n",
      "-------------------\n",
      "--- Objeto 13 ---\n",
      "Class: black_pawn (ID: 3.0)\n",
      "Coordenadas Bounding Box: [     637.23      126.51      691.72      197.13]\n",
      "Confiança: 0.9660\n",
      "-------------------\n",
      "--- Objeto 14 ---\n",
      "Class: white_pawn (ID: 9.0)\n",
      "Coordenadas Bounding Box: [     433.98      427.51      487.87      500.47]\n",
      "Confiança: 0.9658\n",
      "-------------------\n",
      "--- Objeto 15 ---\n",
      "Class: black_pawn (ID: 3.0)\n",
      "Coordenadas Bounding Box: [     333.42      126.45      387.16      197.58]\n",
      "Confiança: 0.9644\n",
      "-------------------\n",
      "--- Objeto 16 ---\n",
      "Class: white_knight (ID: 8.0)\n",
      "Coordenadas Bounding Box: [     630.75      723.74      698.65      805.41]\n",
      "Confiança: 0.9632\n",
      "-------------------\n",
      "--- Objeto 17 ---\n",
      "Class: white_queen (ID: 10.0)\n",
      "Coordenadas Bounding Box: [     319.81      722.19      399.54      805.14]\n",
      "Confiança: 0.9611\n",
      "-------------------\n",
      "--- Objeto 18 ---\n",
      "Class: white_pawn (ID: 9.0)\n",
      "Coordenadas Bounding Box: [     536.78      531.81      591.17      604.33]\n",
      "Confiança: 0.9592\n",
      "-------------------\n",
      "--- Objeto 19 ---\n",
      "Class: white_pawn (ID: 9.0)\n",
      "Coordenadas Bounding Box: [     126.83      632.85      180.62      703.52]\n",
      "Confiança: 0.9562\n",
      "-------------------\n",
      "--- Objeto 20 ---\n",
      "Class: black_pawn (ID: 3.0)\n",
      "Coordenadas Bounding Box: [     433.28      329.13      487.91      400.07]\n",
      "Confiança: 0.9500\n",
      "-------------------\n",
      "--- Objeto 21 ---\n",
      "Class: black_queen (ID: 4.0)\n",
      "Coordenadas Bounding Box: [     316.12      5.5192      405.72      95.367]\n",
      "Confiança: 0.9476\n",
      "-------------------\n",
      "--- Objeto 22 ---\n",
      "Class: black_knight (ID: 2.0)\n",
      "Coordenadas Bounding Box: [     120.92       7.729      190.87      91.278]\n",
      "Confiança: 0.9465\n",
      "-------------------\n",
      "--- Objeto 23 ---\n",
      "Class: black_pawn (ID: 3.0)\n",
      "Coordenadas Bounding Box: [     232.71      126.42      287.23      196.39]\n",
      "Confiança: 0.9416\n",
      "-------------------\n",
      "--- Objeto 24 ---\n",
      "Class: white_pawn (ID: 9.0)\n",
      "Coordenadas Bounding Box: [     25.346      633.08      79.937      704.06]\n",
      "Confiança: 0.9385\n",
      "-------------------\n",
      "--- Objeto 25 ---\n",
      "Class: white_bishop (ID: 6.0)\n",
      "Coordenadas Bounding Box: [     532.82       719.9      591.65      805.69]\n",
      "Confiança: 0.9377\n",
      "-------------------\n",
      "--- Objeto 26 ---\n",
      "Class: black_bishop (ID: 0.0)\n",
      "Coordenadas Bounding Box: [     226.94      9.4169      288.75      95.897]\n",
      "Confiança: 0.9283\n",
      "-------------------\n",
      "--- Objeto 27 ---\n",
      "Class: black_pawn (ID: 3.0)\n",
      "Coordenadas Bounding Box: [      125.6      126.85      180.79      198.17]\n",
      "Confiança: 0.9231\n",
      "-------------------\n",
      "--- Objeto 28 ---\n",
      "Class: black_pawn (ID: 3.0)\n",
      "Coordenadas Bounding Box: [      24.18       126.9      77.762      196.67]\n",
      "Confiança: 0.9222\n",
      "-------------------\n",
      "--- Objeto 29 ---\n",
      "Class: black_bishop (ID: 0.0)\n",
      "Coordenadas Bounding Box: [     532.13      9.4834      592.19       94.04]\n",
      "Confiança: 0.9007\n",
      "-------------------\n",
      "--- Objeto 30 ---\n",
      "Class: white_knight (ID: 8.0)\n",
      "Coordenadas Bounding Box: [     119.24      722.21      189.15      805.23]\n",
      "Confiança: 0.8557\n",
      "-------------------\n",
      "--- Objeto 31 ---\n",
      "Class: white_bishop (ID: 6.0)\n",
      "Coordenadas Bounding Box: [     227.35      721.99      286.32       805.1]\n",
      "Confiança: 0.8519\n",
      "-------------------\n",
      "--- Objeto 32 ---\n",
      "Class: white_rook (ID: 11.0)\n",
      "Coordenadas Bounding Box: [     22.319      730.05      82.041      805.12]\n",
      "Confiança: 0.4831\n",
      "-------------------\n",
      "\n",
      "\n",
      "\n",
      "0: 640x640 2 black_bishops, 1 black_king, 2 black_knights, 8 black_pawns, 1 black_queen, 2 black_rooks, 2 white_bishops, 1 white_king, 2 white_knights, 9 white_pawns, 1 white_queen, 2 white_rooks, 362.9ms\n",
      "Speed: 5.0ms preprocess, 362.9ms inference, 1.0ms postprocess per image at shape (1, 3, 640, 640)\n",
      "==== Resultados Previsão ====\n",
      "Imagem: captured_images\\game1_pos3.png\n",
      "--- Objeto 1 ---\n",
      "Class: black_rook (ID: 5.0)\n",
      "Coordenadas Bounding Box: [     736.04       17.51      794.26      95.586]\n",
      "Confiança: 0.9771\n",
      "-------------------\n",
      "--- Objeto 2 ---\n",
      "Class: white_pawn (ID: 9.0)\n",
      "Coordenadas Bounding Box: [     228.22      633.24      282.59      704.01]\n",
      "Confiança: 0.9760\n",
      "-------------------\n",
      "--- Objeto 3 ---\n",
      "Class: white_pawn (ID: 9.0)\n",
      "Coordenadas Bounding Box: [     635.09      633.47      689.55      704.74]\n",
      "Confiança: 0.9742\n",
      "-------------------\n",
      "--- Objeto 4 ---\n",
      "Class: white_pawn (ID: 9.0)\n",
      "Coordenadas Bounding Box: [     328.23       633.9      383.01      704.26]\n",
      "Confiança: 0.9724\n",
      "-------------------\n",
      "--- Objeto 5 ---\n",
      "Class: white_king (ID: 7.0)\n",
      "Coordenadas Bounding Box: [     418.19      722.13      495.42      808.16]\n",
      "Confiança: 0.9718\n",
      "-------------------\n",
      "--- Objeto 6 ---\n",
      "Class: white_pawn (ID: 9.0)\n",
      "Coordenadas Bounding Box: [     736.97      634.55      790.23       704.4]\n",
      "Confiança: 0.9714\n",
      "-------------------\n",
      "--- Objeto 7 ---\n",
      "Class: black_pawn (ID: 3.0)\n",
      "Coordenadas Bounding Box: [     533.17      125.02      587.64       196.5]\n",
      "Confiança: 0.9710\n",
      "-------------------\n",
      "--- Objeto 8 ---\n",
      "Class: white_rook (ID: 11.0)\n",
      "Coordenadas Bounding Box: [     732.52      731.65      793.02      809.11]\n",
      "Confiança: 0.9710\n",
      "-------------------\n",
      "--- Objeto 9 ---\n",
      "Class: black_pawn (ID: 3.0)\n",
      "Coordenadas Bounding Box: [     735.54      126.19       790.7      197.03]\n",
      "Confiança: 0.9706\n",
      "-------------------\n",
      "--- Objeto 10 ---\n",
      "Class: white_knight (ID: 8.0)\n",
      "Coordenadas Bounding Box: [     627.57      724.07      695.17       805.4]\n",
      "Confiança: 0.9704\n",
      "-------------------\n",
      "--- Objeto 11 ---\n",
      "Class: white_pawn (ID: 9.0)\n",
      "Coordenadas Bounding Box: [     22.138      633.31      76.652      704.44]\n",
      "Confiança: 0.9700\n",
      "-------------------\n",
      "--- Objeto 12 ---\n",
      "Class: black_knight (ID: 2.0)\n",
      "Coordenadas Bounding Box: [     626.71      9.1823      696.05      93.777]\n",
      "Confiança: 0.9699\n",
      "-------------------\n",
      "--- Objeto 13 ---\n",
      "Class: black_king (ID: 1.0)\n",
      "Coordenadas Bounding Box: [     419.07      6.1075      497.54      93.989]\n",
      "Confiança: 0.9679\n",
      "-------------------\n",
      "--- Objeto 14 ---\n",
      "Class: white_queen (ID: 10.0)\n",
      "Coordenadas Bounding Box: [      316.4      722.71       396.4      805.58]\n",
      "Confiança: 0.9638\n",
      "-------------------\n",
      "--- Objeto 15 ---\n",
      "Class: black_pawn (ID: 3.0)\n",
      "Coordenadas Bounding Box: [     634.09       126.3       688.6      197.14]\n",
      "Confiança: 0.9631\n",
      "-------------------\n",
      "--- Objeto 16 ---\n",
      "Class: white_pawn (ID: 9.0)\n",
      "Coordenadas Bounding Box: [      430.6      427.71      484.46      500.87]\n",
      "Confiança: 0.9620\n",
      "-------------------\n",
      "--- Objeto 17 ---\n",
      "Class: white_pawn (ID: 9.0)\n",
      "Coordenadas Bounding Box: [     123.72       633.4       177.7      704.06]\n",
      "Confiança: 0.9603\n",
      "-------------------\n",
      "--- Objeto 18 ---\n",
      "Class: white_pawn (ID: 9.0)\n",
      "Coordenadas Bounding Box: [     532.68         532      587.36      604.34]\n",
      "Confiança: 0.9582\n",
      "-------------------\n",
      "--- Objeto 19 ---\n",
      "Class: black_rook (ID: 5.0)\n",
      "Coordenadas Bounding Box: [     20.526      17.499      80.272      95.641]\n",
      "Confiança: 0.9538\n",
      "-------------------\n",
      "--- Objeto 20 ---\n",
      "Class: black_pawn (ID: 3.0)\n",
      "Coordenadas Bounding Box: [      329.9      126.56         384      197.61]\n",
      "Confiança: 0.9521\n",
      "-------------------\n",
      "--- Objeto 21 ---\n",
      "Class: black_pawn (ID: 3.0)\n",
      "Coordenadas Bounding Box: [     429.41      329.46      484.23      400.54]\n",
      "Confiança: 0.9487\n",
      "-------------------\n",
      "--- Objeto 22 ---\n",
      "Class: black_pawn (ID: 3.0)\n",
      "Coordenadas Bounding Box: [     122.83       328.7      178.58       400.9]\n",
      "Confiança: 0.9484\n",
      "-------------------\n",
      "--- Objeto 23 ---\n",
      "Class: black_queen (ID: 4.0)\n",
      "Coordenadas Bounding Box: [     313.64      5.5791      402.01      95.544]\n",
      "Confiança: 0.9439\n",
      "-------------------\n",
      "--- Objeto 24 ---\n",
      "Class: black_knight (ID: 2.0)\n",
      "Coordenadas Bounding Box: [     118.45      8.1595      187.84      92.445]\n",
      "Confiança: 0.9400\n",
      "-------------------\n",
      "--- Objeto 25 ---\n",
      "Class: white_bishop (ID: 6.0)\n",
      "Coordenadas Bounding Box: [     530.01      720.87      588.48      806.04]\n",
      "Confiança: 0.9358\n",
      "-------------------\n",
      "--- Objeto 26 ---\n",
      "Class: white_rook (ID: 11.0)\n",
      "Coordenadas Bounding Box: [     20.559      732.21      80.275         809]\n",
      "Confiança: 0.9338\n",
      "-------------------\n",
      "--- Objeto 27 ---\n",
      "Class: black_bishop (ID: 0.0)\n",
      "Coordenadas Bounding Box: [     224.67      9.3101      285.76      95.828]\n",
      "Confiança: 0.9327\n",
      "-------------------\n",
      "--- Objeto 28 ---\n",
      "Class: black_pawn (ID: 3.0)\n",
      "Coordenadas Bounding Box: [     20.918      126.71      75.087      197.29]\n",
      "Confiança: 0.9320\n",
      "-------------------\n",
      "--- Objeto 29 ---\n",
      "Class: white_knight (ID: 8.0)\n",
      "Coordenadas Bounding Box: [      115.8       722.3      185.58      805.43]\n",
      "Confiança: 0.9158\n",
      "-------------------\n",
      "--- Objeto 30 ---\n",
      "Class: black_pawn (ID: 3.0)\n",
      "Coordenadas Bounding Box: [     229.21      127.04      284.67      197.52]\n",
      "Confiança: 0.9131\n",
      "-------------------\n",
      "--- Objeto 31 ---\n",
      "Class: white_bishop (ID: 6.0)\n",
      "Coordenadas Bounding Box: [     224.36      722.33      283.23      805.62]\n",
      "Confiança: 0.9072\n",
      "-------------------\n",
      "--- Objeto 32 ---\n",
      "Class: black_bishop (ID: 0.0)\n",
      "Coordenadas Bounding Box: [     529.18      9.3667      589.02      94.892]\n",
      "Confiança: 0.8945\n",
      "-------------------\n",
      "--- Objeto 33 ---\n",
      "Class: white_pawn (ID: 9.0)\n",
      "Coordenadas Bounding Box: [     3.3869      621.27      16.577      645.87]\n",
      "Confiança: 0.2998\n",
      "-------------------\n",
      "\n",
      "\n",
      "\n",
      "0: 640x640 2 black_bishops, 1 black_king, 2 black_knights, 8 black_pawns, 1 black_queen, 2 black_rooks, 2 white_bishops, 1 white_king, 2 white_knights, 8 white_pawns, 1 white_queen, 2 white_rooks, 365.0ms\n",
      "Speed: 5.2ms preprocess, 365.0ms inference, 1.0ms postprocess per image at shape (1, 3, 640, 640)\n",
      "==== Resultados Previsão ====\n",
      "Imagem: captured_images\\game1_pos4.png\n",
      "--- Objeto 1 ---\n",
      "Class: black_rook (ID: 5.0)\n",
      "Coordenadas Bounding Box: [     738.07      17.569      796.25      95.584]\n",
      "Confiança: 0.9774\n",
      "-------------------\n",
      "--- Objeto 2 ---\n",
      "Class: white_pawn (ID: 9.0)\n",
      "Coordenadas Bounding Box: [     637.18      633.38      691.41      704.76]\n",
      "Confiança: 0.9773\n",
      "-------------------\n",
      "--- Objeto 3 ---\n",
      "Class: white_king (ID: 7.0)\n",
      "Coordenadas Bounding Box: [     420.22      722.77      497.46      808.95]\n",
      "Confiança: 0.9773\n",
      "-------------------\n",
      "--- Objeto 4 ---\n",
      "Class: white_pawn (ID: 9.0)\n",
      "Coordenadas Bounding Box: [     330.28      633.97      384.84      704.45]\n",
      "Confiança: 0.9760\n",
      "-------------------\n",
      "--- Objeto 5 ---\n",
      "Class: white_pawn (ID: 9.0)\n",
      "Coordenadas Bounding Box: [     738.87      634.72      792.13      704.52]\n",
      "Confiança: 0.9744\n",
      "-------------------\n",
      "--- Objeto 6 ---\n",
      "Class: white_rook (ID: 11.0)\n",
      "Coordenadas Bounding Box: [     734.58      731.43      795.01      808.77]\n",
      "Confiança: 0.9736\n",
      "-------------------\n",
      "--- Objeto 7 ---\n",
      "Class: white_pawn (ID: 9.0)\n",
      "Coordenadas Bounding Box: [     230.07      633.19      284.32      704.26]\n",
      "Confiança: 0.9732\n",
      "-------------------\n",
      "--- Objeto 8 ---\n",
      "Class: black_knight (ID: 2.0)\n",
      "Coordenadas Bounding Box: [     628.08      9.1961      697.79      93.694]\n",
      "Confiança: 0.9722\n",
      "-------------------\n",
      "--- Objeto 9 ---\n",
      "Class: white_queen (ID: 10.0)\n",
      "Coordenadas Bounding Box: [     318.67      722.74      398.51       805.8]\n",
      "Confiança: 0.9720\n",
      "-------------------\n",
      "--- Objeto 10 ---\n",
      "Class: white_knight (ID: 8.0)\n",
      "Coordenadas Bounding Box: [     629.43      724.19      697.23      805.46]\n",
      "Confiança: 0.9708\n",
      "-------------------\n",
      "--- Objeto 11 ---\n",
      "Class: black_pawn (ID: 3.0)\n",
      "Coordenadas Bounding Box: [     737.51      126.29      792.63      197.32]\n",
      "Confiança: 0.9700\n",
      "-------------------\n",
      "--- Objeto 12 ---\n",
      "Class: black_king (ID: 1.0)\n",
      "Coordenadas Bounding Box: [     420.91      6.0607      499.54      93.955]\n",
      "Confiança: 0.9694\n",
      "-------------------\n",
      "--- Objeto 13 ---\n",
      "Class: white_pawn (ID: 9.0)\n",
      "Coordenadas Bounding Box: [     432.46      428.23      486.19      501.12]\n",
      "Confiança: 0.9686\n",
      "-------------------\n",
      "--- Objeto 14 ---\n",
      "Class: black_pawn (ID: 3.0)\n",
      "Coordenadas Bounding Box: [      535.8      124.89      590.06      196.79]\n",
      "Confiança: 0.9685\n",
      "-------------------\n",
      "--- Objeto 15 ---\n",
      "Class: black_rook (ID: 5.0)\n",
      "Coordenadas Bounding Box: [     22.474      17.833      81.469      95.947]\n",
      "Confiança: 0.9676\n",
      "-------------------\n",
      "--- Objeto 16 ---\n",
      "Class: white_pawn (ID: 9.0)\n",
      "Coordenadas Bounding Box: [     536.15      532.49      590.36      604.85]\n",
      "Confiança: 0.9654\n",
      "-------------------\n",
      "--- Objeto 17 ---\n",
      "Class: black_pawn (ID: 3.0)\n",
      "Coordenadas Bounding Box: [     636.07       126.5      690.55      197.29]\n",
      "Confiança: 0.9647\n",
      "-------------------\n",
      "--- Objeto 18 ---\n",
      "Class: black_pawn (ID: 3.0)\n",
      "Coordenadas Bounding Box: [      332.6      126.58      386.17      198.28]\n",
      "Confiança: 0.9637\n",
      "-------------------\n",
      "--- Objeto 19 ---\n",
      "Class: white_pawn (ID: 9.0)\n",
      "Coordenadas Bounding Box: [     126.92      428.01      181.11      501.36]\n",
      "Confiança: 0.9596\n",
      "-------------------\n",
      "--- Objeto 20 ---\n",
      "Class: black_pawn (ID: 3.0)\n",
      "Coordenadas Bounding Box: [     22.653      127.01      77.032      197.85]\n",
      "Confiança: 0.9591\n",
      "-------------------\n",
      "--- Objeto 21 ---\n",
      "Class: black_pawn (ID: 3.0)\n",
      "Coordenadas Bounding Box: [     231.88      127.25      286.29      197.94]\n",
      "Confiança: 0.9570\n",
      "-------------------\n",
      "--- Objeto 22 ---\n",
      "Class: black_pawn (ID: 3.0)\n",
      "Coordenadas Bounding Box: [      432.3      329.23      486.63      400.13]\n",
      "Confiança: 0.9554\n",
      "-------------------\n",
      "--- Objeto 23 ---\n",
      "Class: white_pawn (ID: 9.0)\n",
      "Coordenadas Bounding Box: [       24.2      632.72      78.981      705.33]\n",
      "Confiança: 0.9542\n",
      "-------------------\n",
      "--- Objeto 24 ---\n",
      "Class: black_pawn (ID: 3.0)\n",
      "Coordenadas Bounding Box: [     124.34      329.33       179.5      401.34]\n",
      "Confiança: 0.9540\n",
      "-------------------\n",
      "--- Objeto 25 ---\n",
      "Class: black_knight (ID: 2.0)\n",
      "Coordenadas Bounding Box: [     120.74      9.9141      190.21      95.257]\n",
      "Confiança: 0.9539\n",
      "-------------------\n",
      "--- Objeto 26 ---\n",
      "Class: black_bishop (ID: 0.0)\n",
      "Coordenadas Bounding Box: [     225.88      8.7085      287.01      94.648]\n",
      "Confiança: 0.9503\n",
      "-------------------\n",
      "--- Objeto 27 ---\n",
      "Class: white_knight (ID: 8.0)\n",
      "Coordenadas Bounding Box: [     118.16      723.92      187.55      806.99]\n",
      "Confiança: 0.9501\n",
      "-------------------\n",
      "--- Objeto 28 ---\n",
      "Class: black_queen (ID: 4.0)\n",
      "Coordenadas Bounding Box: [     314.91      5.4332      404.36      95.462]\n",
      "Confiança: 0.9483\n",
      "-------------------\n",
      "--- Objeto 29 ---\n",
      "Class: white_bishop (ID: 6.0)\n",
      "Coordenadas Bounding Box: [     532.01      721.08      590.57      806.12]\n",
      "Confiança: 0.9458\n",
      "-------------------\n",
      "--- Objeto 30 ---\n",
      "Class: white_bishop (ID: 6.0)\n",
      "Coordenadas Bounding Box: [     227.21      722.39      284.75      805.37]\n",
      "Confiança: 0.9138\n",
      "-------------------\n",
      "--- Objeto 31 ---\n",
      "Class: black_bishop (ID: 0.0)\n",
      "Coordenadas Bounding Box: [     530.98      9.3955      590.95      94.246]\n",
      "Confiança: 0.9056\n",
      "-------------------\n",
      "--- Objeto 32 ---\n",
      "Class: white_rook (ID: 11.0)\n",
      "Coordenadas Bounding Box: [     20.532      727.41      80.698      805.56]\n",
      "Confiança: 0.8687\n",
      "-------------------\n",
      "\n",
      "\n",
      "\n",
      "0: 384x640 2 black_bishops, 1 black_king, 2 black_knights, 8 black_pawns, 1 black_queen, 3 black_rooks, 5 white_bishops, 7 white_kings, 2 white_knights, 8 white_pawns, 4 white_queens, 7 white_rooks, 256.0ms\n",
      "Speed: 1.9ms preprocess, 256.0ms inference, 0.9ms postprocess per image at shape (1, 3, 384, 640)\n",
      "==== Resultados Previsão ====\n",
      "Imagem: captured_images\\tabuleiro_screenshot.png\n",
      "--- Objeto 1 ---\n",
      "Class: black_pawn (ID: 3.0)\n",
      "Coordenadas Bounding Box: [     973.75      271.07      1029.8       342.7]\n",
      "Confiança: 0.9416\n",
      "-------------------\n",
      "--- Objeto 2 ---\n",
      "Class: black_pawn (ID: 3.0)\n",
      "Coordenadas Bounding Box: [     668.39      269.29      721.98      341.41]\n",
      "Confiança: 0.9281\n",
      "-------------------\n",
      "--- Objeto 3 ---\n",
      "Class: black_pawn (ID: 3.0)\n",
      "Coordenadas Bounding Box: [     770.49      269.93      824.78      342.04]\n",
      "Confiança: 0.9190\n",
      "-------------------\n",
      "--- Objeto 4 ---\n",
      "Class: black_queen (ID: 4.0)\n",
      "Coordenadas Bounding Box: [     554.98      154.97      634.79      239.96]\n",
      "Confiança: 0.9177\n",
      "-------------------\n",
      "--- Objeto 5 ---\n",
      "Class: black_pawn (ID: 3.0)\n",
      "Coordenadas Bounding Box: [     566.81      270.34      622.57      342.12]\n",
      "Confiança: 0.9166\n",
      "-------------------\n",
      "--- Objeto 6 ---\n",
      "Class: black_pawn (ID: 3.0)\n",
      "Coordenadas Bounding Box: [     871.83      269.83      926.77       342.1]\n",
      "Confiança: 0.9150\n",
      "-------------------\n",
      "--- Objeto 7 ---\n",
      "Class: white_queen (ID: 10.0)\n",
      "Coordenadas Bounding Box: [     554.54       869.2      634.45      950.09]\n",
      "Confiança: 0.9089\n",
      "-------------------\n",
      "--- Objeto 8 ---\n",
      "Class: black_knight (ID: 2.0)\n",
      "Coordenadas Bounding Box: [     862.76      157.21      931.28      239.72]\n",
      "Confiança: 0.9063\n",
      "-------------------\n",
      "--- Objeto 9 ---\n",
      "Class: black_rook (ID: 5.0)\n",
      "Coordenadas Bounding Box: [      970.5      160.97      1032.1      240.39]\n",
      "Confiança: 0.9046\n",
      "-------------------\n",
      "--- Objeto 10 ---\n",
      "Class: white_bishop (ID: 6.0)\n",
      "Coordenadas Bounding Box: [     460.15      868.29      522.24      951.08]\n",
      "Confiança: 0.9017\n",
      "-------------------\n",
      "--- Objeto 11 ---\n",
      "Class: white_knight (ID: 8.0)\n",
      "Coordenadas Bounding Box: [     354.97      870.07      425.66      950.73]\n",
      "Confiança: 0.8966\n",
      "-------------------\n",
      "--- Objeto 12 ---\n",
      "Class: black_pawn (ID: 3.0)\n",
      "Coordenadas Bounding Box: [     466.08      270.59      521.12      342.06]\n",
      "Confiança: 0.8955\n",
      "-------------------\n",
      "--- Objeto 13 ---\n",
      "Class: white_pawn (ID: 9.0)\n",
      "Coordenadas Bounding Box: [     974.38      781.04      1028.9      850.15]\n",
      "Confiança: 0.8939\n",
      "-------------------\n",
      "--- Objeto 14 ---\n",
      "Class: black_bishop (ID: 0.0)\n",
      "Coordenadas Bounding Box: [     766.18      154.65      827.31      240.26]\n",
      "Confiança: 0.8870\n",
      "-------------------\n",
      "--- Objeto 15 ---\n",
      "Class: black_pawn (ID: 3.0)\n",
      "Coordenadas Bounding Box: [     260.05      270.42      315.15         342]\n",
      "Confiança: 0.8806\n",
      "-------------------\n",
      "--- Objeto 16 ---\n",
      "Class: black_pawn (ID: 3.0)\n",
      "Coordenadas Bounding Box: [     362.36       270.9      417.98       341.8]\n",
      "Confiança: 0.8774\n",
      "-------------------\n",
      "--- Objeto 17 ---\n",
      "Class: white_bishop (ID: 6.0)\n",
      "Coordenadas Bounding Box: [     767.14      867.06      828.74      951.54]\n",
      "Confiança: 0.8760\n",
      "-------------------\n",
      "--- Objeto 18 ---\n",
      "Class: white_pawn (ID: 9.0)\n",
      "Coordenadas Bounding Box: [     464.97      780.93      520.42      850.97]\n",
      "Confiança: 0.8687\n",
      "-------------------\n",
      "--- Objeto 19 ---\n",
      "Class: black_king (ID: 1.0)\n",
      "Coordenadas Bounding Box: [     658.15       152.3      734.51      239.87]\n",
      "Confiança: 0.8673\n",
      "-------------------\n",
      "--- Objeto 20 ---\n",
      "Class: white_knight (ID: 8.0)\n",
      "Coordenadas Bounding Box: [     863.93      872.14      934.88      951.77]\n",
      "Confiança: 0.8655\n",
      "-------------------\n",
      "--- Objeto 21 ---\n",
      "Class: white_king (ID: 7.0)\n",
      "Coordenadas Bounding Box: [     658.06      867.15      734.32         952]\n",
      "Confiança: 0.8611\n",
      "-------------------\n",
      "--- Objeto 22 ---\n",
      "Class: black_bishop (ID: 0.0)\n",
      "Coordenadas Bounding Box: [     460.37      153.76      522.44      240.17]\n",
      "Confiança: 0.8498\n",
      "-------------------\n",
      "--- Objeto 23 ---\n",
      "Class: black_rook (ID: 5.0)\n",
      "Coordenadas Bounding Box: [     257.31      162.83      319.07       240.8]\n",
      "Confiança: 0.8367\n",
      "-------------------\n",
      "--- Objeto 24 ---\n",
      "Class: white_pawn (ID: 9.0)\n",
      "Coordenadas Bounding Box: [     362.86      780.49      417.25      850.69]\n",
      "Confiança: 0.8315\n",
      "-------------------\n",
      "--- Objeto 25 ---\n",
      "Class: white_pawn (ID: 9.0)\n",
      "Coordenadas Bounding Box: [     565.19       780.7      621.09      850.12]\n",
      "Confiança: 0.8259\n",
      "-------------------\n",
      "--- Objeto 26 ---\n",
      "Class: white_pawn (ID: 9.0)\n",
      "Coordenadas Bounding Box: [     770.83      780.09      825.62      848.97]\n",
      "Confiança: 0.8178\n",
      "-------------------\n",
      "--- Objeto 27 ---\n",
      "Class: white_rook (ID: 11.0)\n",
      "Coordenadas Bounding Box: [     970.17       875.5      1033.1      952.08]\n",
      "Confiança: 0.8056\n",
      "-------------------\n",
      "--- Objeto 28 ---\n",
      "Class: white_pawn (ID: 9.0)\n",
      "Coordenadas Bounding Box: [     260.33      780.61      314.46      850.96]\n",
      "Confiança: 0.8032\n",
      "-------------------\n",
      "--- Objeto 29 ---\n",
      "Class: black_knight (ID: 2.0)\n",
      "Coordenadas Bounding Box: [     354.84      156.08      422.89      239.27]\n",
      "Confiança: 0.8028\n",
      "-------------------\n",
      "--- Objeto 30 ---\n",
      "Class: white_pawn (ID: 9.0)\n",
      "Coordenadas Bounding Box: [     667.54      780.77       722.9       850.3]\n",
      "Confiança: 0.7896\n",
      "-------------------\n",
      "--- Objeto 31 ---\n",
      "Class: white_pawn (ID: 9.0)\n",
      "Coordenadas Bounding Box: [     871.38      780.67      927.16      851.83]\n",
      "Confiança: 0.7879\n",
      "-------------------\n",
      "--- Objeto 32 ---\n",
      "Class: white_rook (ID: 11.0)\n",
      "Coordenadas Bounding Box: [      257.4      875.67      318.59      950.82]\n",
      "Confiança: 0.7062\n",
      "-------------------\n",
      "--- Objeto 33 ---\n",
      "Class: white_bishop (ID: 6.0)\n",
      "Coordenadas Bounding Box: [     1289.9      925.18      1368.9      945.22]\n",
      "Confiança: 0.5994\n",
      "-------------------\n",
      "--- Objeto 34 ---\n",
      "Class: white_rook (ID: 11.0)\n",
      "Coordenadas Bounding Box: [     1529.3      382.44      1580.4      407.45]\n",
      "Confiança: 0.5684\n",
      "-------------------\n",
      "--- Objeto 35 ---\n",
      "Class: white_rook (ID: 11.0)\n",
      "Coordenadas Bounding Box: [     12.241      946.43      91.955      1003.4]\n",
      "Confiança: 0.4761\n",
      "-------------------\n",
      "--- Objeto 36 ---\n",
      "Class: white_bishop (ID: 6.0)\n",
      "Coordenadas Bounding Box: [     1446.3      921.19      1525.3      944.32]\n",
      "Confiança: 0.4184\n",
      "-------------------\n",
      "--- Objeto 37 ---\n",
      "Class: white_king (ID: 7.0)\n",
      "Coordenadas Bounding Box: [     1123.4       975.6      1210.3      1001.2]\n",
      "Confiança: 0.2055\n",
      "-------------------\n",
      "--- Objeto 38 ---\n",
      "Class: white_king (ID: 7.0)\n",
      "Coordenadas Bounding Box: [     1141.4      920.67      1225.5      944.24]\n",
      "Confiança: 0.1811\n",
      "-------------------\n",
      "--- Objeto 39 ---\n",
      "Class: white_queen (ID: 10.0)\n",
      "Coordenadas Bounding Box: [     925.67      1041.7      1011.7      1071.7]\n",
      "Confiança: 0.1627\n",
      "-------------------\n",
      "--- Objeto 40 ---\n",
      "Class: white_king (ID: 7.0)\n",
      "Coordenadas Bounding Box: [     1035.4      1040.9      1130.4      1075.7]\n",
      "Confiança: 0.1573\n",
      "-------------------\n",
      "--- Objeto 41 ---\n",
      "Class: white_king (ID: 7.0)\n",
      "Coordenadas Bounding Box: [     1484.9      979.36      1562.8      999.94]\n",
      "Confiança: 0.1529\n",
      "-------------------\n",
      "--- Objeto 42 ---\n",
      "Class: white_queen (ID: 10.0)\n",
      "Coordenadas Bounding Box: [     1685.6      1042.6      1792.4      1066.9]\n",
      "Confiança: 0.1363\n",
      "-------------------\n",
      "--- Objeto 43 ---\n",
      "Class: white_rook (ID: 11.0)\n",
      "Coordenadas Bounding Box: [     12.115      467.67      56.901      497.33]\n",
      "Confiança: 0.1293\n",
      "-------------------\n",
      "--- Objeto 44 ---\n",
      "Class: white_rook (ID: 11.0)\n",
      "Coordenadas Bounding Box: [     12.584      882.27      58.998      918.76]\n",
      "Confiança: 0.1272\n",
      "-------------------\n",
      "--- Objeto 45 ---\n",
      "Class: white_king (ID: 7.0)\n",
      "Coordenadas Bounding Box: [     1050.7      1039.5      1149.8      1077.4]\n",
      "Confiança: 0.1261\n",
      "-------------------\n",
      "--- Objeto 46 ---\n",
      "Class: white_bishop (ID: 6.0)\n",
      "Coordenadas Bounding Box: [     257.33      874.43      318.32      951.07]\n",
      "Confiança: 0.1174\n",
      "-------------------\n",
      "--- Objeto 47 ---\n",
      "Class: white_rook (ID: 11.0)\n",
      "Coordenadas Bounding Box: [     12.352      931.41      125.63      1003.6]\n",
      "Confiança: 0.1162\n",
      "-------------------\n",
      "--- Objeto 48 ---\n",
      "Class: black_rook (ID: 5.0)\n",
      "Coordenadas Bounding Box: [     9.5556      5.2601      120.28      57.768]\n",
      "Confiança: 0.1151\n",
      "-------------------\n",
      "--- Objeto 49 ---\n",
      "Class: white_queen (ID: 10.0)\n",
      "Coordenadas Bounding Box: [     902.94      1041.2      994.07      1072.1]\n",
      "Confiança: 0.1052\n",
      "-------------------\n",
      "--- Objeto 50 ---\n",
      "Class: white_king (ID: 7.0)\n",
      "Coordenadas Bounding Box: [     885.32      1042.4       976.2      1073.4]\n",
      "Confiança: 0.1027\n",
      "-------------------\n",
      "\n",
      "\n"
     ]
    }
   ],
   "source": [
    "# selecionar a melhor versão do modelo fine-tuned\n",
    "model = YOLO(\"runs/detect/train/weights/best.pt\")\n",
    "\n",
    "# prever em novas imagens\n",
    "confidence_level = 0.1\n",
    "input_path = 'captured_images'\n",
    "output_path = 'detections'\n",
    "class_names = model.names\n",
    "\n",
    "\n",
    "for file in os.listdir(input_path):\n",
    "    if file.lower().endswith((\".png\")):\n",
    "        image = cv2.imread(os.path.join(input_path, file))\n",
    "        results = model.predict(source=image, conf=confidence_level)  # gerar previsões acima de determinada confiança, e guardar imagens\n",
    "\n",
    "        \n",
    "        output_filename = f\"prediction_{file}\"\n",
    "        output_filepath = os.path.join(output_path, output_filename)\n",
    "\n",
    "        for result in results:\n",
    "            result.save(filename=output_filepath)\n",
    "            print(\"==== Resultados Previsão ====\")\n",
    "            print(\"Imagem: \"+os.path.join(input_path, file))\n",
    "            boxes = result.boxes.xyxy.cpu().numpy()  # Bounding boxes (x_min, y_min, x_max, y_max)\n",
    "            scores = result.boxes.conf.cpu().numpy()  # Score de confiança\n",
    "            labels = result.boxes.cls.cpu().numpy()  # Índice da classe\n",
    "\n",
    "            for i in range(len(boxes)):\n",
    "                class_id = labels[i]\n",
    "                class_label = class_names[class_id] if class_id in class_names else \"Desconhecido\"\n",
    "\n",
    "                print(f\"--- Objeto {i+1} ---\")\n",
    "                print(f\"Class: {class_label} (ID: {class_id})\")\n",
    "                print(f\"Coordenadas Bounding Box: {boxes[i]}\")\n",
    "                print(f\"Confiança: {scores[i]:.4f}\")\n",
    "                print(\"-------------------\")\n",
    "\n",
    "            print(\"\\n\")"
   ]
  },
  {
   "cell_type": "code",
   "execution_count": 178,
   "id": "18871731",
   "metadata": {},
   "outputs": [],
   "source": [
    "import os\n",
    "import mss\n",
    "import cv2\n",
    "import numpy as np\n",
    "import time\n",
    "import pyautogui\n",
    "from ultralytics import YOLO\n",
    "\n",
    "model = YOLO(\"runs/detect/train/weights/best.pt\")\n",
    "screen_width, screen_height = pyautogui.size()"
   ]
  },
  {
   "cell_type": "code",
   "execution_count": 179,
   "id": "dc2fb0f2",
   "metadata": {},
   "outputs": [],
   "source": [
    "def capture_screen():\n",
    "    with mss.mss() as sct:\n",
    "        screenshot = sct.grab(sct.monitors[1])\n",
    "        img = np.array(screenshot)\n",
    "        img = cv2.cvtColor(img, cv2.COLOR_BGRA2BGR)\n",
    "        return img"
   ]
  },
  {
   "cell_type": "code",
   "execution_count": null,
   "id": "4fedcb5f",
   "metadata": {},
   "outputs": [],
   "source": [
    "def create_fen_from_detections(detections, img_width, img_height,\n",
    "    side_to_move='w',\n",
    "    castling='KQkq',\n",
    "    en_passant='-',\n",
    "    halfmove_clock=0,\n",
    "    fullmove_number=1):\n",
    "    board = [['1' for _ in range(8)] for _ in range(8)]\n",
    "    square_width = img_width / 8\n",
    "    square_height = img_height / 8\n",
    "\n",
    "    class_to_fen = {\n",
    "        'white_pawn': 'P',\n",
    "        'white_knight': 'N',\n",
    "        'white_bishop': 'B',\n",
    "        'white_rook': 'R',\n",
    "        'white_queen': 'Q',\n",
    "        'white_king': 'K',\n",
    "        'black_pawn': 'p',\n",
    "        'black_knight': 'n',\n",
    "        'black_bishop': 'b',\n",
    "        'black_rook': 'r',\n",
    "        'black_queen': 'q',\n",
    "        'black_king': 'k',\n",
    "    }\n",
    "\n",
    "    for box, cls in detections:\n",
    "        x1, y1, x2, y2 = box\n",
    "        center_x = (x1 + x2) / 2\n",
    "        center_y = (y1 + y2) / 2\n",
    "\n",
    "        col = int(center_x // square_width)\n",
    "        row = int(center_y // square_height)\n",
    "\n",
    "        fen_row = 7 - row  # inverter linhas para FEN\n",
    "\n",
    "        piece_fen = class_to_fen.get(cls, None)\n",
    "        if piece_fen is None:\n",
    "            continue\n",
    "\n",
    "        board[fen_row][col] = piece_fen\n",
    "\n",
    "    fen_rows = []\n",
    "    for row in board:\n",
    "        fen_line = ''\n",
    "        empty_count = 0\n",
    "        for cell in row:\n",
    "            if cell == '1':\n",
    "                empty_count += 1\n",
    "            else:\n",
    "                if empty_count > 0:\n",
    "                    fen_line += str(empty_count)\n",
    "                    empty_count = 0\n",
    "                fen_line += cell\n",
    "        if empty_count > 0:\n",
    "            fen_line += str(empty_count)\n",
    "        fen_rows.append(fen_line)\n",
    "\n",
    "    fen_position = \"/\".join(fen_rows)\n",
    "    fen = f\"{fen_position} {side_to_move} {castling} {en_passant} {halfmove_clock} {fullmove_number}\"\n",
    "    return fen"
   ]
  },
  {
   "cell_type": "code",
   "execution_count": 181,
   "id": "76f3fdd9",
   "metadata": {},
   "outputs": [],
   "source": [
    "def save_detection_image(img, results, timestamp):\n",
    "    annotated_frame = results[0].plot()\n",
    "    os.makedirs('detections', exist_ok=True)\n",
    "    save_path = os.path.join('detections', f\"detection_{timestamp}.jpg\")\n",
    "    cv2.imwrite(save_path, annotated_frame)\n",
    "    print(f\"Imagem guardada em: {save_path}\")"
   ]
  },
  {
   "cell_type": "code",
   "execution_count": 182,
   "id": "f7f454a7",
   "metadata": {},
   "outputs": [
    {
     "name": "stdout",
     "output_type": "stream",
     "text": [
      "\n",
      "0: 384x640 2 black_bishops, 1 black_king, 2 black_knights, 8 black_pawns, 1 black_queen, 2 black_rooks, 2 white_bishops, 1 white_king, 2 white_knights, 8 white_pawns, 1 white_queen, 2 white_rooks, 273.5ms\n",
      "Speed: 3.4ms preprocess, 273.5ms inference, 1.0ms postprocess per image at shape (1, 3, 384, 640)\n",
      "Jogada nova detetada!\n",
      "FEN: 8/1RKPP3/8/2P5/2p5/1pppp3/1rbbr3/8 w KQkq - 0 1\n",
      "Imagem guardada em: detections\\detection_20250522-214411.jpg\n",
      "\n",
      "0: 384x640 2 black_bishops, 1 black_king, 2 black_knights, 8 black_pawns, 1 black_queen, 2 black_rooks, 2 white_bishops, 1 white_king, 2 white_knights, 8 white_pawns, 1 white_queen, 2 white_rooks, 290.4ms\n",
      "Speed: 2.1ms preprocess, 290.4ms inference, 0.9ms postprocess per image at shape (1, 3, 384, 640)\n",
      "Sem alterações no tabuleiro.\n",
      "\n",
      "0: 384x640 2 black_bishops, 1 black_king, 2 black_knights, 8 black_pawns, 1 black_queen, 2 black_rooks, 2 white_bishops, 1 white_king, 2 white_knights, 8 white_pawns, 1 white_queen, 2 white_rooks, 233.4ms\n",
      "Speed: 2.4ms preprocess, 233.4ms inference, 1.4ms postprocess per image at shape (1, 3, 384, 640)\n",
      "Sem alterações no tabuleiro.\n",
      "\n",
      "0: 384x640 2 black_bishops, 1 black_king, 2 black_knights, 8 black_pawns, 1 black_queen, 2 black_rooks, 2 white_bishops, 1 white_king, 2 white_knights, 8 white_pawns, 1 white_queen, 2 white_rooks, 236.7ms\n",
      "Speed: 3.0ms preprocess, 236.7ms inference, 1.4ms postprocess per image at shape (1, 3, 384, 640)\n",
      "Sem alterações no tabuleiro.\n",
      "\n",
      "0: 384x640 2 black_bishops, 1 black_king, 2 black_knights, 8 black_pawns, 1 black_queen, 2 black_rooks, 2 white_bishops, 1 white_king, 2 white_knights, 8 white_pawns, 1 white_queen, 2 white_rooks, 498.1ms\n",
      "Speed: 2.2ms preprocess, 498.1ms inference, 1.3ms postprocess per image at shape (1, 3, 384, 640)\n",
      "Jogada nova detetada!\n",
      "FEN: 8/1RPPP3/8/2P5/2p5/1pppp3/1rbbr3/8 w KQkq - 0 1\n",
      "Imagem guardada em: detections\\detection_20250522-214417.jpg\n",
      "\n",
      "0: 384x640 2 black_bishops, 1 black_king, 2 black_knights, 8 black_pawns, 1 black_queen, 2 black_rooks, 2 white_bishops, 1 white_king, 2 white_knights, 8 white_pawns, 1 white_queen, 2 white_rooks, 254.3ms\n",
      "Speed: 2.5ms preprocess, 254.3ms inference, 1.5ms postprocess per image at shape (1, 3, 384, 640)\n",
      "Jogada nova detetada!\n",
      "FEN: 8/1RKBP3/8/2P5/2p5/1pppp3/1rbbr3/8 w KQkq - 0 1\n",
      "Imagem guardada em: detections\\detection_20250522-214418.jpg\n",
      "\n",
      "0: 384x640 1 black_bishop, 1 black_king, 2 black_knights, 8 black_pawns, 1 black_queen, 2 black_rooks, 2 white_bishops, 1 white_king, 2 white_knights, 8 white_pawns, 1 white_queen, 2 white_rooks, 237.4ms\n",
      "Speed: 3.6ms preprocess, 237.4ms inference, 0.9ms postprocess per image at shape (1, 3, 384, 640)\n",
      "Jogada nova detetada!\n",
      "FEN: 8/1RBBP3/8/2P5/2p5/1pppp3/1rkbr3/8 w KQkq - 0 1\n",
      "Imagem guardada em: detections\\detection_20250522-214419.jpg\n",
      "\n",
      "0: 384x640 1 black_bishop, 1 black_king, 2 black_knights, 8 black_pawns, 1 black_queen, 2 black_rooks, 2 white_bishops, 1 white_king, 2 white_knights, 8 white_pawns, 1 white_queen, 2 white_rooks, 230.0ms\n",
      "Speed: 2.0ms preprocess, 230.0ms inference, 0.9ms postprocess per image at shape (1, 3, 384, 640)\n",
      "Sem alterações no tabuleiro.\n",
      "\n",
      "0: 384x640 1 black_bishop, 1 black_king, 2 black_knights, 8 black_pawns, 1 black_queen, 2 black_rooks, 2 white_bishops, 1 white_king, 2 white_knights, 8 white_pawns, 1 white_queen, 2 white_rooks, 247.9ms\n",
      "Speed: 2.3ms preprocess, 247.9ms inference, 0.9ms postprocess per image at shape (1, 3, 384, 640)\n",
      "Sem alterações no tabuleiro.\n",
      "\n",
      "0: 384x640 1 black_bishop, 1 black_king, 2 black_knights, 8 black_pawns, 1 black_queen, 2 black_rooks, 2 white_bishops, 1 white_king, 2 white_knights, 8 white_pawns, 1 white_queen, 2 white_rooks, 373.6ms\n",
      "Speed: 2.6ms preprocess, 373.6ms inference, 1.0ms postprocess per image at shape (1, 3, 384, 640)\n",
      "Sem alterações no tabuleiro.\n",
      "\n",
      "0: 384x640 2 black_bishops, 1 black_king, 2 black_knights, 9 black_pawns, 1 black_queen, 2 black_rooks, 2 white_bishops, 1 white_king, 2 white_knights, 8 white_pawns, 1 white_queen, 2 white_rooks, 224.3ms\n",
      "Speed: 2.6ms preprocess, 224.3ms inference, 0.9ms postprocess per image at shape (1, 3, 384, 640)\n",
      "Jogada nova detetada!\n",
      "FEN: 8/1RBBR3/2p5/2P5/2p5/1pppp3/1rbbr3/8 w KQkq - 0 1\n",
      "Imagem guardada em: detections\\detection_20250522-214425.jpg\n",
      "\n",
      "0: 384x640 2 black_bishops, 1 black_king, 2 black_knights, 9 black_pawns, 1 black_queen, 2 black_rooks, 2 white_bishops, 1 white_king, 2 white_knights, 8 white_pawns, 1 white_queen, 2 white_rooks, 223.4ms\n",
      "Speed: 2.0ms preprocess, 223.4ms inference, 0.9ms postprocess per image at shape (1, 3, 384, 640)\n",
      "Sem alterações no tabuleiro.\n",
      "\n",
      "0: 384x640 2 black_bishops, 1 black_king, 2 black_knights, 8 black_pawns, 1 black_queen, 2 black_rooks, 2 white_bishops, 1 white_king, 2 white_knights, 8 white_pawns, 1 white_queen, 2 white_rooks, 233.8ms\n",
      "Speed: 3.5ms preprocess, 233.8ms inference, 0.9ms postprocess per image at shape (1, 3, 384, 640)\n",
      "Jogada nova detetada!\n",
      "FEN: 8/1RPPP3/8/2P5/1Bp5/1pppp3/1nbbr3/8 w KQkq - 0 1\n",
      "Imagem guardada em: detections\\detection_20250522-214427.jpg\n",
      "\n",
      "0: 384x640 1 black_bishop, 1 black_king, 2 black_knights, 8 black_pawns, 1 black_queen, 2 black_rooks, 2 white_bishops, 1 white_king, 2 white_knights, 8 white_pawns, 1 white_queen, 2 white_rooks, 273.7ms\n",
      "Speed: 2.7ms preprocess, 273.7ms inference, 1.0ms postprocess per image at shape (1, 3, 384, 640)\n",
      "Jogada nova detetada!\n",
      "FEN: 8/1RPPR3/8/2P5/1Bp5/1p1pp3/1nkbr3/8 w KQkq - 0 1\n",
      "Imagem guardada em: detections\\detection_20250522-214429.jpg\n",
      "\n",
      "0: 384x640 2 black_bishops, 1 black_king, 2 black_knights, 8 black_pawns, 1 black_queen, 2 black_rooks, 2 white_bishops, 1 white_king, 2 white_knights, 8 white_pawns, 1 white_queen, 2 white_rooks, 214.5ms\n",
      "Speed: 2.5ms preprocess, 214.5ms inference, 0.9ms postprocess per image at shape (1, 3, 384, 640)\n",
      "Jogada nova detetada!\n",
      "FEN: 8/1RPPR3/8/2P5/1Bp5/1p1pp3/1nbbr3/8 w KQkq - 0 1\n",
      "Imagem guardada em: detections\\detection_20250522-214430.jpg\n",
      "\n",
      "0: 384x640 2 black_bishops, 1 black_king, 2 black_knights, 8 black_pawns, 1 black_queen, 2 black_rooks, 2 white_bishops, 1 white_king, 2 white_knights, 8 white_pawns, 1 white_queen, 2 white_rooks, 473.5ms\n",
      "Speed: 57.3ms preprocess, 473.5ms inference, 1.6ms postprocess per image at shape (1, 3, 384, 640)\n",
      "Sem alterações no tabuleiro.\n",
      "\n",
      "0: 384x640 2 black_bishops, 1 black_king, 2 black_knights, 8 black_pawns, 1 black_queen, 2 black_rooks, 2 white_bishops, 1 white_king, 2 white_knights, 8 white_pawns, 1 white_queen, 2 white_rooks, 296.8ms\n",
      "Speed: 3.7ms preprocess, 296.8ms inference, 2.2ms postprocess per image at shape (1, 3, 384, 640)\n",
      "Jogada nova detetada!\n",
      "FEN: 8/1RBPR3/8/1BP5/2p5/1p1pp3/1nbbr3/8 w KQkq - 0 1\n",
      "Imagem guardada em: detections\\detection_20250522-214433.jpg\n",
      "\n",
      "0: 384x640 2 black_bishops, 1 black_king, 2 black_knights, 8 black_pawns, 1 black_queen, 2 black_rooks, 2 white_bishops, 1 white_king, 2 white_knights, 8 white_pawns, 1 white_queen, 2 white_rooks, 229.4ms\n",
      "Speed: 2.2ms preprocess, 229.4ms inference, 0.9ms postprocess per image at shape (1, 3, 384, 640)\n",
      "Sem alterações no tabuleiro.\n",
      "\n",
      "0: 384x640 2 black_bishops, 1 black_king, 2 black_knights, 8 black_pawns, 1 black_queen, 2 black_rooks, 2 white_bishops, 1 white_king, 2 white_knights, 8 white_pawns, 1 white_queen, 2 white_rooks, 265.2ms\n",
      "Speed: 2.5ms preprocess, 265.2ms inference, 1.0ms postprocess per image at shape (1, 3, 384, 640)\n",
      "Jogada nova detetada!\n",
      "FEN: 8/1RBPR3/8/1BP5/2pp4/1p1pp3/1rbbr3/8 w KQkq - 0 1\n",
      "Imagem guardada em: detections\\detection_20250522-214436.jpg\n",
      "\n",
      "0: 384x640 2 black_bishops, 1 black_king, 2 black_knights, 8 black_pawns, 1 black_queen, 2 black_rooks, 2 white_bishops, 1 white_king, 2 white_knights, 8 white_pawns, 1 white_queen, 2 white_rooks, 240.2ms\n",
      "Speed: 3.9ms preprocess, 240.2ms inference, 0.9ms postprocess per image at shape (1, 3, 384, 640)\n",
      "Jogada nova detetada!\n",
      "FEN: 8/1RPPR3/8/1BP5/2pp4/1p1pp3/1rbbr3/8 w KQkq - 0 1\n",
      "Imagem guardada em: detections\\detection_20250522-214437.jpg\n",
      "\n",
      "0: 384x640 2 black_bishops, 1 black_king, 2 black_knights, 8 black_pawns, 1 black_queen, 2 black_rooks, 2 white_bishops, 1 white_king, 2 white_knights, 8 white_pawns, 1 white_queen, 2 white_rooks, 300.8ms\n",
      "Speed: 2.4ms preprocess, 300.8ms inference, 1.2ms postprocess per image at shape (1, 3, 384, 640)\n",
      "Jogada nova detetada!\n",
      "FEN: 8/1RPPP3/8/1BPP4/2pp4/1p1pp3/1rbbr3/8 w KQkq - 0 1\n",
      "Imagem guardada em: detections\\detection_20250522-214439.jpg\n",
      "\n",
      "0: 384x640 2 black_bishops, 1 black_king, 2 black_knights, 8 black_pawns, 1 black_queen, 2 black_rooks, 2 white_bishops, 1 white_king, 2 white_knights, 8 white_pawns, 1 white_queen, 2 white_rooks, 307.3ms\n",
      "Speed: 2.2ms preprocess, 307.3ms inference, 1.0ms postprocess per image at shape (1, 3, 384, 640)\n",
      "Sem alterações no tabuleiro.\n",
      "\n",
      "0: 384x640 2 black_bishops, 1 black_king, 2 black_knights, 8 black_pawns, 1 black_queen, 2 black_rooks, 2 white_bishops, 1 white_king, 2 white_knights, 8 white_pawns, 1 white_queen, 2 white_rooks, 255.8ms\n",
      "Speed: 2.9ms preprocess, 255.8ms inference, 1.0ms postprocess per image at shape (1, 3, 384, 640)\n",
      "Jogada nova detetada!\n",
      "FEN: 8/1RBPP3/8/1bPP4/2pp4/1p1pp3/1rbnr3/8 w KQkq - 0 1\n",
      "Imagem guardada em: detections\\detection_20250522-214441.jpg\n",
      "\n",
      "0: 384x640 2 black_bishops, 1 black_king, 2 black_knights, 8 black_pawns, 1 black_queen, 2 black_rooks, 2 white_bishops, 1 white_king, 2 white_knights, 8 white_pawns, 1 white_queen, 2 white_rooks, 242.8ms\n",
      "Speed: 2.7ms preprocess, 242.8ms inference, 0.9ms postprocess per image at shape (1, 3, 384, 640)\n",
      "Jogada nova detetada!\n",
      "FEN: 8/1RBPP3/8/1BPP4/2pp4/1p1pp3/1rbnr3/8 w KQkq - 0 1\n",
      "Imagem guardada em: detections\\detection_20250522-214443.jpg\n",
      "\n",
      "0: 384x640 2 black_bishops, 1 black_king, 2 black_knights, 8 black_pawns, 1 black_queen, 2 black_rooks, 2 white_bishops, 1 white_king, 2 white_knights, 8 white_pawns, 1 white_queen, 2 white_rooks, 271.7ms\n",
      "Speed: 2.9ms preprocess, 271.7ms inference, 0.9ms postprocess per image at shape (1, 3, 384, 640)\n",
      "Sem alterações no tabuleiro.\n",
      "\n",
      "0: 384x640 2 black_bishops, 1 black_king, 2 black_knights, 8 black_pawns, 1 black_queen, 2 black_rooks, 2 white_bishops, 1 white_king, 2 white_knights, 8 white_pawns, 1 white_queen, 2 white_rooks, 220.7ms\n",
      "Speed: 2.9ms preprocess, 220.7ms inference, 1.1ms postprocess per image at shape (1, 3, 384, 640)\n",
      "Jogada nova detetada!\n",
      "FEN: 8/1RBPP3/8/1bPP4/2pp4/1p1pp3/1rbnr3/8 w KQkq - 0 1\n",
      "Imagem guardada em: detections\\detection_20250522-214445.jpg\n",
      "\n",
      "0: 384x640 2 black_bishops, 1 black_king, 2 black_knights, 8 black_pawns, 1 black_queen, 2 black_rooks, 2 white_bishops, 1 white_king, 2 white_knights, 8 white_pawns, 1 white_queen, 2 white_rooks, 264.2ms\n",
      "Speed: 2.5ms preprocess, 264.2ms inference, 2.5ms postprocess per image at shape (1, 3, 384, 640)\n",
      "Sem alterações no tabuleiro.\n",
      "\n",
      "0: 384x640 2 black_bishops, 1 black_king, 2 black_knights, 8 black_pawns, 1 black_queen, 2 black_rooks, 2 white_bishops, 1 white_king, 2 white_knights, 8 white_pawns, 1 white_queen, 2 white_rooks, 244.9ms\n",
      "Speed: 3.0ms preprocess, 244.9ms inference, 1.1ms postprocess per image at shape (1, 3, 384, 640)\n",
      "Sem alterações no tabuleiro.\n",
      "\n",
      "0: 384x640 2 black_bishops, 1 black_king, 2 black_knights, 8 black_pawns, 1 black_queen, 2 black_rooks, 2 white_bishops, 1 white_king, 2 white_knights, 8 white_pawns, 1 white_queen, 2 white_rooks, 264.8ms\n",
      "Speed: 2.1ms preprocess, 264.8ms inference, 1.0ms postprocess per image at shape (1, 3, 384, 640)\n",
      "Jogada nova detetada!\n",
      "FEN: 8/1RBPP3/2P5/1BPP4/2pp4/1p1pp3/1nbnr3/8 w KQkq - 0 1\n",
      "Imagem guardada em: detections\\detection_20250522-214449.jpg\n",
      "\n",
      "0: 384x640 2 black_bishops, 1 black_king, 2 black_knights, 8 black_pawns, 1 black_queen, 2 black_rooks, 2 white_bishops, 1 white_king, 2 white_knights, 8 white_pawns, 1 white_queen, 2 white_rooks, 238.1ms\n",
      "Speed: 2.2ms preprocess, 238.1ms inference, 1.1ms postprocess per image at shape (1, 3, 384, 640)\n",
      "Jogada nova detetada!\n",
      "FEN: 8/1RKPP3/2P5/1BPP4/2pp4/1pbpp3/1rbnr3/8 w KQkq - 0 1\n",
      "Imagem guardada em: detections\\detection_20250522-214451.jpg\n",
      "\n",
      "0: 384x640 2 black_bishops, 1 black_king, 2 black_knights, 8 black_pawns, 1 black_queen, 2 black_rooks, 2 white_bishops, 1 white_king, 2 white_knights, 8 white_pawns, 1 white_queen, 2 white_rooks, 267.7ms\n",
      "Speed: 3.1ms preprocess, 267.7ms inference, 0.9ms postprocess per image at shape (1, 3, 384, 640)\n",
      "Sem alterações no tabuleiro.\n",
      "\n",
      "0: 384x640 2 black_bishops, 1 black_king, 2 black_knights, 8 black_pawns, 1 black_queen, 2 black_rooks, 2 white_bishops, 1 white_king, 2 white_knights, 8 white_pawns, 1 white_queen, 2 white_rooks, 284.1ms\n",
      "Speed: 3.2ms preprocess, 284.1ms inference, 0.9ms postprocess per image at shape (1, 3, 384, 640)\n",
      "Sem alterações no tabuleiro.\n",
      "\n",
      "0: 384x640 2 black_bishops, 1 black_king, 2 black_knights, 8 black_pawns, 1 black_queen, 2 black_rooks, 2 white_bishops, 1 white_king, 2 white_knights, 8 white_pawns, 1 white_queen, 2 white_rooks, 407.0ms\n",
      "Speed: 2.8ms preprocess, 407.0ms inference, 1.0ms postprocess per image at shape (1, 3, 384, 640)\n",
      "Sem alterações no tabuleiro.\n",
      "\n",
      "0: 384x640 2 black_bishops, 1 black_king, 2 black_knights, 8 black_pawns, 1 black_queen, 2 black_rooks, 2 white_bishops, 1 white_king, 2 white_knights, 8 white_pawns, 1 white_queen, 2 white_rooks, 223.3ms\n",
      "Speed: 2.3ms preprocess, 223.3ms inference, 0.8ms postprocess per image at shape (1, 3, 384, 640)\n",
      "Jogada nova detetada!\n",
      "FEN: 8/1RKPR3/2PN4/1BPP4/2pp4/1pbpp3/1rbnr3/8 w KQkq - 0 1\n",
      "Imagem guardada em: detections\\detection_20250522-214456.jpg\n",
      "\n",
      "0: 384x640 2 black_bishops, 1 black_king, 2 black_knights, 8 black_pawns, 1 black_queen, 2 black_rooks, 2 white_bishops, 1 white_king, 2 white_knights, 8 white_pawns, 1 white_queen, 2 white_rooks, 225.2ms\n",
      "Speed: 2.2ms preprocess, 225.2ms inference, 0.9ms postprocess per image at shape (1, 3, 384, 640)\n",
      "Jogada nova detetada!\n",
      "FEN: 8/1RKPR3/2PN4/1BPP4/2pp4/1pbpp3/1nknr3/8 w KQkq - 0 1\n",
      "Imagem guardada em: detections\\detection_20250522-214458.jpg\n",
      "\n",
      "0: 384x640 2 black_bishops, 1 black_king, 2 black_knights, 8 black_pawns, 1 black_queen, 2 black_rooks, 2 white_bishops, 1 white_king, 2 white_knights, 8 white_pawns, 1 white_queen, 2 white_rooks, 237.0ms\n",
      "Speed: 2.4ms preprocess, 237.0ms inference, 0.9ms postprocess per image at shape (1, 3, 384, 640)\n",
      "Sem alterações no tabuleiro.\n",
      "\n",
      "0: 384x640 2 black_bishops, 1 black_king, 2 black_knights, 8 black_pawns, 1 black_queen, 2 black_rooks, 2 white_bishops, 1 white_king, 2 white_knights, 8 white_pawns, 1 white_queen, 2 white_rooks, 226.1ms\n",
      "Speed: 2.8ms preprocess, 226.1ms inference, 0.9ms postprocess per image at shape (1, 3, 384, 640)\n",
      "Jogada nova detetada!\n",
      "FEN: 8/1RBPR3/2PN4/1BPP4/2pp4/1pbpp3/1nknr3/8 w KQkq - 0 1\n",
      "Imagem guardada em: detections\\detection_20250522-214500.jpg\n",
      "\n",
      "0: 384x640 2 black_bishops, 1 black_king, 2 black_knights, 8 black_pawns, 1 black_queen, 2 black_rooks, 2 white_bishops, 1 white_king, 2 white_knights, 8 white_pawns, 1 white_queen, 3 white_rooks, 224.2ms\n",
      "Speed: 2.8ms preprocess, 224.2ms inference, 0.9ms postprocess per image at shape (1, 3, 384, 640)\n",
      "Jogada nova detetada!\n",
      "FEN: 8/1RBPR3/1NPN4/1BPP1R2/2pp4/1pbpp3/1nknr3/8 w KQkq - 0 1\n",
      "Imagem guardada em: detections\\detection_20250522-214501.jpg\n",
      "\n",
      "0: 384x640 2 black_bishops, 1 black_king, 2 black_knights, 8 black_pawns, 1 black_queen, 2 black_rooks, 2 white_bishops, 1 white_king, 2 white_knights, 8 white_pawns, 1 white_queen, 2 white_rooks, 244.3ms\n",
      "Speed: 2.0ms preprocess, 244.3ms inference, 0.9ms postprocess per image at shape (1, 3, 384, 640)\n",
      "Jogada nova detetada!\n",
      "FEN: 8/1RKPR3/1NPN4/1BPP4/2ppp3/1pbp4/1nknr3/8 w KQkq - 0 1\n",
      "Imagem guardada em: detections\\detection_20250522-214503.jpg\n",
      "\n",
      "0: 384x640 2 black_bishops, 1 black_king, 2 black_knights, 8 black_pawns, 1 black_queen, 2 black_rooks, 2 white_bishops, 1 white_king, 2 white_knights, 8 white_pawns, 1 white_queen, 3 white_rooks, 335.4ms\n",
      "Speed: 2.1ms preprocess, 335.4ms inference, 0.9ms postprocess per image at shape (1, 3, 384, 640)\n",
      "Jogada nova detetada!\n",
      "FEN: 8/1RBPR3/1NPN4/1BPP1R2/2ppp3/1pbp4/1nknr3/8 w KQkq - 0 1\n",
      "Imagem guardada em: detections\\detection_20250522-214504.jpg\n",
      "\n",
      "0: 384x640 2 black_bishops, 1 black_king, 2 black_knights, 8 black_pawns, 1 black_queen, 2 black_rooks, 2 white_bishops, 1 white_king, 2 white_knights, 8 white_pawns, 1 white_queen, 2 white_rooks, 333.6ms\n",
      "Speed: 3.3ms preprocess, 333.6ms inference, 1.4ms postprocess per image at shape (1, 3, 384, 640)\n",
      "Jogada nova detetada!\n",
      "FEN: 8/1RKPR3/1NPNP3/1BPP4/2ppp3/1pbp4/1nknr3/8 w KQkq - 0 1\n",
      "Imagem guardada em: detections\\detection_20250522-214506.jpg\n",
      "\n",
      "0: 384x640 2 black_bishops, 1 black_king, 2 black_knights, 8 black_pawns, 1 black_queen, 2 black_rooks, 2 white_bishops, 1 white_king, 2 white_knights, 8 white_pawns, 1 white_queen, 2 white_rooks, 258.6ms\n",
      "Speed: 4.0ms preprocess, 258.6ms inference, 0.9ms postprocess per image at shape (1, 3, 384, 640)\n",
      "Jogada nova detetada!\n",
      "FEN: 8/1RBPR3/1NPNP3/1BPP4/2ppp3/1pbp4/1nknr3/8 w KQkq - 0 1\n",
      "Imagem guardada em: detections\\detection_20250522-214507.jpg\n",
      "\n",
      "0: 384x640 2 black_bishops, 1 black_king, 2 black_knights, 8 black_pawns, 1 black_queen, 2 black_rooks, 2 white_bishops, 1 white_king, 2 white_knights, 8 white_pawns, 1 white_queen, 2 white_rooks, 286.0ms\n",
      "Speed: 3.3ms preprocess, 286.0ms inference, 0.9ms postprocess per image at shape (1, 3, 384, 640)\n",
      "Jogada nova detetada!\n",
      "FEN: 8/1RBPR3/1NPNP3/1BPPp3/2pp4/1pbp4/1nknr3/8 w KQkq - 0 1\n",
      "Imagem guardada em: detections\\detection_20250522-214509.jpg\n",
      "\n",
      "0: 384x640 2 black_bishops, 1 black_king, 2 black_knights, 8 black_pawns, 1 black_queen, 2 black_rooks, 2 white_bishops, 1 white_king, 2 white_knights, 8 white_pawns, 1 white_queen, 2 white_rooks, 513.4ms\n",
      "Speed: 2.7ms preprocess, 513.4ms inference, 1.7ms postprocess per image at shape (1, 3, 384, 640)\n",
      "Jogada nova detetada!\n",
      "FEN: 8/1RKPR3/1NPNP3/1BPPp3/2pp4/1pbp4/1rknr3/8 w KQkq - 0 1\n",
      "Imagem guardada em: detections\\detection_20250522-214510.jpg\n",
      "\n",
      "0: 384x640 2 black_bishops, 1 black_king, 2 black_knights, 8 black_pawns, 1 black_queen, 2 black_rooks, 2 white_bishops, 1 white_king, 2 white_knights, 8 white_pawns, 1 white_queen, 2 white_rooks, 262.8ms\n",
      "Speed: 3.2ms preprocess, 262.8ms inference, 0.8ms postprocess per image at shape (1, 3, 384, 640)\n",
      "Jogada nova detetada!\n",
      "FEN: 8/1RBPR3/1NPNP3/1BPPp3/2pp4/1pbp4/1nknr3/8 w KQkq - 0 1\n",
      "Imagem guardada em: detections\\detection_20250522-214512.jpg\n",
      "\n",
      "0: 384x640 2 black_bishops, 1 black_king, 2 black_knights, 8 black_pawns, 1 black_queen, 2 black_rooks, 2 white_bishops, 1 white_king, 2 white_knights, 8 white_pawns, 1 white_queen, 2 white_rooks, 292.0ms\n",
      "Speed: 2.6ms preprocess, 292.0ms inference, 0.8ms postprocess per image at shape (1, 3, 384, 640)\n",
      "Sem alterações no tabuleiro.\n",
      "\n",
      "0: 384x640 2 black_bishops, 1 black_king, 2 black_knights, 8 black_pawns, 1 black_queen, 2 black_rooks, 2 white_bishops, 1 white_king, 2 white_knights, 8 white_pawns, 1 white_queen, 2 white_rooks, 222.0ms\n",
      "Speed: 2.1ms preprocess, 222.0ms inference, 1.0ms postprocess per image at shape (1, 3, 384, 640)\n",
      "Jogada nova detetada!\n",
      "FEN: 8/1RBR4/1NPNP3/1BPPp3/2pp4/1pbp4/1nknr3/8 w KQkq - 0 1\n",
      "Imagem guardada em: detections\\detection_20250522-214514.jpg\n",
      "\n",
      "0: 384x640 2 black_bishops, 1 black_king, 2 black_knights, 8 black_pawns, 1 black_queen, 2 black_rooks, 2 white_bishops, 1 white_king, 2 white_knights, 8 white_pawns, 1 white_queen, 2 white_rooks, 269.3ms\n",
      "Speed: 2.4ms preprocess, 269.3ms inference, 0.9ms postprocess per image at shape (1, 3, 384, 640)\n",
      "Jogada nova detetada!\n",
      "FEN: 8/1RBPR3/1NPNP3/1BPPp3/2pp4/1pbp4/1nknr3/8 w KQkq - 0 1\n",
      "Imagem guardada em: detections\\detection_20250522-214516.jpg\n",
      "\n",
      "0: 384x640 2 black_bishops, 1 black_king, 2 black_knights, 7 black_pawns, 1 black_queen, 2 black_rooks, 2 white_bishops, 1 white_king, 2 white_knights, 8 white_pawns, 1 white_queen, 2 white_rooks, 331.2ms\n",
      "Speed: 3.5ms preprocess, 331.2ms inference, 0.8ms postprocess per image at shape (1, 3, 384, 640)\n",
      "Jogada nova detetada!\n",
      "FEN: 8/1RKPR3/1NP1P3/1BPPN3/2pp4/1pbp4/1nknr3/8 w KQkq - 0 1\n",
      "Imagem guardada em: detections\\detection_20250522-214517.jpg\n",
      "\n",
      "0: 384x640 2 black_bishops, 1 black_king, 2 black_knights, 7 black_pawns, 1 black_queen, 2 black_rooks, 2 white_bishops, 1 white_king, 2 white_knights, 8 white_pawns, 1 white_queen, 2 white_rooks, 229.0ms\n",
      "Speed: 2.1ms preprocess, 229.0ms inference, 0.9ms postprocess per image at shape (1, 3, 384, 640)\n",
      "Sem alterações no tabuleiro.\n",
      "\n",
      "0: 384x640 2 black_bishops, 1 black_king, 2 black_knights, 7 black_pawns, 1 black_queen, 2 black_rooks, 2 white_bishops, 1 white_king, 1 white_knight, 8 white_pawns, 1 white_queen, 2 white_rooks, 290.7ms\n",
      "Speed: 2.4ms preprocess, 290.7ms inference, 0.8ms postprocess per image at shape (1, 3, 384, 640)\n",
      "Jogada nova detetada!\n",
      "FEN: 8/1RKPR3/1NP1P3/1BPPr3/2pp4/1pbp4/1nkn4/8 w KQkq - 0 1\n",
      "Imagem guardada em: detections\\detection_20250522-214520.jpg\n",
      "\n",
      "0: 384x640 2 black_bishops, 1 black_king, 2 black_knights, 7 black_pawns, 1 black_queen, 2 black_rooks, 2 white_bishops, 1 white_king, 1 white_knight, 8 white_pawns, 1 white_queen, 2 white_rooks, 229.9ms\n",
      "Speed: 2.2ms preprocess, 229.9ms inference, 0.8ms postprocess per image at shape (1, 3, 384, 640)\n",
      "Jogada nova detetada!\n",
      "FEN: 8/1RBPR3/1NP1P3/1BPPr3/2pp4/1pbp4/1nkn4/8 w KQkq - 0 1\n",
      "Imagem guardada em: detections\\detection_20250522-214521.jpg\n",
      "\n",
      "0: 384x640 2 black_bishops, 1 black_king, 2 black_knights, 7 black_pawns, 1 black_queen, 2 black_rooks, 2 white_bishops, 1 white_king, 1 white_knight, 8 white_pawns, 1 white_queen, 2 white_rooks, 287.1ms\n",
      "Speed: 5.2ms preprocess, 287.1ms inference, 0.9ms postprocess per image at shape (1, 3, 384, 640)\n",
      "Sem alterações no tabuleiro.\n",
      "\n",
      "0: 384x640 2 black_bishops, 1 black_king, 2 black_knights, 7 black_pawns, 1 black_queen, 2 black_rooks, 2 white_bishops, 1 white_king, 1 white_knight, 8 white_pawns, 1 white_queen, 2 white_rooks, 242.1ms\n",
      "Speed: 2.8ms preprocess, 242.1ms inference, 0.9ms postprocess per image at shape (1, 3, 384, 640)\n",
      "Jogada nova detetada!\n",
      "FEN: 8/1RKPR3/1NP1P3/1BPPr3/2pp4/1pbp4/1nkn4/8 w KQkq - 0 1\n",
      "Imagem guardada em: detections\\detection_20250522-214524.jpg\n",
      "\n",
      "0: 384x640 2 black_bishops, 1 black_king, 2 black_knights, 7 black_pawns, 1 black_queen, 2 black_rooks, 2 white_bishops, 1 white_king, 1 white_knight, 8 white_pawns, 1 white_queen, 2 white_rooks, 279.0ms\n",
      "Speed: 2.6ms preprocess, 279.0ms inference, 0.9ms postprocess per image at shape (1, 3, 384, 640)\n",
      "Sem alterações no tabuleiro.\n",
      "\n",
      "0: 384x640 2 black_bishops, 1 black_king, 2 black_knights, 7 black_pawns, 1 black_queen, 2 black_rooks, 2 white_bishops, 1 white_king, 1 white_knight, 8 white_pawns, 1 white_queen, 2 white_rooks, 261.1ms\n",
      "Speed: 2.7ms preprocess, 261.1ms inference, 0.9ms postprocess per image at shape (1, 3, 384, 640)\n",
      "Sem alterações no tabuleiro.\n",
      "\n",
      "0: 384x640 2 black_bishops, 1 black_king, 2 black_knights, 7 black_pawns, 1 black_queen, 2 black_rooks, 2 white_bishops, 1 white_king, 1 white_knight, 8 white_pawns, 1 white_queen, 2 white_rooks, 214.0ms\n",
      "Speed: 2.0ms preprocess, 214.0ms inference, 0.9ms postprocess per image at shape (1, 3, 384, 640)\n",
      "Jogada nova detetada!\n",
      "FEN: 8/1RBPR3/1NP1P3/1BPPr3/2pp4/1pbp4/1nkn4/8 w KQkq - 0 1\n",
      "Imagem guardada em: detections\\detection_20250522-214528.jpg\n",
      "\n",
      "0: 384x640 2 black_bishops, 1 black_king, 2 black_knights, 7 black_pawns, 1 black_queen, 2 black_rooks, 2 white_bishops, 1 white_king, 1 white_knight, 8 white_pawns, 1 white_queen, 2 white_rooks, 235.5ms\n",
      "Speed: 2.3ms preprocess, 235.5ms inference, 0.9ms postprocess per image at shape (1, 3, 384, 640)\n",
      "Sem alterações no tabuleiro.\n",
      "\n",
      "0: 384x640 2 black_bishops, 1 black_king, 2 black_knights, 7 black_pawns, 1 black_queen, 2 black_rooks, 2 white_bishops, 1 white_king, 1 white_knight, 8 white_pawns, 1 white_queen, 2 white_rooks, 229.7ms\n",
      "Speed: 2.8ms preprocess, 229.7ms inference, 1.1ms postprocess per image at shape (1, 3, 384, 640)\n",
      "Sem alterações no tabuleiro.\n",
      "\n",
      "0: 384x640 2 black_bishops, 1 black_king, 2 black_knights, 7 black_pawns, 1 black_queen, 2 black_rooks, 2 white_bishops, 1 white_king, 1 white_knight, 8 white_pawns, 1 white_queen, 2 white_rooks, 280.2ms\n",
      "Speed: 3.2ms preprocess, 280.2ms inference, 0.9ms postprocess per image at shape (1, 3, 384, 640)\n",
      "Jogada nova detetada!\n",
      "FEN: 8/1RKPR3/1NP1P3/1BPPr3/2pp4/1pbp4/1nkn4/8 w KQkq - 0 1\n",
      "Imagem guardada em: detections\\detection_20250522-214532.jpg\n",
      "\n",
      "0: 384x640 2 black_bishops, 1 black_king, 2 black_knights, 7 black_pawns, 1 black_queen, 2 black_rooks, 2 white_bishops, 1 white_king, 1 white_knight, 8 white_pawns, 1 white_queen, 2 white_rooks, 233.3ms\n",
      "Speed: 2.7ms preprocess, 233.3ms inference, 1.1ms postprocess per image at shape (1, 3, 384, 640)\n",
      "Sem alterações no tabuleiro.\n",
      "\n",
      "0: 384x640 2 black_bishops, 1 black_king, 2 black_knights, 7 black_pawns, 1 black_queen, 2 black_rooks, 2 white_bishops, 1 white_king, 1 white_knight, 8 white_pawns, 1 white_queen, 2 white_rooks, 233.0ms\n",
      "Speed: 4.0ms preprocess, 233.0ms inference, 0.9ms postprocess per image at shape (1, 3, 384, 640)\n",
      "Jogada nova detetada!\n",
      "FEN: 8/1RKPR3/1NP1P3/1BPP4/2pp4/1pbpr3/1nkn4/8 w KQkq - 0 1\n",
      "Imagem guardada em: detections\\detection_20250522-214534.jpg\n",
      "\n",
      "0: 384x640 2 black_bishops, 1 black_king, 2 black_knights, 7 black_pawns, 1 black_queen, 2 black_rooks, 2 white_bishops, 1 white_king, 1 white_knight, 8 white_pawns, 1 white_queen, 2 white_rooks, 248.6ms\n",
      "Speed: 3.2ms preprocess, 248.6ms inference, 1.1ms postprocess per image at shape (1, 3, 384, 640)\n",
      "Sem alterações no tabuleiro.\n",
      "\n",
      "0: 384x640 2 black_bishops, 1 black_king, 2 black_knights, 7 black_pawns, 1 black_queen, 2 black_rooks, 2 white_bishops, 1 white_king, 1 white_knight, 8 white_pawns, 1 white_queen, 2 white_rooks, 230.5ms\n",
      "Speed: 2.6ms preprocess, 230.5ms inference, 0.9ms postprocess per image at shape (1, 3, 384, 640)\n",
      "Sem alterações no tabuleiro.\n",
      "\n",
      "0: 384x640 2 black_bishops, 1 black_king, 2 black_knights, 7 black_pawns, 1 black_queen, 2 black_rooks, 2 white_bishops, 1 white_king, 1 white_knight, 8 white_pawns, 1 white_queen, 2 white_rooks, 246.4ms\n",
      "Speed: 2.3ms preprocess, 246.4ms inference, 0.9ms postprocess per image at shape (1, 3, 384, 640)\n",
      "Sem alterações no tabuleiro.\n",
      "\n",
      "0: 384x640 2 black_bishops, 1 black_king, 2 black_knights, 7 black_pawns, 1 black_queen, 2 black_rooks, 2 white_bishops, 1 white_king, 1 white_knight, 8 white_pawns, 1 white_queen, 2 white_rooks, 206.8ms\n",
      "Speed: 2.1ms preprocess, 206.8ms inference, 1.0ms postprocess per image at shape (1, 3, 384, 640)\n",
      "Sem alterações no tabuleiro.\n",
      "\n",
      "0: 384x640 2 black_bishops, 1 black_king, 2 black_knights, 7 black_pawns, 1 black_queen, 2 black_rooks, 2 white_bishops, 1 white_king, 1 white_knight, 8 white_pawns, 1 white_queen, 2 white_rooks, 204.8ms\n",
      "Speed: 2.2ms preprocess, 204.8ms inference, 0.8ms postprocess per image at shape (1, 3, 384, 640)\n",
      "Sem alterações no tabuleiro.\n",
      "\n",
      "0: 384x640 2 black_bishops, 1 black_king, 2 black_knights, 7 black_pawns, 1 black_queen, 2 black_rooks, 2 white_bishops, 1 white_king, 1 white_knight, 8 white_pawns, 1 white_queen, 2 white_rooks, 215.6ms\n",
      "Speed: 2.8ms preprocess, 215.6ms inference, 0.8ms postprocess per image at shape (1, 3, 384, 640)\n",
      "Sem alterações no tabuleiro.\n",
      "\n",
      "0: 384x640 2 black_bishops, 1 black_king, 2 black_knights, 7 black_pawns, 1 black_queen, 2 black_rooks, 2 white_bishops, 1 white_king, 1 white_knight, 8 white_pawns, 1 white_queen, 2 white_rooks, 213.8ms\n",
      "Speed: 2.1ms preprocess, 213.8ms inference, 0.8ms postprocess per image at shape (1, 3, 384, 640)\n",
      "Sem alterações no tabuleiro.\n",
      "\n",
      "0: 384x640 2 black_bishops, 1 black_king, 2 black_knights, 7 black_pawns, 1 black_queen, 2 black_rooks, 2 white_bishops, 1 white_king, 1 white_knight, 8 white_pawns, 1 white_queen, 2 white_rooks, 205.5ms\n",
      "Speed: 2.3ms preprocess, 205.5ms inference, 1.0ms postprocess per image at shape (1, 3, 384, 640)\n",
      "Sem alterações no tabuleiro.\n",
      "\n",
      "0: 384x640 2 black_bishops, 1 black_king, 2 black_knights, 7 black_pawns, 1 black_queen, 2 black_rooks, 2 white_bishops, 1 white_king, 1 white_knight, 8 white_pawns, 1 white_queen, 2 white_rooks, 226.6ms\n",
      "Speed: 3.5ms preprocess, 226.6ms inference, 1.8ms postprocess per image at shape (1, 3, 384, 640)\n",
      "Sem alterações no tabuleiro.\n",
      "\n",
      "0: 384x640 2 black_bishops, 1 black_king, 2 black_knights, 7 black_pawns, 1 black_queen, 2 black_rooks, 2 white_bishops, 1 white_king, 1 white_knight, 8 white_pawns, 1 white_queen, 2 white_rooks, 384.5ms\n",
      "Speed: 2.2ms preprocess, 384.5ms inference, 1.1ms postprocess per image at shape (1, 3, 384, 640)\n",
      "Sem alterações no tabuleiro.\n",
      "\n",
      "0: 384x640 2 black_bishops, 1 black_king, 1 black_knight, 7 black_pawns, 1 black_queen, 2 black_rooks, 2 white_bishops, 1 white_king, 1 white_knight, 8 white_pawns, 1 white_queen, 3 white_rooks, 230.3ms\n",
      "Speed: 2.9ms preprocess, 230.3ms inference, 0.8ms postprocess per image at shape (1, 3, 384, 640)\n",
      "Jogada nova detetada!\n",
      "FEN: 8/1RBPR3/1NP1PR2/1BPP4/2pp4/1pbpr3/1nk5/8 w KQkq - 0 1\n",
      "Imagem guardada em: detections\\detection_20250522-214549.jpg\n",
      "\n",
      "0: 384x640 2 black_bishops, 1 black_king, 1 black_knight, 7 black_pawns, 1 black_queen, 2 black_rooks, 2 white_bishops, 1 white_king, 1 white_knight, 8 white_pawns, 1 white_queen, 3 white_rooks, 259.6ms\n",
      "Speed: 2.4ms preprocess, 259.6ms inference, 1.3ms postprocess per image at shape (1, 3, 384, 640)\n",
      "Sem alterações no tabuleiro.\n",
      "\n",
      "0: 384x640 2 black_bishops, 1 black_king, 2 black_knights, 7 black_pawns, 1 black_queen, 2 black_rooks, 2 white_bishops, 1 white_king, 1 white_knight, 8 white_pawns, 1 white_queen, 2 white_rooks, 254.8ms\n",
      "Speed: 3.6ms preprocess, 254.8ms inference, 1.4ms postprocess per image at shape (1, 3, 384, 640)\n",
      "Jogada nova detetada!\n",
      "FEN: 8/1RKPR3/1NP1P3/1BPP4/2pp4/1pbpr3/1nkb4/8 w KQkq - 0 1\n",
      "Imagem guardada em: detections\\detection_20250522-214551.jpg\n",
      "\n",
      "0: 384x640 2 black_bishops, 1 black_king, 2 black_knights, 7 black_pawns, 1 black_queen, 2 black_rooks, 2 white_bishops, 1 white_king, 1 white_knight, 8 white_pawns, 1 white_queen, 2 white_rooks, 312.7ms\n",
      "Speed: 2.1ms preprocess, 312.7ms inference, 0.9ms postprocess per image at shape (1, 3, 384, 640)\n",
      "Sem alterações no tabuleiro.\n",
      "\n",
      "0: 384x640 2 black_bishops, 1 black_king, 2 black_knights, 7 black_pawns, 1 black_queen, 2 black_rooks, 2 white_bishops, 1 white_king, 1 white_knight, 8 white_pawns, 1 white_queen, 2 white_rooks, 230.1ms\n",
      "Speed: 3.8ms preprocess, 230.1ms inference, 1.0ms postprocess per image at shape (1, 3, 384, 640)\n",
      "Sem alterações no tabuleiro.\n",
      "\n",
      "0: 384x640 2 black_bishops, 1 black_king, 2 black_knights, 7 black_pawns, 1 black_queen, 2 black_rooks, 2 white_bishops, 1 white_king, 1 white_knight, 8 white_pawns, 1 white_queen, 2 white_rooks, 208.2ms\n",
      "Speed: 2.3ms preprocess, 208.2ms inference, 1.2ms postprocess per image at shape (1, 3, 384, 640)\n",
      "Sem alterações no tabuleiro.\n",
      "\n",
      "0: 384x640 2 black_bishops, 1 black_king, 2 black_knights, 7 black_pawns, 1 black_queen, 2 black_rooks, 2 white_bishops, 1 white_king, 1 white_knight, 8 white_pawns, 1 white_queen, 2 white_rooks, 230.8ms\n",
      "Speed: 2.5ms preprocess, 230.8ms inference, 1.2ms postprocess per image at shape (1, 3, 384, 640)\n",
      "Sem alterações no tabuleiro.\n",
      "\n",
      "0: 384x640 2 black_bishops, 1 black_king, 2 black_knights, 7 black_pawns, 1 black_queen, 2 black_rooks, 2 white_bishops, 1 white_king, 1 white_knight, 8 white_pawns, 1 white_queen, 2 white_rooks, 216.6ms\n",
      "Speed: 2.7ms preprocess, 216.6ms inference, 1.1ms postprocess per image at shape (1, 3, 384, 640)\n",
      "Sem alterações no tabuleiro.\n",
      "\n",
      "0: 384x640 2 black_bishops, 1 black_king, 2 black_knights, 6 black_pawns, 1 black_queen, 2 black_rooks, 2 white_bishops, 1 white_king, 1 white_knight, 8 white_pawns, 1 white_queen, 2 white_rooks, 259.6ms\n",
      "Speed: 2.2ms preprocess, 259.6ms inference, 0.8ms postprocess per image at shape (1, 3, 384, 640)\n",
      "Jogada nova detetada!\n",
      "FEN: 8/1RKPR3/1NP1P3/1BPP4/2pp4/1pbpr3/1rkn4/8 w KQkq - 0 1\n",
      "Imagem guardada em: detections\\detection_20250522-214559.jpg\n",
      "\n",
      "0: 384x640 2 black_bishops, 1 black_king, 2 black_knights, 6 black_pawns, 1 black_queen, 2 black_rooks, 2 white_bishops, 1 white_king, 1 white_knight, 8 white_pawns, 1 white_queen, 2 white_rooks, 332.6ms\n",
      "Speed: 2.9ms preprocess, 332.6ms inference, 0.9ms postprocess per image at shape (1, 3, 384, 640)\n",
      "Sem alterações no tabuleiro.\n",
      "\n",
      "0: 384x640 2 black_bishops, 1 black_king, 2 black_knights, 6 black_pawns, 1 black_queen, 2 black_rooks, 2 white_bishops, 1 white_king, 1 white_knight, 7 white_pawns, 1 white_queen, 2 white_rooks, 238.2ms\n",
      "Speed: 2.2ms preprocess, 238.2ms inference, 1.4ms postprocess per image at shape (1, 3, 384, 640)\n",
      "Jogada nova detetada!\n",
      "FEN: 8/1RKPR3/1NP1P3/1BPP4/2pp4/1pbpr3/1nkb4/8 w KQkq - 0 1\n",
      "Imagem guardada em: detections\\detection_20250522-214602.jpg\n",
      "\n",
      "0: 384x640 2 black_bishops, 1 black_king, 2 black_knights, 6 black_pawns, 1 black_queen, 2 black_rooks, 2 white_bishops, 1 white_king, 1 white_knight, 7 white_pawns, 1 white_queen, 2 white_rooks, 260.0ms\n",
      "Speed: 5.5ms preprocess, 260.0ms inference, 0.9ms postprocess per image at shape (1, 3, 384, 640)\n",
      "Sem alterações no tabuleiro.\n",
      "\n",
      "0: 384x640 2 black_bishops, 1 black_king, 2 black_knights, 6 black_pawns, 1 black_queen, 2 black_rooks, 2 white_bishops, 1 white_king, 1 white_knight, 7 white_pawns, 1 white_queen, 2 white_rooks, 207.7ms\n",
      "Speed: 2.3ms preprocess, 207.7ms inference, 0.8ms postprocess per image at shape (1, 3, 384, 640)\n",
      "Sem alterações no tabuleiro.\n",
      "\n",
      "0: 384x640 2 black_bishops, 1 black_king, 2 black_knights, 6 black_pawns, 1 black_queen, 2 black_rooks, 2 white_bishops, 1 white_king, 1 white_knight, 7 white_pawns, 1 white_queen, 2 white_rooks, 233.0ms\n",
      "Speed: 2.2ms preprocess, 233.0ms inference, 0.9ms postprocess per image at shape (1, 3, 384, 640)\n",
      "Jogada nova detetada!\n",
      "FEN: 8/1RKPR3/1NP1P3/1BPP4/2pp4/1pbpr3/1rkb4/8 w KQkq - 0 1\n",
      "Imagem guardada em: detections\\detection_20250522-214606.jpg\n",
      "\n",
      "0: 384x640 2 black_bishops, 1 black_king, 2 black_knights, 6 black_pawns, 1 black_queen, 2 black_rooks, 2 white_bishops, 1 white_king, 1 white_knight, 7 white_pawns, 1 white_queen, 2 white_rooks, 481.4ms\n",
      "Speed: 2.6ms preprocess, 481.4ms inference, 1.3ms postprocess per image at shape (1, 3, 384, 640)\n",
      "Jogada nova detetada!\n",
      "FEN: 8/1RK1R3/1NP1P3/1PPP4/2pp4/1pbpr3/1nkb4/8 w KQkq - 0 1\n",
      "Imagem guardada em: detections\\detection_20250522-214608.jpg\n",
      "\n",
      "0: 384x640 2 black_bishops, 1 black_king, 2 black_knights, 6 black_pawns, 1 black_queen, 2 black_rooks, 1 white_bishop, 1 white_king, 1 white_knight, 7 white_pawns, 1 white_queen, 2 white_rooks, 217.3ms\n",
      "Speed: 2.8ms preprocess, 217.3ms inference, 0.9ms postprocess per image at shape (1, 3, 384, 640)\n",
      "Jogada nova detetada!\n",
      "FEN: 8/1RKPR3/1NP1P3/1bPP4/2pp4/1p1pr3/1rkb4/8 w KQkq - 0 1\n",
      "Imagem guardada em: detections\\detection_20250522-214609.jpg\n",
      "\n",
      "0: 384x640 2 black_bishops, 1 black_king, 2 black_knights, 6 black_pawns, 1 black_queen, 2 black_rooks, 1 white_bishop, 1 white_king, 1 white_knight, 7 white_pawns, 1 white_queen, 2 white_rooks, 249.9ms\n",
      "Speed: 2.3ms preprocess, 249.9ms inference, 0.8ms postprocess per image at shape (1, 3, 384, 640)\n",
      "Jogada nova detetada!\n",
      "FEN: 8/1RBPR3/1NP1P3/1bPP4/2pp4/1p1pr3/1rkb4/8 w KQkq - 0 1\n",
      "Imagem guardada em: detections\\detection_20250522-214610.jpg\n",
      "\n",
      "0: 384x640 2 black_bishops, 1 black_king, 2 black_knights, 6 black_pawns, 1 black_queen, 2 black_rooks, 1 white_bishop, 1 white_king, 1 white_knight, 7 white_pawns, 1 white_queen, 2 white_rooks, 271.8ms\n",
      "Speed: 2.7ms preprocess, 271.8ms inference, 0.9ms postprocess per image at shape (1, 3, 384, 640)\n",
      "Jogada nova detetada!\n",
      "FEN: 8/1RBPR3/1NP1P3/1PPP4/2pp4/1p1pr3/1rkb4/8 w KQkq - 0 1\n",
      "Imagem guardada em: detections\\detection_20250522-214612.jpg\n",
      "\n",
      "0: 384x640 2 black_bishops, 1 black_king, 2 black_knights, 6 black_pawns, 1 black_queen, 2 black_rooks, 2 white_bishops, 1 white_king, 1 white_knight, 7 white_pawns, 1 white_queen, 2 white_rooks, 239.4ms\n",
      "Speed: 5.0ms preprocess, 239.4ms inference, 1.0ms postprocess per image at shape (1, 3, 384, 640)\n",
      "Jogada nova detetada!\n",
      "FEN: 8/1RKPR3/1NP1P3/1BPP4/2pp4/1pbpr3/1nkb4/8 w KQkq - 0 1\n",
      "Imagem guardada em: detections\\detection_20250522-214613.jpg\n",
      "\n",
      "0: 384x640 2 black_bishops, 1 black_king, 2 black_knights, 6 black_pawns, 1 black_queen, 2 black_rooks, 2 white_bishops, 1 white_king, 1 white_knight, 7 white_pawns, 1 white_queen, 2 white_rooks, 267.7ms\n",
      "Speed: 2.5ms preprocess, 267.7ms inference, 1.7ms postprocess per image at shape (1, 3, 384, 640)\n",
      "Sem alterações no tabuleiro.\n",
      "\n",
      "0: 384x640 2 black_bishops, 1 black_king, 2 black_knights, 6 black_pawns, 1 black_queen, 2 black_rooks, 2 white_bishops, 1 white_king, 1 white_knight, 7 white_pawns, 1 white_queen, 2 white_rooks, 208.6ms\n",
      "Speed: 2.2ms preprocess, 208.6ms inference, 0.8ms postprocess per image at shape (1, 3, 384, 640)\n",
      "Sem alterações no tabuleiro.\n",
      "\n",
      "0: 384x640 2 black_bishops, 1 black_king, 2 black_knights, 6 black_pawns, 1 black_queen, 2 black_rooks, 2 white_bishops, 1 white_king, 1 white_knight, 7 white_pawns, 1 white_queen, 2 white_rooks, 212.3ms\n",
      "Speed: 2.1ms preprocess, 212.3ms inference, 0.9ms postprocess per image at shape (1, 3, 384, 640)\n",
      "Sem alterações no tabuleiro.\n",
      "\n",
      "0: 384x640 2 black_bishops, 1 black_king, 2 black_knights, 6 black_pawns, 1 black_queen, 2 black_rooks, 2 white_bishops, 1 white_king, 1 white_knight, 7 white_pawns, 1 white_queen, 2 white_rooks, 269.8ms\n",
      "Speed: 3.1ms preprocess, 269.8ms inference, 1.0ms postprocess per image at shape (1, 3, 384, 640)\n",
      "Jogada nova detetada!\n",
      "FEN: 8/1RBPR3/1BP1P3/2PP4/2pp4/1pbpr3/1nkb4/8 w KQkq - 0 1\n",
      "Imagem guardada em: detections\\detection_20250522-214618.jpg\n",
      "\n",
      "0: 384x640 2 black_bishops, 1 black_king, 2 black_knights, 6 black_pawns, 1 black_queen, 2 black_rooks, 2 white_bishops, 1 white_king, 1 white_knight, 7 white_pawns, 1 white_queen, 2 white_rooks, 222.6ms\n",
      "Speed: 2.0ms preprocess, 222.6ms inference, 0.9ms postprocess per image at shape (1, 3, 384, 640)\n",
      "Jogada nova detetada!\n",
      "FEN: 8/1RBPR3/1BP1P3/2PP4/2pp4/1pbpr3/1rkb4/8 w KQkq - 0 1\n",
      "Imagem guardada em: detections\\detection_20250522-214620.jpg\n",
      "\n",
      "0: 384x640 2 black_bishops, 1 black_king, 2 black_knights, 6 black_pawns, 1 black_queen, 2 black_rooks, 2 white_bishops, 1 white_king, 7 white_pawns, 1 white_queen, 2 white_rooks, 326.9ms\n",
      "Speed: 3.0ms preprocess, 326.9ms inference, 0.9ms postprocess per image at shape (1, 3, 384, 640)\n",
      "Jogada nova detetada!\n",
      "FEN: 8/1RBPR3/1bP1P3/2PP4/2pp4/1pbpr3/1rkn4/8 w KQkq - 0 1\n",
      "Imagem guardada em: detections\\detection_20250522-214621.jpg\n",
      "\n",
      "0: 384x640 2 black_bishops, 1 black_king, 2 black_knights, 6 black_pawns, 1 black_queen, 2 black_rooks, 2 white_bishops, 1 white_king, 7 white_pawns, 1 white_queen, 2 white_rooks, 229.5ms\n",
      "Speed: 1.9ms preprocess, 229.5ms inference, 0.9ms postprocess per image at shape (1, 3, 384, 640)\n",
      "Sem alterações no tabuleiro.\n",
      "\n",
      "0: 384x640 1 black_bishop, 1 black_king, 2 black_knights, 6 black_pawns, 1 black_queen, 2 black_rooks, 2 white_bishops, 1 white_king, 7 white_pawns, 1 white_queen, 2 white_rooks, 297.4ms\n",
      "Speed: 3.0ms preprocess, 297.4ms inference, 1.4ms postprocess per image at shape (1, 3, 384, 640)\n",
      "Jogada nova detetada!\n",
      "FEN: 8/1RKPR3/1BP1P3/2PP4/2pp4/1pbpr3/1rkn4/8 w KQkq - 0 1\n",
      "Imagem guardada em: detections\\detection_20250522-214624.jpg\n",
      "\n",
      "0: 384x640 1 black_bishop, 1 black_king, 2 black_knights, 6 black_pawns, 1 black_queen, 2 black_rooks, 2 white_bishops, 1 white_king, 7 white_pawns, 1 white_queen, 2 white_rooks, 219.2ms\n",
      "Speed: 2.5ms preprocess, 219.2ms inference, 1.4ms postprocess per image at shape (1, 3, 384, 640)\n",
      "Sem alterações no tabuleiro.\n",
      "\n",
      "0: 384x640 1 black_bishop, 1 black_king, 2 black_knights, 6 black_pawns, 1 black_queen, 2 black_rooks, 2 white_bishops, 1 white_king, 7 white_pawns, 1 white_queen, 2 white_rooks, 269.5ms\n",
      "Speed: 2.4ms preprocess, 269.5ms inference, 0.9ms postprocess per image at shape (1, 3, 384, 640)\n",
      "Jogada nova detetada!\n",
      "FEN: 8/1RKPR3/1BP1P3/2PP4/2pp4/1pbpr3/1nkn4/8 w KQkq - 0 1\n",
      "Imagem guardada em: detections\\detection_20250522-214626.jpg\n",
      "\n",
      "0: 384x640 1 black_bishop, 1 black_king, 2 black_knights, 6 black_pawns, 1 black_queen, 2 black_rooks, 2 white_bishops, 1 white_king, 7 white_pawns, 1 white_queen, 2 white_rooks, 265.6ms\n",
      "Speed: 3.3ms preprocess, 265.6ms inference, 2.9ms postprocess per image at shape (1, 3, 384, 640)\n",
      "Sem alterações no tabuleiro.\n",
      "\n",
      "0: 384x640 1 black_bishop, 1 black_king, 2 black_knights, 6 black_pawns, 1 black_queen, 2 black_rooks, 2 white_bishops, 1 white_king, 7 white_pawns, 1 white_queen, 2 white_rooks, 207.1ms\n",
      "Speed: 2.5ms preprocess, 207.1ms inference, 1.0ms postprocess per image at shape (1, 3, 384, 640)\n",
      "Sem alterações no tabuleiro.\n",
      "\n",
      "0: 384x640 1 black_bishop, 1 black_king, 2 black_knights, 6 black_pawns, 1 black_queen, 2 black_rooks, 2 white_bishops, 1 white_king, 7 white_pawns, 1 white_queen, 2 white_rooks, 212.0ms\n",
      "Speed: 2.1ms preprocess, 212.0ms inference, 0.8ms postprocess per image at shape (1, 3, 384, 640)\n",
      "Jogada nova detetada!\n",
      "FEN: 8/1RBPR3/1BP1P3/2PP4/2pp4/1pbpr3/1nkn4/8 w KQkq - 0 1\n",
      "Imagem guardada em: detections\\detection_20250522-214630.jpg\n",
      "\n",
      "0: 384x640 1 black_bishop, 1 black_king, 1 black_knight, 6 black_pawns, 1 black_queen, 2 black_rooks, 2 white_bishops, 1 white_king, 7 white_pawns, 1 white_queen, 4 white_rooks, 262.7ms\n",
      "Speed: 3.4ms preprocess, 262.7ms inference, 0.9ms postprocess per image at shape (1, 3, 384, 640)\n",
      "Jogada nova detetada!\n",
      "FEN: 8/1RBPR3/1BP1R3/2PP4/2pp4/1pbpr3/1rk5/8 w KQkq - 0 1\n",
      "Imagem guardada em: detections\\detection_20250522-214632.jpg\n",
      "\n",
      "0: 384x640 1 black_bishop, 1 black_king, 2 black_knights, 6 black_pawns, 1 black_queen, 2 black_rooks, 2 white_bishops, 1 white_king, 7 white_pawns, 1 white_queen, 2 white_rooks, 257.0ms\n",
      "Speed: 2.3ms preprocess, 257.0ms inference, 1.3ms postprocess per image at shape (1, 3, 384, 640)\n",
      "Jogada nova detetada!\n",
      "FEN: 8/1RBPR3/1BP1P3/2PP4/2pp4/1pbpr3/1rk5/8 w KQkq - 0 1\n",
      "Imagem guardada em: detections\\detection_20250522-214633.jpg\n",
      "\n",
      "0: 384x640 1 black_bishop, 1 black_king, 2 black_knights, 6 black_pawns, 1 black_queen, 2 black_rooks, 2 white_bishops, 1 white_king, 7 white_pawns, 1 white_queen, 2 white_rooks, 238.5ms\n",
      "Speed: 2.6ms preprocess, 238.5ms inference, 1.0ms postprocess per image at shape (1, 3, 384, 640)\n",
      "Sem alterações no tabuleiro.\n",
      "\n",
      "0: 384x640 1 black_bishop, 1 black_king, 2 black_knights, 6 black_pawns, 1 black_queen, 2 black_rooks, 2 white_bishops, 1 white_king, 7 white_pawns, 1 white_queen, 2 white_rooks, 211.0ms\n",
      "Speed: 2.9ms preprocess, 211.0ms inference, 0.9ms postprocess per image at shape (1, 3, 384, 640)\n",
      "Sem alterações no tabuleiro.\n",
      "\n",
      "0: 384x640 1 black_bishop, 1 black_king, 2 black_knights, 6 black_pawns, 1 black_queen, 2 black_rooks, 2 white_bishops, 1 white_king, 7 white_pawns, 1 white_queen, 3 white_rooks, 329.6ms\n",
      "Speed: 2.7ms preprocess, 329.6ms inference, 2.1ms postprocess per image at shape (1, 3, 384, 640)\n",
      "Jogada nova detetada!\n",
      "FEN: 8/1RBR4/1BP1R3/2PP4/2pp4/1pbpr3/1rk5/8 w KQkq - 0 1\n",
      "Imagem guardada em: detections\\detection_20250522-214637.jpg\n",
      "\n",
      "0: 384x640 1 black_bishop, 1 black_king, 2 black_knights, 6 black_pawns, 1 black_queen, 2 black_rooks, 2 white_bishops, 1 white_king, 7 white_pawns, 1 white_queen, 3 white_rooks, 224.8ms\n",
      "Speed: 2.1ms preprocess, 224.8ms inference, 0.8ms postprocess per image at shape (1, 3, 384, 640)\n",
      "Sem alterações no tabuleiro.\n",
      "\n",
      "0: 384x640 1 black_bishop, 1 black_king, 2 black_knights, 6 black_pawns, 1 black_queen, 2 black_rooks, 2 white_bishops, 1 white_king, 7 white_pawns, 1 white_queen, 3 white_rooks, 277.8ms\n",
      "Speed: 2.9ms preprocess, 277.8ms inference, 1.0ms postprocess per image at shape (1, 3, 384, 640)\n",
      "Jogada nova detetada!\n",
      "FEN: 8/1RBR4/1BP1R3/2PP4/2pn4/1pbpr3/1rk5/8 w KQkq - 0 1\n",
      "Imagem guardada em: detections\\detection_20250522-214640.jpg\n",
      "\n",
      "0: 384x640 1 black_bishop, 1 black_king, 2 black_knights, 6 black_pawns, 1 black_queen, 2 black_rooks, 2 white_bishops, 1 white_king, 7 white_pawns, 1 white_queen, 3 white_rooks, 215.5ms\n",
      "Speed: 2.1ms preprocess, 215.5ms inference, 1.2ms postprocess per image at shape (1, 3, 384, 640)\n",
      "Sem alterações no tabuleiro.\n",
      "\n",
      "0: 384x640 1 black_bishop, 1 black_king, 2 black_knights, 6 black_pawns, 1 black_queen, 2 black_rooks, 2 white_bishops, 1 white_king, 7 white_pawns, 1 white_queen, 3 white_rooks, 347.9ms\n",
      "Speed: 2.1ms preprocess, 347.9ms inference, 0.8ms postprocess per image at shape (1, 3, 384, 640)\n",
      "Sem alterações no tabuleiro.\n",
      "\n",
      "0: 384x640 1 black_bishop, 1 black_king, 2 black_knights, 6 black_pawns, 1 black_queen, 2 black_rooks, 2 white_bishops, 1 white_king, 7 white_pawns, 1 white_queen, 3 white_rooks, 245.9ms\n",
      "Speed: 4.1ms preprocess, 245.9ms inference, 0.9ms postprocess per image at shape (1, 3, 384, 640)\n",
      "Sem alterações no tabuleiro.\n",
      "\n",
      "0: 384x640 1 black_bishop, 1 black_king, 2 black_knights, 6 black_pawns, 1 black_queen, 2 black_rooks, 2 white_bishops, 1 white_king, 7 white_pawns, 1 white_queen, 3 white_rooks, 281.1ms\n",
      "Speed: 3.4ms preprocess, 281.1ms inference, 1.4ms postprocess per image at shape (1, 3, 384, 640)\n",
      "Sem alterações no tabuleiro.\n",
      "\n",
      "0: 384x640 1 black_bishop, 1 black_king, 2 black_knights, 6 black_pawns, 1 black_queen, 2 black_rooks, 2 white_bishops, 1 white_king, 7 white_pawns, 1 white_queen, 3 white_rooks, 248.5ms\n",
      "Speed: 2.9ms preprocess, 248.5ms inference, 0.9ms postprocess per image at shape (1, 3, 384, 640)\n",
      "Sem alterações no tabuleiro.\n",
      "\n",
      "0: 384x640 1 black_bishop, 1 black_king, 2 black_knights, 6 black_pawns, 1 black_queen, 2 black_rooks, 2 white_bishops, 1 white_king, 7 white_pawns, 1 white_queen, 3 white_rooks, 230.6ms\n",
      "Speed: 2.4ms preprocess, 230.6ms inference, 1.1ms postprocess per image at shape (1, 3, 384, 640)\n",
      "Sem alterações no tabuleiro.\n",
      "\n",
      "0: 384x640 1 black_bishop, 1 black_king, 2 black_knights, 6 black_pawns, 1 black_queen, 2 black_rooks, 2 white_bishops, 1 white_king, 7 white_pawns, 1 white_queen, 3 white_rooks, 229.0ms\n",
      "Speed: 2.8ms preprocess, 229.0ms inference, 1.2ms postprocess per image at shape (1, 3, 384, 640)\n",
      "Jogada nova detetada!\n",
      "FEN: 8/1RBRR3/1BP1P3/2PP4/2pp4/1pbpr3/1rk5/8 w KQkq - 0 1\n",
      "Imagem guardada em: detections\\detection_20250522-214649.jpg\n",
      "\n",
      "0: 384x640 1 black_bishop, 1 black_king, 2 black_knights, 6 black_pawns, 1 black_queen, 2 black_rooks, 2 white_bishops, 1 white_king, 7 white_pawns, 1 white_queen, 2 white_rooks, 239.5ms\n",
      "Speed: 2.9ms preprocess, 239.5ms inference, 0.9ms postprocess per image at shape (1, 3, 384, 640)\n",
      "Jogada nova detetada!\n",
      "FEN: 8/1RBRq3/1BP1P3/2PP4/2pp4/1pbpr3/1rk5/8 w KQkq - 0 1\n",
      "Imagem guardada em: detections\\detection_20250522-214650.jpg\n",
      "\n",
      "0: 384x640 1 black_bishop, 1 black_king, 2 black_knights, 6 black_pawns, 1 black_queen, 2 black_rooks, 2 white_bishops, 1 white_king, 7 white_pawns, 1 white_queen, 2 white_rooks, 212.6ms\n",
      "Speed: 2.4ms preprocess, 212.6ms inference, 1.1ms postprocess per image at shape (1, 3, 384, 640)\n",
      "Sem alterações no tabuleiro.\n",
      "\n",
      "0: 384x640 1 black_bishop, 1 black_king, 2 black_knights, 6 black_pawns, 1 black_queen, 2 black_rooks, 2 white_bishops, 1 white_king, 7 white_pawns, 1 white_queen, 2 white_rooks, 270.7ms\n",
      "Speed: 3.5ms preprocess, 270.7ms inference, 0.8ms postprocess per image at shape (1, 3, 384, 640)\n",
      "Sem alterações no tabuleiro.\n",
      "\n",
      "0: 384x640 1 black_bishop, 1 black_king, 2 black_knights, 6 black_pawns, 1 black_queen, 2 black_rooks, 2 white_bishops, 1 white_king, 7 white_pawns, 1 white_queen, 2 white_rooks, 260.4ms\n",
      "Speed: 2.6ms preprocess, 260.4ms inference, 1.1ms postprocess per image at shape (1, 3, 384, 640)\n",
      "Sem alterações no tabuleiro.\n",
      "\n",
      "0: 384x640 1 black_bishop, 1 black_king, 2 black_knights, 6 black_pawns, 1 black_queen, 2 black_rooks, 2 white_bishops, 1 white_king, 7 white_pawns, 1 white_queen, 2 white_rooks, 291.9ms\n",
      "Speed: 3.0ms preprocess, 291.9ms inference, 1.1ms postprocess per image at shape (1, 3, 384, 640)\n",
      "Sem alterações no tabuleiro.\n",
      "\n",
      "0: 384x640 1 black_bishop, 1 black_king, 2 black_knights, 6 black_pawns, 1 black_queen, 2 black_rooks, 2 white_bishops, 1 white_king, 7 white_pawns, 1 white_queen, 2 white_rooks, 240.7ms\n",
      "Speed: 2.2ms preprocess, 240.7ms inference, 0.9ms postprocess per image at shape (1, 3, 384, 640)\n",
      "Sem alterações no tabuleiro.\n",
      "\n",
      "0: 384x640 1 black_bishop, 1 black_king, 2 black_knights, 6 black_pawns, 1 black_queen, 2 black_rooks, 2 white_bishops, 1 white_king, 7 white_pawns, 1 white_queen, 2 white_rooks, 261.4ms\n",
      "Speed: 3.1ms preprocess, 261.4ms inference, 1.0ms postprocess per image at shape (1, 3, 384, 640)\n",
      "Jogada nova detetada!\n",
      "FEN: 8/1RBKR3/1BP1P3/2PP4/2pp4/1pbpr3/1rk5/8 w KQkq - 0 1\n",
      "Imagem guardada em: detections\\detection_20250522-214658.jpg\n",
      "\n",
      "0: 384x640 1 black_bishop, 1 black_king, 2 black_knights, 6 black_pawns, 1 black_queen, 2 black_rooks, 2 white_bishops, 1 white_king, 7 white_pawns, 1 white_queen, 2 white_rooks, 313.9ms\n",
      "Speed: 2.4ms preprocess, 313.9ms inference, 0.9ms postprocess per image at shape (1, 3, 384, 640)\n",
      "Sem alterações no tabuleiro.\n",
      "\n",
      "0: 384x640 1 black_bishop, 1 black_king, 2 black_knights, 6 black_pawns, 1 black_queen, 2 black_rooks, 2 white_bishops, 1 white_king, 7 white_pawns, 1 white_queen, 1 white_rook, 320.7ms\n",
      "Speed: 2.4ms preprocess, 320.7ms inference, 1.0ms postprocess per image at shape (1, 3, 384, 640)\n",
      "Jogada nova detetada!\n",
      "FEN: 8/1RBKq3/1BP1P3/2PP4/2pp4/1pbpr3/1rk5/8 w KQkq - 0 1\n",
      "Imagem guardada em: detections\\detection_20250522-214701.jpg\n",
      "\n",
      "0: 384x640 1 black_bishop, 1 black_king, 2 black_knights, 6 black_pawns, 1 black_queen, 2 black_rooks, 2 white_bishops, 1 white_king, 7 white_pawns, 1 white_queen, 1 white_rook, 284.3ms\n",
      "Speed: 2.1ms preprocess, 284.3ms inference, 0.8ms postprocess per image at shape (1, 3, 384, 640)\n",
      "Jogada nova detetada!\n",
      "FEN: 8/1RBPq3/1BP1P3/2PP4/2pp4/1pbpr3/1rk5/8 w KQkq - 0 1\n",
      "Imagem guardada em: detections\\detection_20250522-214702.jpg\n",
      "\n",
      "0: 384x640 1 black_bishop, 1 black_king, 2 black_knights, 6 black_pawns, 1 black_queen, 2 black_rooks, 2 white_bishops, 1 white_king, 7 white_pawns, 1 white_queen, 1 white_rook, 365.4ms\n",
      "Speed: 2.4ms preprocess, 365.4ms inference, 1.1ms postprocess per image at shape (1, 3, 384, 640)\n",
      "Jogada nova detetada!\n",
      "FEN: 8/1RBP4/1BP1P3/2PP4/2pp4/1pbpr3/1rk5/8 w KQkq - 0 1\n",
      "Imagem guardada em: detections\\detection_20250522-214704.jpg\n",
      "\n",
      "0: 384x640 1 black_bishop, 1 black_king, 2 black_knights, 5 black_pawns, 1 black_queen, 2 black_rooks, 2 white_bishops, 1 white_king, 5 white_pawns, 1 white_queen, 1 white_rook, 528.9ms\n",
      "Speed: 3.8ms preprocess, 528.9ms inference, 1.5ms postprocess per image at shape (1, 3, 384, 640)\n",
      "Jogada nova detetada!\n",
      "FEN: 8/1RBP4/1BK1P3/3P4/3p4/1ppnr3/1rk5/8 w KQkq - 0 1\n",
      "Imagem guardada em: detections\\detection_20250522-214706.jpg\n",
      "\n",
      "0: 384x640 1 black_bishop, 1 black_king, 2 black_knights, 4 black_pawns, 1 black_queen, 3 black_rooks, 2 white_bishops, 1 white_king, 5 white_pawns, 1 white_queen, 1 white_rook, 330.4ms\n",
      "Speed: 2.2ms preprocess, 330.4ms inference, 1.0ms postprocess per image at shape (1, 3, 384, 640)\n",
      "Jogada nova detetada!\n",
      "FEN: 8/1RBP4/1BK1P3/3P4/2rp4/1pbnr3/1rk5/8 w KQkq - 0 1\n",
      "Imagem guardada em: detections\\detection_20250522-214707.jpg\n",
      "\n",
      "0: 384x640 1 black_bishop, 1 black_king, 2 black_knights, 4 black_pawns, 1 black_queen, 3 black_rooks, 2 white_bishops, 1 white_king, 5 white_pawns, 1 white_queen, 1 white_rook, 314.7ms\n",
      "Speed: 3.5ms preprocess, 314.7ms inference, 1.0ms postprocess per image at shape (1, 3, 384, 640)\n",
      "Sem alterações no tabuleiro.\n",
      "\n",
      "0: 384x640 1 black_knight, 2 black_pawns, 1 black_rook, 2 white_bishops, 2 white_pawns, 1 white_queen, 1 white_rook, 279.2ms\n",
      "Speed: 4.6ms preprocess, 279.2ms inference, 1.0ms postprocess per image at shape (1, 3, 384, 640)\n",
      "Jogada nova detetada!\n",
      "FEN: 8/1RB5/1BQ5/8/8/1p6/1r6/8 w KQkq - 0 1\n",
      "Imagem guardada em: detections\\detection_20250522-214710.jpg\n",
      "\n",
      "0: 384x640 (no detections), 274.6ms\n",
      "Speed: 2.9ms preprocess, 274.6ms inference, 0.5ms postprocess per image at shape (1, 3, 384, 640)\n",
      "Jogada nova detetada!\n",
      "FEN: 8/8/8/8/8/8/8/8 w KQkq - 0 1\n",
      "Imagem guardada em: detections\\detection_20250522-214711.jpg\n",
      "\n",
      "0: 384x640 1 white_queen, 228.5ms\n",
      "Speed: 2.3ms preprocess, 228.5ms inference, 0.7ms postprocess per image at shape (1, 3, 384, 640)\n",
      "Jogada nova detetada!\n",
      "FEN: 8/8/8/8/4Q3/8/8/8 w KQkq - 0 1\n",
      "Imagem guardada em: detections\\detection_20250522-214712.jpg\n",
      "\n",
      "0: 384x640 1 white_queen, 227.1ms\n",
      "Speed: 2.2ms preprocess, 227.1ms inference, 0.7ms postprocess per image at shape (1, 3, 384, 640)\n",
      "Sem alterações no tabuleiro.\n",
      "\n",
      "0: 384x640 (no detections), 233.0ms\n",
      "Speed: 2.1ms preprocess, 233.0ms inference, 0.5ms postprocess per image at shape (1, 3, 384, 640)\n",
      "Jogada nova detetada!\n",
      "FEN: 8/8/8/8/8/8/8/8 w KQkq - 0 1\n",
      "Imagem guardada em: detections\\detection_20250522-214715.jpg\n",
      "\n",
      "0: 384x640 (no detections), 248.5ms\n",
      "Speed: 4.1ms preprocess, 248.5ms inference, 0.4ms postprocess per image at shape (1, 3, 384, 640)\n",
      "Sem alterações no tabuleiro.\n"
     ]
    },
    {
     "ename": "KeyboardInterrupt",
     "evalue": "",
     "output_type": "error",
     "traceback": [
      "\u001b[31m---------------------------------------------------------------------------\u001b[39m",
      "\u001b[31mKeyboardInterrupt\u001b[39m                         Traceback (most recent call last)",
      "\u001b[36mCell\u001b[39m\u001b[36m \u001b[39m\u001b[32mIn[182]\u001b[39m\u001b[32m, line 35\u001b[39m\n\u001b[32m     32\u001b[39m \u001b[38;5;66;03m# Convert BGR para RGB para mostrar corretamente\u001b[39;00m\n\u001b[32m     33\u001b[39m annotated_rgb = cv2.cvtColor(annotated_frame, cv2.COLOR_BGR2RGB)\n\u001b[32m---> \u001b[39m\u001b[32m35\u001b[39m \u001b[43mtime\u001b[49m\u001b[43m.\u001b[49m\u001b[43msleep\u001b[49m\u001b[43m(\u001b[49m\u001b[32;43m1\u001b[39;49m\u001b[43m)\u001b[49m\n",
      "\u001b[31mKeyboardInterrupt\u001b[39m: "
     ]
    }
   ],
   "source": [
    "last_fen = None\n",
    "\n",
    "while True:\n",
    "    img = capture_screen()\n",
    "    img_height, img_width, _ = img.shape\n",
    "\n",
    "    results = model(img, conf=0.7)\n",
    "\n",
    "    boxes = results[0].boxes.xyxy.tolist()\n",
    "    cls_ids = results[0].boxes.cls.tolist()\n",
    "    class_names = model.names\n",
    "\n",
    "    detections = []\n",
    "    for box, cls_id in zip(boxes, cls_ids):\n",
    "        cls_name = class_names[int(cls_id)]\n",
    "        detections.append((box, cls_name))\n",
    "\n",
    "    current_fen = create_fen_from_detections(detections, img_width, img_height)\n",
    "\n",
    "    if current_fen != last_fen:\n",
    "        print(\"Jogada nova detetada!\")\n",
    "        print(\"FEN:\", current_fen)\n",
    "\n",
    "        timestamp = time.strftime(\"%Y%m%d-%H%M%S\")\n",
    "        save_detection_image(img, results, timestamp)\n",
    "\n",
    "        last_fen = current_fen\n",
    "    else:\n",
    "        print(\"Sem alterações no tabuleiro.\")\n",
    "\n",
    "    annotated_frame = results[0].plot()\n",
    "    # Convert BGR para RGB para mostrar corretamente\n",
    "    annotated_rgb = cv2.cvtColor(annotated_frame, cv2.COLOR_BGR2RGB)\n",
    "\n",
    "    time.sleep(1)"
   ]
  }
 ],
 "metadata": {
  "kernelspec": {
   "display_name": "Python 3",
   "language": "python",
   "name": "python3"
  },
  "language_info": {
   "codemirror_mode": {
    "name": "ipython",
    "version": 3
   },
   "file_extension": ".py",
   "mimetype": "text/x-python",
   "name": "python",
   "nbconvert_exporter": "python",
   "pygments_lexer": "ipython3",
   "version": "3.12.6"
  }
 },
 "nbformat": 4,
 "nbformat_minor": 5
}
